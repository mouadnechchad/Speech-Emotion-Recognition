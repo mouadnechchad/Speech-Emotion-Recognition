{
 "cells": [
  {
   "cell_type": "code",
   "execution_count": 1,
   "metadata": {
    "colab": {},
    "colab_type": "code",
    "id": "2LCe-eWs_P-c"
   },
   "outputs": [],
   "source": [
    "import soundfile\n",
    "import numpy as np\n",
    "import librosa\n",
    "import glob\n",
    "import os\n",
    "from sklearn.model_selection import train_test_split\n",
    "\n",
    "# all emotions on RAVDESS dataset\n",
    "int2emotion = {\n",
    "    \"01\": \"neutral\",\n",
    "    \"02\": \"calm\",\n",
    "    \"03\": \"happy\",\n",
    "    \"04\": \"sad\",\n",
    "    \"05\": \"angry\",\n",
    "    \"06\": \"fearful\",\n",
    "    \"07\": \"disgust\",\n",
    "    \"08\": \"surprised\"\n",
    "}\n",
    "\n",
    "# we allow only these emotions\n",
    "AVAILABLE_EMOTIONS = {\n",
    "    \"angry\",\n",
    "    \"sad\",\n",
    "    \"neutral\",\n",
    "    \"happy\"\n",
    "}"
   ]
  },
  {
   "cell_type": "code",
   "execution_count": 2,
   "metadata": {
    "colab": {},
    "colab_type": "code",
    "id": "wQlrNgst_oa0"
   },
   "outputs": [],
   "source": [
    "def extract_feature(file_name, **kwargs):\n",
    "    \"\"\"\n",
    "    Extract feature from audio file `file_name`\n",
    "        Features supported:\n",
    "            - MFCC (mfcc)\n",
    "            - Chroma (chroma)\n",
    "            - MEL Spectrogram Frequency (mel)\n",
    "            - Contrast (contrast)\n",
    "            - Tonnetz (tonnetz)\n",
    "        e.g:\n",
    "        `features = extract_feature(path, mel=True, mfcc=True)`\n",
    "    \"\"\"\n",
    "    mfcc = kwargs.get(\"mfcc\")\n",
    "    chroma = kwargs.get(\"chroma\")\n",
    "    mel = kwargs.get(\"mel\")\n",
    "    contrast = kwargs.get(\"contrast\")\n",
    "    tonnetz = kwargs.get(\"tonnetz\")\n",
    "    with soundfile.SoundFile(file_name) as sound_file:\n",
    "        X = sound_file.read(dtype=\"float32\")\n",
    "        sample_rate = sound_file.samplerate\n",
    "        if chroma or contrast:\n",
    "            stft = np.abs(librosa.stft(X))\n",
    "        result = np.array([])\n",
    "        if mfcc:\n",
    "            mfccs = np.mean(librosa.feature.mfcc(y=X, sr=sample_rate, n_mfcc=40).T, axis=0)\n",
    "            result = np.hstack((result, mfccs))\n",
    "        if chroma:\n",
    "            chroma = np.mean(librosa.feature.chroma_stft(S=stft, sr=sample_rate).T,axis=0)\n",
    "            result = np.hstack((result, chroma))\n",
    "        if mel:\n",
    "            mel = np.mean(librosa.feature.melspectrogram(X, sr=sample_rate).T,axis=0)\n",
    "            result = np.hstack((result, mel))\n",
    "        if contrast:\n",
    "            contrast = np.mean(librosa.feature.spectral_contrast(S=stft, sr=sample_rate).T,axis=0)\n",
    "            result = np.hstack((result, contrast))\n",
    "        if tonnetz:\n",
    "            tonnetz = np.mean(librosa.feature.tonnetz(y=librosa.effects.harmonic(X), sr=sample_rate).T,axis=0)\n",
    "            result = np.hstack((result, tonnetz))\n",
    "    return result"
   ]
  },
  {
   "cell_type": "code",
   "execution_count": 5,
   "metadata": {
    "colab": {},
    "colab_type": "code",
    "id": "PWOhBXUk_cNU"
   },
   "outputs": [],
   "source": [
    "def load_data(test_size=0.2):\n",
    "    X, y = [], []\n",
    "    try :\n",
    "      for file in glob.glob(\"Ravdess_dataset/Actor_*/*.wav\"):\n",
    "          # get the base name of the audio file\n",
    "          basename = os.path.basename(file)\n",
    "          print(basename)\n",
    "          # get the emotion label\n",
    "          emotion = int2emotion[basename.split(\"-\")[2]]\n",
    "          # we allow only AVAILABLE_EMOTIONS we set\n",
    "          if emotion not in AVAILABLE_EMOTIONS:\n",
    "              continue\n",
    "          # extract speech features\n",
    "          features = extract_feature(file, mfcc=True, chroma=True, mel=True)\n",
    "          # add to data\n",
    "          X.append(features)\n",
    "          y.append(emotion)\n",
    "    except :\n",
    "         pass\n",
    "    # split the data to training and testing and return it\n",
    "    return train_test_split(np.array(X), y, test_size=test_size, random_state=7)"
   ]
  },
  {
   "cell_type": "code",
   "execution_count": 6,
   "metadata": {
    "colab": {
     "base_uri": "https://localhost:8080/",
     "height": 1000
    },
    "colab_type": "code",
    "id": "okb7d-c3_z4l",
    "outputId": "5438af64-6c3e-4dae-dbfd-e884b29570a3"
   },
   "outputs": [
    {
     "name": "stdout",
     "output_type": "stream",
     "text": [
      "03-01-01-01-01-01-01.wav\n",
      "03-01-01-01-01-02-01.wav\n",
      "03-01-01-01-02-01-01.wav\n"
     ]
    },
    {
     "name": "stderr",
     "output_type": "stream",
     "text": [
      "C:\\Users\\Mouad\\AppData\\Local\\Temp/ipykernel_12796/1163463125.py:31: FutureWarning: Pass y=[0. 0. 0. ... 0. 0. 0.] as keyword args. From version 0.10 passing these as positional arguments will result in an error\n",
      "  mel = np.mean(librosa.feature.melspectrogram(X, sr=sample_rate).T,axis=0)\n",
      "C:\\Users\\Mouad\\AppData\\Local\\Temp/ipykernel_12796/1163463125.py:31: FutureWarning: Pass y=[ 3.0517578e-05  3.0517578e-05  3.0517578e-05 ...  0.0000000e+00\n",
      "  0.0000000e+00 -3.0517578e-05] as keyword args. From version 0.10 passing these as positional arguments will result in an error\n",
      "  mel = np.mean(librosa.feature.melspectrogram(X, sr=sample_rate).T,axis=0)\n",
      "C:\\Users\\Mouad\\AppData\\Local\\Temp/ipykernel_12796/1163463125.py:31: FutureWarning: Pass y=[3.0517578e-05 3.0517578e-05 0.0000000e+00 ... 0.0000000e+00 0.0000000e+00\n",
      " 0.0000000e+00] as keyword args. From version 0.10 passing these as positional arguments will result in an error\n",
      "  mel = np.mean(librosa.feature.melspectrogram(X, sr=sample_rate).T,axis=0)\n"
     ]
    },
    {
     "name": "stdout",
     "output_type": "stream",
     "text": [
      "03-01-01-01-02-02-01.wav\n",
      "03-01-02-01-01-01-01.wav\n",
      "03-01-02-01-01-02-01.wav\n",
      "03-01-02-01-02-01-01.wav\n",
      "03-01-02-01-02-02-01.wav\n",
      "03-01-02-02-01-01-01.wav\n",
      "03-01-02-02-01-02-01.wav\n",
      "03-01-02-02-02-01-01.wav\n",
      "03-01-02-02-02-02-01.wav\n",
      "03-01-03-01-01-01-01.wav\n",
      "03-01-03-01-01-02-01.wav\n",
      "03-01-03-01-02-01-01.wav\n",
      "03-01-03-01-02-02-01.wav\n",
      "03-01-03-02-01-01-01.wav\n",
      "03-01-03-02-01-02-01.wav\n"
     ]
    },
    {
     "name": "stderr",
     "output_type": "stream",
     "text": [
      "C:\\Users\\Mouad\\AppData\\Local\\Temp/ipykernel_12796/1163463125.py:31: FutureWarning: Pass y=[0.0000000e+00 0.0000000e+00 0.0000000e+00 ... 3.0517578e-05 0.0000000e+00\n",
      " 0.0000000e+00] as keyword args. From version 0.10 passing these as positional arguments will result in an error\n",
      "  mel = np.mean(librosa.feature.melspectrogram(X, sr=sample_rate).T,axis=0)\n",
      "C:\\Users\\Mouad\\AppData\\Local\\Temp/ipykernel_12796/1163463125.py:31: FutureWarning: Pass y=[0.0000000e+00 0.0000000e+00 3.0517578e-05 ... 0.0000000e+00 0.0000000e+00\n",
      " 0.0000000e+00] as keyword args. From version 0.10 passing these as positional arguments will result in an error\n",
      "  mel = np.mean(librosa.feature.melspectrogram(X, sr=sample_rate).T,axis=0)\n"
     ]
    },
    {
     "name": "stdout",
     "output_type": "stream",
     "text": [
      "03-01-03-02-02-01-01.wav\n",
      "03-01-03-02-02-02-01.wav\n",
      "03-01-04-01-01-01-01.wav\n",
      "03-01-04-01-01-02-01.wav\n",
      "03-01-04-01-02-01-01.wav\n",
      "03-01-04-01-02-02-01.wav\n",
      "03-01-04-02-01-01-01.wav\n",
      "03-01-04-02-01-02-01.wav\n",
      "03-01-04-02-02-01-01.wav\n",
      "03-01-04-02-02-02-01.wav\n",
      "03-01-05-01-01-01-01.wav\n",
      "03-01-05-01-01-02-01.wav\n",
      "03-01-05-01-02-01-01.wav\n"
     ]
    },
    {
     "name": "stderr",
     "output_type": "stream",
     "text": [
      "C:\\Users\\Mouad\\AppData\\Local\\Temp/ipykernel_12796/1163463125.py:31: FutureWarning: Pass y=[ 0.0000000e+00 -3.0517578e-05 -3.0517578e-05 ...  0.0000000e+00\n",
      "  0.0000000e+00  0.0000000e+00] as keyword args. From version 0.10 passing these as positional arguments will result in an error\n",
      "  mel = np.mean(librosa.feature.melspectrogram(X, sr=sample_rate).T,axis=0)\n",
      "C:\\Users\\Mouad\\AppData\\Local\\Temp/ipykernel_12796/1163463125.py:31: FutureWarning: Pass y=[-0.00061035 -0.00048828 -0.00039673 ...  0.          0.\n",
      "  0.        ] as keyword args. From version 0.10 passing these as positional arguments will result in an error\n",
      "  mel = np.mean(librosa.feature.melspectrogram(X, sr=sample_rate).T,axis=0)\n"
     ]
    },
    {
     "name": "stdout",
     "output_type": "stream",
     "text": [
      "03-01-05-01-02-02-01.wav\n",
      "03-01-05-02-01-01-01.wav\n",
      "03-01-05-02-01-02-01.wav\n"
     ]
    },
    {
     "name": "stderr",
     "output_type": "stream",
     "text": [
      "C:\\Users\\Mouad\\AppData\\Local\\Temp/ipykernel_12796/1163463125.py:31: FutureWarning: Pass y=[ 0.00231934  0.00213623 -0.00231934 ...  0.          0.\n",
      "  0.        ] as keyword args. From version 0.10 passing these as positional arguments will result in an error\n",
      "  mel = np.mean(librosa.feature.melspectrogram(X, sr=sample_rate).T,axis=0)\n",
      "C:\\Users\\Mouad\\AppData\\Local\\Temp/ipykernel_12796/1163463125.py:31: FutureWarning: Pass y=[ 7.3242188e-04  1.0986328e-03 -6.7138672e-04 ...  9.1552734e-05\n",
      "  3.6621094e-04  0.0000000e+00] as keyword args. From version 0.10 passing these as positional arguments will result in an error\n",
      "  mel = np.mean(librosa.feature.melspectrogram(X, sr=sample_rate).T,axis=0)\n",
      "C:\\Users\\Mouad\\AppData\\Local\\Temp/ipykernel_12796/1163463125.py:31: FutureWarning: Pass y=[0.00033569 0.00024414 0.00024414 ... 0.00036621 0.00033569 0.00045776] as keyword args. From version 0.10 passing these as positional arguments will result in an error\n",
      "  mel = np.mean(librosa.feature.melspectrogram(X, sr=sample_rate).T,axis=0)\n"
     ]
    },
    {
     "name": "stdout",
     "output_type": "stream",
     "text": [
      "03-01-05-02-02-01-01.wav\n",
      "03-01-05-02-02-02-01.wav\n",
      "03-01-06-01-01-01-01.wav\n",
      "03-01-06-01-01-02-01.wav\n",
      "03-01-06-01-02-01-01.wav\n",
      "03-01-06-01-02-02-01.wav\n",
      "03-01-06-02-01-01-01.wav\n",
      "03-01-06-02-01-02-01.wav\n",
      "03-01-06-02-02-01-01.wav\n",
      "03-01-06-02-02-02-01.wav\n",
      "03-01-07-01-01-01-01.wav\n",
      "03-01-07-01-01-02-01.wav\n",
      "03-01-07-01-02-01-01.wav\n",
      "03-01-07-01-02-02-01.wav\n",
      "03-01-07-02-01-01-01.wav\n",
      "03-01-07-02-01-02-01.wav\n",
      "03-01-07-02-02-01-01.wav\n",
      "03-01-07-02-02-02-01.wav\n",
      "03-01-08-01-01-01-01.wav\n",
      "03-01-08-01-01-02-01.wav\n",
      "03-01-08-01-02-01-01.wav\n",
      "03-01-08-01-02-02-01.wav\n",
      "03-01-08-02-01-01-01.wav\n",
      "03-01-08-02-01-02-01.wav\n",
      "03-01-08-02-02-01-01.wav\n",
      "03-01-08-02-02-02-01.wav\n",
      "03-01-01-01-01-01-02.wav\n",
      "03-01-01-01-01-02-02.wav\n",
      "03-01-01-01-02-01-02.wav\n",
      "03-01-01-01-02-02-02.wav\n"
     ]
    },
    {
     "name": "stderr",
     "output_type": "stream",
     "text": [
      "C:\\Users\\Mouad\\AppData\\Local\\Temp/ipykernel_12796/1163463125.py:31: FutureWarning: Pass y=[0.0000000e+00 0.0000000e+00 0.0000000e+00 ... 0.0000000e+00 0.0000000e+00\n",
      " 3.0517578e-05] as keyword args. From version 0.10 passing these as positional arguments will result in an error\n",
      "  mel = np.mean(librosa.feature.melspectrogram(X, sr=sample_rate).T,axis=0)\n"
     ]
    },
    {
     "name": "stdout",
     "output_type": "stream",
     "text": [
      "03-01-02-01-01-01-02.wav\n",
      "03-01-02-01-01-02-02.wav\n",
      "03-01-02-01-02-01-02.wav\n",
      "03-01-02-01-02-02-02.wav\n",
      "03-01-02-02-01-01-02.wav\n",
      "03-01-02-02-01-02-02.wav\n",
      "03-01-02-02-02-01-02.wav\n",
      "03-01-02-02-02-02-02.wav\n",
      "03-01-03-01-01-01-02.wav\n",
      "03-01-03-01-01-02-02.wav\n",
      "03-01-03-01-02-01-02.wav\n",
      "03-01-03-01-02-02-02.wav\n",
      "03-01-03-02-01-01-02.wav\n",
      "03-01-03-02-01-02-02.wav\n",
      "03-01-03-02-02-01-02.wav\n"
     ]
    },
    {
     "name": "stderr",
     "output_type": "stream",
     "text": [
      "C:\\Users\\Mouad\\AppData\\Local\\Temp/ipykernel_12796/1163463125.py:31: FutureWarning: Pass y=[ 0.0000000e+00  0.0000000e+00  0.0000000e+00 ...  0.0000000e+00\n",
      "  0.0000000e+00 -3.0517578e-05] as keyword args. From version 0.10 passing these as positional arguments will result in an error\n",
      "  mel = np.mean(librosa.feature.melspectrogram(X, sr=sample_rate).T,axis=0)\n"
     ]
    },
    {
     "name": "stdout",
     "output_type": "stream",
     "text": [
      "03-01-03-02-02-02-02.wav\n",
      "03-01-04-01-01-01-02.wav\n",
      "03-01-04-01-01-02-02.wav\n",
      "03-01-04-01-02-01-02.wav\n",
      "03-01-04-01-02-02-02.wav\n",
      "03-01-04-02-01-01-02.wav\n"
     ]
    },
    {
     "name": "stderr",
     "output_type": "stream",
     "text": [
      "C:\\Users\\Mouad\\AppData\\Local\\Temp/ipykernel_12796/1163463125.py:31: FutureWarning: Pass y=[ 0.0000000e+00  0.0000000e+00  0.0000000e+00 ... -3.0517578e-05\n",
      "  0.0000000e+00  0.0000000e+00] as keyword args. From version 0.10 passing these as positional arguments will result in an error\n",
      "  mel = np.mean(librosa.feature.melspectrogram(X, sr=sample_rate).T,axis=0)\n"
     ]
    },
    {
     "name": "stdout",
     "output_type": "stream",
     "text": [
      "03-01-04-02-01-02-02.wav\n",
      "03-01-04-02-02-01-02.wav\n",
      "03-01-04-02-02-02-02.wav\n",
      "03-01-05-01-01-01-02.wav\n",
      "03-01-05-01-01-02-02.wav\n",
      "03-01-05-01-02-01-02.wav\n"
     ]
    },
    {
     "name": "stderr",
     "output_type": "stream",
     "text": [
      "C:\\Users\\Mouad\\AppData\\Local\\Temp/ipykernel_12796/1163463125.py:31: FutureWarning: Pass y=[ 0.0000000e+00  0.0000000e+00  0.0000000e+00 ... -3.0517578e-05\n",
      " -3.0517578e-05  0.0000000e+00] as keyword args. From version 0.10 passing these as positional arguments will result in an error\n",
      "  mel = np.mean(librosa.feature.melspectrogram(X, sr=sample_rate).T,axis=0)\n",
      "C:\\Users\\Mouad\\AppData\\Local\\Temp/ipykernel_12796/1163463125.py:31: FutureWarning: Pass y=[0.0000000e+00 0.0000000e+00 0.0000000e+00 ... 0.0000000e+00 3.0517578e-05\n",
      " 3.0517578e-05] as keyword args. From version 0.10 passing these as positional arguments will result in an error\n",
      "  mel = np.mean(librosa.feature.melspectrogram(X, sr=sample_rate).T,axis=0)\n"
     ]
    },
    {
     "name": "stdout",
     "output_type": "stream",
     "text": [
      "03-01-05-01-02-02-02.wav\n",
      "03-01-05-02-01-01-02.wav\n",
      "03-01-05-02-01-02-02.wav\n"
     ]
    },
    {
     "name": "stderr",
     "output_type": "stream",
     "text": [
      "C:\\Users\\Mouad\\AppData\\Local\\Temp/ipykernel_12796/1163463125.py:31: FutureWarning: Pass y=[0.0000000e+00 0.0000000e+00 0.0000000e+00 ... 3.0517578e-05 3.0517578e-05\n",
      " 0.0000000e+00] as keyword args. From version 0.10 passing these as positional arguments will result in an error\n",
      "  mel = np.mean(librosa.feature.melspectrogram(X, sr=sample_rate).T,axis=0)\n"
     ]
    },
    {
     "name": "stdout",
     "output_type": "stream",
     "text": [
      "03-01-05-02-02-01-02.wav\n",
      "03-01-05-02-02-02-02.wav\n",
      "03-01-06-01-01-01-02.wav\n",
      "03-01-06-01-01-02-02.wav\n",
      "03-01-06-01-02-01-02.wav\n",
      "03-01-06-01-02-02-02.wav\n",
      "03-01-06-02-01-01-02.wav\n",
      "03-01-06-02-01-02-02.wav\n",
      "03-01-06-02-02-01-02.wav\n",
      "03-01-06-02-02-02-02.wav\n",
      "03-01-07-01-01-01-02.wav\n",
      "03-01-07-01-01-02-02.wav\n",
      "03-01-07-01-02-01-02.wav\n",
      "03-01-07-01-02-02-02.wav\n",
      "03-01-07-02-01-01-02.wav\n",
      "03-01-07-02-01-02-02.wav\n",
      "03-01-07-02-02-01-02.wav\n",
      "03-01-07-02-02-02-02.wav\n",
      "03-01-08-01-01-01-02.wav\n",
      "03-01-08-01-01-02-02.wav\n",
      "03-01-08-01-02-01-02.wav\n",
      "03-01-08-01-02-02-02.wav\n",
      "03-01-08-02-01-01-02.wav\n",
      "03-01-08-02-01-02-02.wav\n",
      "03-01-08-02-02-01-02.wav\n",
      "03-01-08-02-02-02-02.wav\n",
      "03-01-01-01-01-01-03.wav\n"
     ]
    },
    {
     "name": "stderr",
     "output_type": "stream",
     "text": [
      "C:\\Users\\Mouad\\AppData\\Local\\Temp/ipykernel_12796/1163463125.py:31: FutureWarning: Pass y=[-3.0517578e-05  0.0000000e+00  0.0000000e+00 ...  6.1035156e-05\n",
      "  3.0517578e-05  0.0000000e+00] as keyword args. From version 0.10 passing these as positional arguments will result in an error\n",
      "  mel = np.mean(librosa.feature.melspectrogram(X, sr=sample_rate).T,axis=0)\n",
      "C:\\Users\\Mouad\\AppData\\Local\\Temp/ipykernel_12796/1163463125.py:31: FutureWarning: Pass y=[-3.0517578e-05 -3.0517578e-05 -3.0517578e-05 ... -3.0517578e-05\n",
      "  0.0000000e+00  0.0000000e+00] as keyword args. From version 0.10 passing these as positional arguments will result in an error\n",
      "  mel = np.mean(librosa.feature.melspectrogram(X, sr=sample_rate).T,axis=0)\n"
     ]
    },
    {
     "name": "stdout",
     "output_type": "stream",
     "text": [
      "03-01-01-01-01-02-03.wav\n",
      "03-01-01-01-02-01-03.wav\n",
      "03-01-01-01-02-02-03.wav\n"
     ]
    },
    {
     "name": "stderr",
     "output_type": "stream",
     "text": [
      "C:\\Users\\Mouad\\AppData\\Local\\Temp/ipykernel_12796/1163463125.py:31: FutureWarning: Pass y=[6.1035156e-05 3.0517578e-05 0.0000000e+00 ... 0.0000000e+00 0.0000000e+00\n",
      " 0.0000000e+00] as keyword args. From version 0.10 passing these as positional arguments will result in an error\n",
      "  mel = np.mean(librosa.feature.melspectrogram(X, sr=sample_rate).T,axis=0)\n",
      "C:\\Users\\Mouad\\AppData\\Local\\Temp/ipykernel_12796/1163463125.py:31: FutureWarning: Pass y=[ 6.1035156e-05  6.1035156e-05  9.1552734e-05 ... -3.0517578e-05\n",
      "  0.0000000e+00  0.0000000e+00] as keyword args. From version 0.10 passing these as positional arguments will result in an error\n",
      "  mel = np.mean(librosa.feature.melspectrogram(X, sr=sample_rate).T,axis=0)\n",
      "C:\\Users\\Mouad\\AppData\\Local\\Temp/ipykernel_12796/1163463125.py:31: FutureWarning: Pass y=[ 5.1879883e-04 -6.1035156e-05 -4.2724609e-04 ...  0.0000000e+00\n",
      " -9.1552734e-05 -6.1035156e-05] as keyword args. From version 0.10 passing these as positional arguments will result in an error\n",
      "  mel = np.mean(librosa.feature.melspectrogram(X, sr=sample_rate).T,axis=0)\n"
     ]
    },
    {
     "name": "stdout",
     "output_type": "stream",
     "text": [
      "03-01-02-01-01-01-03.wav\n",
      "03-01-02-01-01-02-03.wav\n",
      "03-01-02-01-02-01-03.wav\n",
      "03-01-02-01-02-02-03.wav\n",
      "03-01-02-02-01-01-03.wav\n",
      "03-01-02-02-01-02-03.wav\n",
      "03-01-02-02-02-01-03.wav\n",
      "03-01-02-02-02-02-03.wav\n",
      "03-01-03-01-01-01-03.wav\n",
      "03-01-03-01-01-02-03.wav\n",
      "03-01-03-01-02-01-03.wav\n",
      "03-01-03-01-02-02-03.wav\n",
      "03-01-03-02-01-01-03.wav\n",
      "03-01-03-02-01-02-03.wav\n"
     ]
    },
    {
     "name": "stderr",
     "output_type": "stream",
     "text": [
      "C:\\Users\\Mouad\\AppData\\Local\\Temp/ipykernel_12796/1163463125.py:31: FutureWarning: Pass y=[ 1.2207031e-04  1.5258789e-04 -3.0517578e-05 ...  0.0000000e+00\n",
      "  0.0000000e+00  0.0000000e+00] as keyword args. From version 0.10 passing these as positional arguments will result in an error\n",
      "  mel = np.mean(librosa.feature.melspectrogram(X, sr=sample_rate).T,axis=0)\n",
      "C:\\Users\\Mouad\\AppData\\Local\\Temp/ipykernel_12796/1163463125.py:31: FutureWarning: Pass y=[-0.00027466 -0.00024414 -0.00027466 ... -0.00015259 -0.00021362\n",
      " -0.00024414] as keyword args. From version 0.10 passing these as positional arguments will result in an error\n",
      "  mel = np.mean(librosa.feature.melspectrogram(X, sr=sample_rate).T,axis=0)\n",
      "C:\\Users\\Mouad\\AppData\\Local\\Temp/ipykernel_12796/1163463125.py:31: FutureWarning: Pass y=[-9.1552734e-05 -9.1552734e-04 -1.0986328e-03 ...  2.7465820e-04\n",
      "  3.0517578e-04  3.6621094e-04] as keyword args. From version 0.10 passing these as positional arguments will result in an error\n",
      "  mel = np.mean(librosa.feature.melspectrogram(X, sr=sample_rate).T,axis=0)\n"
     ]
    },
    {
     "name": "stdout",
     "output_type": "stream",
     "text": [
      "03-01-03-02-02-01-03.wav\n",
      "03-01-03-02-02-02-03.wav\n",
      "03-01-04-01-01-01-03.wav\n"
     ]
    },
    {
     "name": "stderr",
     "output_type": "stream",
     "text": [
      "C:\\Users\\Mouad\\AppData\\Local\\Temp/ipykernel_12796/1163463125.py:31: FutureWarning: Pass y=[ 0.0000000e+00  0.0000000e+00  0.0000000e+00 ... -6.1035156e-05\n",
      " -1.5258789e-04 -1.5258789e-04] as keyword args. From version 0.10 passing these as positional arguments will result in an error\n",
      "  mel = np.mean(librosa.feature.melspectrogram(X, sr=sample_rate).T,axis=0)\n",
      "C:\\Users\\Mouad\\AppData\\Local\\Temp/ipykernel_12796/1163463125.py:31: FutureWarning: Pass y=[0.0000000e+00 0.0000000e+00 0.0000000e+00 ... 6.1035156e-05 6.1035156e-05\n",
      " 3.0517578e-05] as keyword args. From version 0.10 passing these as positional arguments will result in an error\n",
      "  mel = np.mean(librosa.feature.melspectrogram(X, sr=sample_rate).T,axis=0)\n",
      "C:\\Users\\Mouad\\AppData\\Local\\Temp/ipykernel_12796/1163463125.py:31: FutureWarning: Pass y=[ 0.          0.          0.         ... -0.00042725 -0.00039673\n",
      " -0.00033569] as keyword args. From version 0.10 passing these as positional arguments will result in an error\n",
      "  mel = np.mean(librosa.feature.melspectrogram(X, sr=sample_rate).T,axis=0)\n"
     ]
    },
    {
     "name": "stdout",
     "output_type": "stream",
     "text": [
      "03-01-04-01-01-02-03.wav\n",
      "03-01-04-01-02-01-03.wav\n",
      "03-01-04-01-02-02-03.wav\n"
     ]
    },
    {
     "name": "stderr",
     "output_type": "stream",
     "text": [
      "C:\\Users\\Mouad\\AppData\\Local\\Temp/ipykernel_12796/1163463125.py:31: FutureWarning: Pass y=[-3.0517578e-05  0.0000000e+00 -3.0517578e-05 ...  2.7465820e-04\n",
      "  3.0517578e-04  2.7465820e-04] as keyword args. From version 0.10 passing these as positional arguments will result in an error\n",
      "  mel = np.mean(librosa.feature.melspectrogram(X, sr=sample_rate).T,axis=0)\n",
      "C:\\Users\\Mouad\\AppData\\Local\\Temp/ipykernel_12796/1163463125.py:31: FutureWarning: Pass y=[ 0.0000000e+00  3.0517578e-05  3.0517578e-05 ...  0.0000000e+00\n",
      " -3.0517578e-05 -6.1035156e-05] as keyword args. From version 0.10 passing these as positional arguments will result in an error\n",
      "  mel = np.mean(librosa.feature.melspectrogram(X, sr=sample_rate).T,axis=0)\n",
      "C:\\Users\\Mouad\\AppData\\Local\\Temp/ipykernel_12796/1163463125.py:31: FutureWarning: Pass y=[-6.7138672e-04 -7.0190430e-04 -6.1035156e-04 ...  6.1035156e-05\n",
      "  6.1035156e-05  6.1035156e-05] as keyword args. From version 0.10 passing these as positional arguments will result in an error\n",
      "  mel = np.mean(librosa.feature.melspectrogram(X, sr=sample_rate).T,axis=0)\n"
     ]
    },
    {
     "name": "stdout",
     "output_type": "stream",
     "text": [
      "03-01-04-02-01-01-03.wav\n",
      "03-01-04-02-01-02-03.wav\n",
      "03-01-04-02-02-01-03.wav\n"
     ]
    },
    {
     "name": "stderr",
     "output_type": "stream",
     "text": [
      "C:\\Users\\Mouad\\AppData\\Local\\Temp/ipykernel_12796/1163463125.py:31: FutureWarning: Pass y=[ 0.0000000e+00  0.0000000e+00  3.0517578e-05 ... -3.6926270e-03\n",
      " -7.4768066e-03 -8.6975098e-03] as keyword args. From version 0.10 passing these as positional arguments will result in an error\n",
      "  mel = np.mean(librosa.feature.melspectrogram(X, sr=sample_rate).T,axis=0)\n",
      "C:\\Users\\Mouad\\AppData\\Local\\Temp/ipykernel_12796/1163463125.py:31: FutureWarning: Pass y=[0.         0.         0.         ... 0.00247192 0.00247192 0.00244141] as keyword args. From version 0.10 passing these as positional arguments will result in an error\n",
      "  mel = np.mean(librosa.feature.melspectrogram(X, sr=sample_rate).T,axis=0)\n",
      "C:\\Users\\Mouad\\AppData\\Local\\Temp/ipykernel_12796/1163463125.py:31: FutureWarning: Pass y=[-1.2207031e-04 -3.0517578e-05  0.0000000e+00 ...  3.0517578e-05\n",
      "  9.1552734e-05  1.2207031e-04] as keyword args. From version 0.10 passing these as positional arguments will result in an error\n",
      "  mel = np.mean(librosa.feature.melspectrogram(X, sr=sample_rate).T,axis=0)\n"
     ]
    },
    {
     "name": "stdout",
     "output_type": "stream",
     "text": [
      "03-01-04-02-02-02-03.wav\n",
      "03-01-05-01-01-01-03.wav\n",
      "03-01-05-01-01-02-03.wav\n",
      "03-01-05-01-02-01-03.wav\n",
      "03-01-05-01-02-02-03.wav\n"
     ]
    },
    {
     "name": "stderr",
     "output_type": "stream",
     "text": [
      "C:\\Users\\Mouad\\AppData\\Local\\Temp/ipykernel_12796/1163463125.py:31: FutureWarning: Pass y=[ 0.0000000e+00  0.0000000e+00  0.0000000e+00 ... -9.1552734e-05\n",
      " -1.8310547e-04  9.1552734e-05] as keyword args. From version 0.10 passing these as positional arguments will result in an error\n",
      "  mel = np.mean(librosa.feature.melspectrogram(X, sr=sample_rate).T,axis=0)\n",
      "C:\\Users\\Mouad\\AppData\\Local\\Temp/ipykernel_12796/1163463125.py:31: FutureWarning: Pass y=[-9.1552734e-05 -3.0517578e-05  3.0517578e-05 ... -5.8593750e-03\n",
      " -5.8898926e-03 -6.0729980e-03] as keyword args. From version 0.10 passing these as positional arguments will result in an error\n",
      "  mel = np.mean(librosa.feature.melspectrogram(X, sr=sample_rate).T,axis=0)\n",
      "C:\\Users\\Mouad\\AppData\\Local\\Temp/ipykernel_12796/1163463125.py:31: FutureWarning: Pass y=[-1.8310547e-04  1.2207031e-04  3.0517578e-04 ... -1.8310547e-04\n",
      " -6.1035156e-05 -1.2207031e-04] as keyword args. From version 0.10 passing these as positional arguments will result in an error\n",
      "  mel = np.mean(librosa.feature.melspectrogram(X, sr=sample_rate).T,axis=0)\n"
     ]
    },
    {
     "name": "stdout",
     "output_type": "stream",
     "text": [
      "03-01-05-02-01-01-03.wav\n",
      "03-01-05-02-01-02-03.wav\n",
      "03-01-05-02-02-01-03.wav\n"
     ]
    },
    {
     "name": "stderr",
     "output_type": "stream",
     "text": [
      "C:\\Users\\Mouad\\AppData\\Local\\Temp/ipykernel_12796/1163463125.py:31: FutureWarning: Pass y=[ 6.4086914e-04  2.7465820e-04 -6.1035156e-05 ... -1.7089844e-03\n",
      " -1.8615723e-03 -1.8005371e-03] as keyword args. From version 0.10 passing these as positional arguments will result in an error\n",
      "  mel = np.mean(librosa.feature.melspectrogram(X, sr=sample_rate).T,axis=0)\n",
      "C:\\Users\\Mouad\\AppData\\Local\\Temp/ipykernel_12796/1163463125.py:31: FutureWarning: Pass y=[9.1552734e-05 2.1362305e-04 3.3569336e-04 ... 0.0000000e+00 3.0517578e-05\n",
      " 9.1552734e-05] as keyword args. From version 0.10 passing these as positional arguments will result in an error\n",
      "  mel = np.mean(librosa.feature.melspectrogram(X, sr=sample_rate).T,axis=0)\n",
      "C:\\Users\\Mouad\\AppData\\Local\\Temp/ipykernel_12796/1163463125.py:31: FutureWarning: Pass y=[3.0517578e-05 0.0000000e+00 3.0517578e-05 ... 9.4604492e-04 7.0190430e-04\n",
      " 8.8500977e-04] as keyword args. From version 0.10 passing these as positional arguments will result in an error\n",
      "  mel = np.mean(librosa.feature.melspectrogram(X, sr=sample_rate).T,axis=0)\n"
     ]
    },
    {
     "name": "stdout",
     "output_type": "stream",
     "text": [
      "03-01-05-02-02-02-03.wav\n",
      "03-01-06-01-01-01-03.wav\n",
      "03-01-06-01-01-02-03.wav\n",
      "03-01-06-01-02-01-03.wav\n",
      "03-01-06-01-02-02-03.wav\n",
      "03-01-06-02-01-01-03.wav\n",
      "03-01-06-02-01-02-03.wav\n",
      "03-01-06-02-02-01-03.wav\n",
      "03-01-06-02-02-02-03.wav\n",
      "03-01-07-01-01-01-03.wav\n",
      "03-01-07-01-01-02-03.wav\n",
      "03-01-07-01-02-01-03.wav\n",
      "03-01-07-01-02-02-03.wav\n",
      "03-01-07-02-01-01-03.wav\n",
      "03-01-07-02-01-02-03.wav\n",
      "03-01-07-02-02-01-03.wav\n",
      "03-01-07-02-02-02-03.wav\n",
      "03-01-08-01-01-01-03.wav\n",
      "03-01-08-01-01-02-03.wav\n",
      "03-01-08-01-02-01-03.wav\n",
      "03-01-08-01-02-02-03.wav\n",
      "03-01-08-02-01-01-03.wav\n",
      "03-01-08-02-01-02-03.wav\n",
      "03-01-08-02-02-01-03.wav\n",
      "03-01-08-02-02-02-03.wav\n",
      "03-01-01-01-01-01-04.wav\n",
      "03-01-01-01-01-02-04.wav\n",
      "03-01-01-01-02-01-04.wav\n",
      "03-01-01-01-02-02-04.wav\n",
      "03-01-02-01-01-01-04.wav\n",
      "03-01-02-01-01-02-04.wav\n",
      "03-01-02-01-02-01-04.wav\n",
      "03-01-02-01-02-02-04.wav\n",
      "03-01-02-02-01-01-04.wav\n",
      "03-01-02-02-01-02-04.wav\n",
      "03-01-02-02-02-01-04.wav\n",
      "03-01-02-02-02-02-04.wav\n",
      "03-01-03-01-01-01-04.wav\n",
      "03-01-03-01-01-02-04.wav\n",
      "03-01-03-01-02-01-04.wav\n",
      "03-01-03-01-02-02-04.wav\n",
      "03-01-03-02-01-01-04.wav\n",
      "03-01-03-02-01-02-04.wav\n"
     ]
    },
    {
     "name": "stderr",
     "output_type": "stream",
     "text": [
      "C:\\Users\\Mouad\\AppData\\Local\\Temp/ipykernel_12796/1163463125.py:31: FutureWarning: Pass y=[0.0000000e+00 0.0000000e+00 0.0000000e+00 ... 6.1035156e-05 0.0000000e+00\n",
      " 0.0000000e+00] as keyword args. From version 0.10 passing these as positional arguments will result in an error\n",
      "  mel = np.mean(librosa.feature.melspectrogram(X, sr=sample_rate).T,axis=0)\n"
     ]
    },
    {
     "name": "stdout",
     "output_type": "stream",
     "text": [
      "03-01-03-02-02-01-04.wav\n",
      "03-01-03-02-02-02-04.wav\n",
      "03-01-04-01-01-01-04.wav\n"
     ]
    },
    {
     "name": "stderr",
     "output_type": "stream",
     "text": [
      "C:\\Users\\Mouad\\AppData\\Local\\Temp/ipykernel_12796/1163463125.py:31: FutureWarning: Pass y=[3.0517578e-05 0.0000000e+00 0.0000000e+00 ... 0.0000000e+00 0.0000000e+00\n",
      " 0.0000000e+00] as keyword args. From version 0.10 passing these as positional arguments will result in an error\n",
      "  mel = np.mean(librosa.feature.melspectrogram(X, sr=sample_rate).T,axis=0)\n"
     ]
    },
    {
     "name": "stdout",
     "output_type": "stream",
     "text": [
      "03-01-04-01-01-02-04.wav\n",
      "03-01-04-01-02-01-04.wav\n",
      "03-01-04-01-02-02-04.wav\n",
      "03-01-04-02-01-01-04.wav\n",
      "03-01-04-02-01-02-04.wav\n",
      "03-01-04-02-02-01-04.wav\n"
     ]
    },
    {
     "name": "stderr",
     "output_type": "stream",
     "text": [
      "C:\\Users\\Mouad\\AppData\\Local\\Temp/ipykernel_12796/1163463125.py:31: FutureWarning: Pass y=[-1.2207031e-04 -9.1552734e-05 -9.1552734e-05 ...  0.0000000e+00\n",
      "  0.0000000e+00  0.0000000e+00] as keyword args. From version 0.10 passing these as positional arguments will result in an error\n",
      "  mel = np.mean(librosa.feature.melspectrogram(X, sr=sample_rate).T,axis=0)\n",
      "C:\\Users\\Mouad\\AppData\\Local\\Temp/ipykernel_12796/1163463125.py:31: FutureWarning: Pass y=[0.0000000e+00 0.0000000e+00 0.0000000e+00 ... 6.1035156e-05 9.1552734e-05\n",
      " 6.1035156e-05] as keyword args. From version 0.10 passing these as positional arguments will result in an error\n",
      "  mel = np.mean(librosa.feature.melspectrogram(X, sr=sample_rate).T,axis=0)\n"
     ]
    },
    {
     "name": "stdout",
     "output_type": "stream",
     "text": [
      "03-01-04-02-02-02-04.wav\n",
      "03-01-05-01-01-01-04.wav\n",
      "03-01-05-01-01-02-04.wav\n",
      "03-01-05-01-02-01-04.wav\n",
      "03-01-05-01-02-02-04.wav\n",
      "03-01-05-02-01-01-04.wav\n"
     ]
    },
    {
     "name": "stderr",
     "output_type": "stream",
     "text": [
      "C:\\Users\\Mouad\\AppData\\Local\\Temp/ipykernel_12796/1163463125.py:31: FutureWarning: Pass y=[3.0517578e-05 6.1035156e-05 6.1035156e-05 ... 0.0000000e+00 0.0000000e+00\n",
      " 0.0000000e+00] as keyword args. From version 0.10 passing these as positional arguments will result in an error\n",
      "  mel = np.mean(librosa.feature.melspectrogram(X, sr=sample_rate).T,axis=0)\n",
      "C:\\Users\\Mouad\\AppData\\Local\\Temp/ipykernel_12796/1163463125.py:31: FutureWarning: Pass y=[0.0000000e+00 0.0000000e+00 0.0000000e+00 ... 6.1035156e-05 3.0517578e-05\n",
      " 3.0517578e-05] as keyword args. From version 0.10 passing these as positional arguments will result in an error\n",
      "  mel = np.mean(librosa.feature.melspectrogram(X, sr=sample_rate).T,axis=0)\n"
     ]
    },
    {
     "name": "stdout",
     "output_type": "stream",
     "text": [
      "03-01-05-02-01-02-04.wav\n",
      "03-01-05-02-02-01-04.wav\n",
      "03-01-05-02-02-02-04.wav\n",
      "03-01-06-01-01-01-04.wav\n",
      "03-01-06-01-01-02-04.wav\n",
      "03-01-06-01-02-01-04.wav\n",
      "03-01-06-01-02-02-04.wav\n",
      "03-01-06-02-01-01-04.wav\n",
      "03-01-06-02-01-02-04.wav\n",
      "03-01-06-02-02-01-04.wav\n",
      "03-01-06-02-02-02-04.wav\n",
      "03-01-07-01-01-01-04.wav\n",
      "03-01-07-01-01-02-04.wav\n",
      "03-01-07-01-02-01-04.wav\n",
      "03-01-07-01-02-02-04.wav\n",
      "03-01-07-02-01-01-04.wav\n",
      "03-01-07-02-01-02-04.wav\n",
      "03-01-07-02-02-01-04.wav\n",
      "03-01-07-02-02-02-04.wav\n",
      "03-01-08-01-01-01-04.wav\n",
      "03-01-08-01-01-02-04.wav\n",
      "03-01-08-01-02-01-04.wav\n",
      "03-01-08-01-02-02-04.wav\n",
      "03-01-08-02-01-01-04.wav\n",
      "03-01-08-02-01-02-04.wav\n",
      "03-01-08-02-02-01-04.wav\n",
      "03-01-08-02-02-02-04.wav\n",
      "03-01-01-01-01-01-05.wav\n",
      "03-01-01-01-01-02-05.wav\n"
     ]
    },
    {
     "name": "stderr",
     "output_type": "stream",
     "text": [
      "C:\\Users\\Mouad\\AppData\\Local\\Temp/ipykernel_12796/1163463125.py:31: FutureWarning: Pass y=[ 0.0000000e+00  0.0000000e+00  0.0000000e+00 ... -3.0517578e-05\n",
      " -3.0517578e-05 -6.1035156e-05] as keyword args. From version 0.10 passing these as positional arguments will result in an error\n",
      "  mel = np.mean(librosa.feature.melspectrogram(X, sr=sample_rate).T,axis=0)\n",
      "C:\\Users\\Mouad\\AppData\\Local\\Temp/ipykernel_12796/1163463125.py:31: FutureWarning: Pass y=[-6.1035156e-05 -9.1552734e-05 -6.1035156e-05 ...  0.0000000e+00\n",
      "  0.0000000e+00  0.0000000e+00] as keyword args. From version 0.10 passing these as positional arguments will result in an error\n",
      "  mel = np.mean(librosa.feature.melspectrogram(X, sr=sample_rate).T,axis=0)\n",
      "C:\\Users\\Mouad\\AppData\\Local\\Temp/ipykernel_12796/1163463125.py:31: FutureWarning: Pass y=[ 6.1035156e-05  3.0517578e-05  6.1035156e-05 ... -9.1552734e-05\n",
      " -6.1035156e-05 -6.1035156e-05] as keyword args. From version 0.10 passing these as positional arguments will result in an error\n",
      "  mel = np.mean(librosa.feature.melspectrogram(X, sr=sample_rate).T,axis=0)\n"
     ]
    },
    {
     "name": "stdout",
     "output_type": "stream",
     "text": [
      "03-01-01-01-02-01-05.wav\n",
      "03-01-01-01-02-02-05.wav\n",
      "03-01-02-01-01-01-05.wav\n",
      "03-01-02-01-01-02-05.wav\n",
      "03-01-02-01-02-01-05.wav\n",
      "03-01-02-01-02-02-05.wav\n",
      "03-01-02-02-01-01-05.wav\n",
      "03-01-02-02-01-02-05.wav\n",
      "03-01-02-02-02-01-05.wav\n",
      "03-01-02-02-02-02-05.wav\n",
      "03-01-03-01-01-01-05.wav\n"
     ]
    },
    {
     "name": "stderr",
     "output_type": "stream",
     "text": [
      "C:\\Users\\Mouad\\AppData\\Local\\Temp/ipykernel_12796/1163463125.py:31: FutureWarning: Pass y=[3.0517578e-05 3.0517578e-05 3.0517578e-05 ... 0.0000000e+00 0.0000000e+00\n",
      " 0.0000000e+00] as keyword args. From version 0.10 passing these as positional arguments will result in an error\n",
      "  mel = np.mean(librosa.feature.melspectrogram(X, sr=sample_rate).T,axis=0)\n"
     ]
    },
    {
     "name": "stdout",
     "output_type": "stream",
     "text": [
      "03-01-03-01-01-02-05.wav\n",
      "03-01-03-01-02-01-05.wav\n",
      "03-01-03-01-02-02-05.wav\n"
     ]
    },
    {
     "name": "stderr",
     "output_type": "stream",
     "text": [
      "C:\\Users\\Mouad\\AppData\\Local\\Temp/ipykernel_12796/1163463125.py:31: FutureWarning: Pass y=[ 0.0000000e+00  0.0000000e+00  0.0000000e+00 ... -3.0517578e-05\n",
      " -6.1035156e-05 -3.0517578e-05] as keyword args. From version 0.10 passing these as positional arguments will result in an error\n",
      "  mel = np.mean(librosa.feature.melspectrogram(X, sr=sample_rate).T,axis=0)\n",
      "C:\\Users\\Mouad\\AppData\\Local\\Temp/ipykernel_12796/1163463125.py:31: FutureWarning: Pass y=[0.0000000e+00 0.0000000e+00 0.0000000e+00 ... 3.0517578e-05 6.1035156e-05\n",
      " 9.1552734e-05] as keyword args. From version 0.10 passing these as positional arguments will result in an error\n",
      "  mel = np.mean(librosa.feature.melspectrogram(X, sr=sample_rate).T,axis=0)\n"
     ]
    },
    {
     "name": "stdout",
     "output_type": "stream",
     "text": [
      "03-01-03-02-01-01-05.wav\n",
      "03-01-03-02-01-02-05.wav\n",
      "03-01-03-02-02-01-05.wav\n"
     ]
    },
    {
     "name": "stderr",
     "output_type": "stream",
     "text": [
      "C:\\Users\\Mouad\\AppData\\Local\\Temp/ipykernel_12796/1163463125.py:31: FutureWarning: Pass y=[-1.5258789e-04 -1.5258789e-04 -1.5258789e-04 ...  0.0000000e+00\n",
      "  3.0517578e-05  3.0517578e-05] as keyword args. From version 0.10 passing these as positional arguments will result in an error\n",
      "  mel = np.mean(librosa.feature.melspectrogram(X, sr=sample_rate).T,axis=0)\n",
      "C:\\Users\\Mouad\\AppData\\Local\\Temp/ipykernel_12796/1163463125.py:31: FutureWarning: Pass y=[-3.0517578e-05 -3.0517578e-05 -3.0517578e-05 ...  3.0517578e-05\n",
      "  6.1035156e-05  6.1035156e-05] as keyword args. From version 0.10 passing these as positional arguments will result in an error\n",
      "  mel = np.mean(librosa.feature.melspectrogram(X, sr=sample_rate).T,axis=0)\n",
      "C:\\Users\\Mouad\\AppData\\Local\\Temp/ipykernel_12796/1163463125.py:31: FutureWarning: Pass y=[0.0000000e+00 0.0000000e+00 0.0000000e+00 ... 6.1035156e-05 3.0517578e-05\n",
      " 6.1035156e-05] as keyword args. From version 0.10 passing these as positional arguments will result in an error\n",
      "  mel = np.mean(librosa.feature.melspectrogram(X, sr=sample_rate).T,axis=0)\n"
     ]
    },
    {
     "name": "stdout",
     "output_type": "stream",
     "text": [
      "03-01-03-02-02-02-05.wav\n",
      "03-01-04-01-01-01-05.wav\n",
      "03-01-04-01-01-02-05.wav\n",
      "03-01-04-01-02-01-05.wav\n"
     ]
    },
    {
     "name": "stderr",
     "output_type": "stream",
     "text": [
      "C:\\Users\\Mouad\\AppData\\Local\\Temp/ipykernel_12796/1163463125.py:31: FutureWarning: Pass y=[-3.0517578e-05 -3.0517578e-05  0.0000000e+00 ... -3.0517578e-05\n",
      " -3.0517578e-05 -3.0517578e-05] as keyword args. From version 0.10 passing these as positional arguments will result in an error\n",
      "  mel = np.mean(librosa.feature.melspectrogram(X, sr=sample_rate).T,axis=0)\n"
     ]
    },
    {
     "name": "stdout",
     "output_type": "stream",
     "text": [
      "03-01-04-01-02-02-05.wav\n",
      "03-01-04-02-01-01-05.wav\n"
     ]
    },
    {
     "name": "stderr",
     "output_type": "stream",
     "text": [
      "C:\\Users\\Mouad\\AppData\\Local\\Temp/ipykernel_12796/1163463125.py:31: FutureWarning: Pass y=[9.1552734e-05 6.1035156e-05 6.1035156e-05 ... 3.0517578e-05 3.0517578e-05\n",
      " 3.0517578e-05] as keyword args. From version 0.10 passing these as positional arguments will result in an error\n",
      "  mel = np.mean(librosa.feature.melspectrogram(X, sr=sample_rate).T,axis=0)\n",
      "C:\\Users\\Mouad\\AppData\\Local\\Temp/ipykernel_12796/1163463125.py:31: FutureWarning: Pass y=[-3.0517578e-05 -3.0517578e-05  0.0000000e+00 ... -3.0517578e-05\n",
      "  0.0000000e+00 -3.0517578e-05] as keyword args. From version 0.10 passing these as positional arguments will result in an error\n",
      "  mel = np.mean(librosa.feature.melspectrogram(X, sr=sample_rate).T,axis=0)\n"
     ]
    },
    {
     "name": "stdout",
     "output_type": "stream",
     "text": [
      "03-01-04-02-01-02-05.wav\n",
      "03-01-04-02-02-01-05.wav\n"
     ]
    },
    {
     "name": "stderr",
     "output_type": "stream",
     "text": [
      "C:\\Users\\Mouad\\AppData\\Local\\Temp/ipykernel_12796/1163463125.py:31: FutureWarning: Pass y=[0.00054932 0.00057983 0.00057983 ... 0.         0.         0.        ] as keyword args. From version 0.10 passing these as positional arguments will result in an error\n",
      "  mel = np.mean(librosa.feature.melspectrogram(X, sr=sample_rate).T,axis=0)\n",
      "C:\\Users\\Mouad\\AppData\\Local\\Temp/ipykernel_12796/1163463125.py:31: FutureWarning: Pass y=[-6.1035156e-05 -6.1035156e-05 -3.0517578e-05 ... -3.0517578e-05\n",
      " -6.1035156e-05 -3.0517578e-05] as keyword args. From version 0.10 passing these as positional arguments will result in an error\n",
      "  mel = np.mean(librosa.feature.melspectrogram(X, sr=sample_rate).T,axis=0)\n"
     ]
    },
    {
     "name": "stdout",
     "output_type": "stream",
     "text": [
      "03-01-04-02-02-02-05.wav\n",
      "03-01-05-01-01-01-05.wav\n",
      "03-01-05-01-01-02-05.wav\n"
     ]
    },
    {
     "name": "stderr",
     "output_type": "stream",
     "text": [
      "C:\\Users\\Mouad\\AppData\\Local\\Temp/ipykernel_12796/1163463125.py:31: FutureWarning: Pass y=[0.0000000e+00 0.0000000e+00 0.0000000e+00 ... 0.0000000e+00 3.0517578e-05\n",
      " 0.0000000e+00] as keyword args. From version 0.10 passing these as positional arguments will result in an error\n",
      "  mel = np.mean(librosa.feature.melspectrogram(X, sr=sample_rate).T,axis=0)\n"
     ]
    },
    {
     "name": "stdout",
     "output_type": "stream",
     "text": [
      "03-01-05-01-02-01-05.wav\n",
      "03-01-05-01-02-02-05.wav\n",
      "03-01-05-02-01-01-05.wav\n",
      "03-01-05-02-01-02-05.wav\n",
      "03-01-05-02-02-01-05.wav\n"
     ]
    },
    {
     "name": "stderr",
     "output_type": "stream",
     "text": [
      "C:\\Users\\Mouad\\AppData\\Local\\Temp/ipykernel_12796/1163463125.py:31: FutureWarning: Pass y=[-6.1035156e-05 -6.1035156e-05 -9.1552734e-05 ...  4.2724609e-04\n",
      "  4.2724609e-04  4.2724609e-04] as keyword args. From version 0.10 passing these as positional arguments will result in an error\n",
      "  mel = np.mean(librosa.feature.melspectrogram(X, sr=sample_rate).T,axis=0)\n"
     ]
    },
    {
     "name": "stdout",
     "output_type": "stream",
     "text": [
      "03-01-05-02-02-02-05.wav\n",
      "03-01-06-01-01-01-05.wav\n",
      "03-01-06-01-01-02-05.wav\n",
      "03-01-06-01-02-01-05.wav\n",
      "03-01-06-01-02-02-05.wav\n",
      "03-01-06-02-01-01-05.wav\n",
      "03-01-06-02-01-02-05.wav\n",
      "03-01-06-02-02-01-05.wav\n",
      "03-01-06-02-02-02-05.wav\n",
      "03-01-07-01-01-01-05.wav\n",
      "03-01-07-01-01-02-05.wav\n",
      "03-01-07-01-02-01-05.wav\n",
      "03-01-07-01-02-02-05.wav\n",
      "03-01-07-02-01-01-05.wav\n",
      "03-01-07-02-01-02-05.wav\n",
      "03-01-07-02-02-01-05.wav\n",
      "03-01-07-02-02-02-05.wav\n",
      "03-01-08-01-01-01-05.wav\n",
      "03-01-08-01-01-02-05.wav\n",
      "03-01-08-01-02-01-05.wav\n",
      "03-01-08-01-02-02-05.wav\n",
      "03-01-08-02-01-01-05.wav\n",
      "03-01-08-02-01-02-05.wav\n",
      "03-01-08-02-02-01-05.wav\n",
      "03-01-08-02-02-02-05.wav\n",
      "03-01-01-01-01-01-06.wav\n",
      "03-01-01-01-01-02-06.wav\n",
      "03-01-01-01-02-01-06.wav\n",
      "03-01-01-01-02-02-06.wav\n",
      "03-01-02-01-01-01-06.wav\n",
      "03-01-02-01-01-02-06.wav\n",
      "03-01-02-01-02-01-06.wav\n",
      "03-01-02-01-02-02-06.wav\n",
      "03-01-02-02-01-01-06.wav\n",
      "03-01-02-02-01-02-06.wav\n",
      "03-01-02-02-02-01-06.wav\n",
      "03-01-02-02-02-02-06.wav\n",
      "03-01-03-01-01-01-06.wav\n",
      "03-01-03-01-01-02-06.wav\n",
      "03-01-03-01-02-01-06.wav\n",
      "03-01-03-01-02-02-06.wav\n"
     ]
    },
    {
     "name": "stderr",
     "output_type": "stream",
     "text": [
      "C:\\Users\\Mouad\\AppData\\Local\\Temp/ipykernel_12796/1163463125.py:31: FutureWarning: Pass y=[ 6.1035156e-05  6.1035156e-05  3.0517578e-05 ...  0.0000000e+00\n",
      "  0.0000000e+00 -3.0517578e-05] as keyword args. From version 0.10 passing these as positional arguments will result in an error\n",
      "  mel = np.mean(librosa.feature.melspectrogram(X, sr=sample_rate).T,axis=0)\n",
      "C:\\Users\\Mouad\\AppData\\Local\\Temp/ipykernel_12796/1163463125.py:31: FutureWarning: Pass y=[ 0.0000000e+00  0.0000000e+00  0.0000000e+00 ...  3.0517578e-05\n",
      " -3.0517578e-05  1.2207031e-04] as keyword args. From version 0.10 passing these as positional arguments will result in an error\n",
      "  mel = np.mean(librosa.feature.melspectrogram(X, sr=sample_rate).T,axis=0)\n"
     ]
    },
    {
     "name": "stdout",
     "output_type": "stream",
     "text": [
      "03-01-03-02-01-01-06.wav\n",
      "03-01-03-02-01-02-06.wav\n",
      "03-01-03-02-02-01-06.wav\n"
     ]
    },
    {
     "name": "stderr",
     "output_type": "stream",
     "text": [
      "C:\\Users\\Mouad\\AppData\\Local\\Temp/ipykernel_12796/1163463125.py:31: FutureWarning: Pass y=[ 0.0000000e+00  0.0000000e+00 -3.0517578e-05 ...  0.0000000e+00\n",
      "  0.0000000e+00  0.0000000e+00] as keyword args. From version 0.10 passing these as positional arguments will result in an error\n",
      "  mel = np.mean(librosa.feature.melspectrogram(X, sr=sample_rate).T,axis=0)\n",
      "C:\\Users\\Mouad\\AppData\\Local\\Temp/ipykernel_12796/1163463125.py:31: FutureWarning: Pass y=[3.0517578e-05 6.1035156e-05 3.0517578e-05 ... 6.1035156e-04 6.1035156e-04\n",
      " 5.7983398e-04] as keyword args. From version 0.10 passing these as positional arguments will result in an error\n",
      "  mel = np.mean(librosa.feature.melspectrogram(X, sr=sample_rate).T,axis=0)\n"
     ]
    },
    {
     "name": "stdout",
     "output_type": "stream",
     "text": [
      "03-01-03-02-02-02-06.wav\n",
      "03-01-04-01-01-01-06.wav\n",
      "03-01-04-01-01-02-06.wav\n",
      "03-01-04-01-02-01-06.wav\n",
      "03-01-04-01-02-02-06.wav\n",
      "03-01-04-02-01-01-06.wav\n",
      "03-01-04-02-01-02-06.wav\n",
      "03-01-04-02-02-01-06.wav\n",
      "03-01-04-02-02-02-06.wav\n"
     ]
    },
    {
     "name": "stderr",
     "output_type": "stream",
     "text": [
      "C:\\Users\\Mouad\\AppData\\Local\\Temp/ipykernel_12796/1163463125.py:31: FutureWarning: Pass y=[0.00024414 0.00021362 0.00021362 ... 0.         0.         0.        ] as keyword args. From version 0.10 passing these as positional arguments will result in an error\n",
      "  mel = np.mean(librosa.feature.melspectrogram(X, sr=sample_rate).T,axis=0)\n",
      "C:\\Users\\Mouad\\AppData\\Local\\Temp/ipykernel_12796/1163463125.py:31: FutureWarning: Pass y=[3.0517578e-05 0.0000000e+00 0.0000000e+00 ... 3.0517578e-05 0.0000000e+00\n",
      " 3.0517578e-05] as keyword args. From version 0.10 passing these as positional arguments will result in an error\n",
      "  mel = np.mean(librosa.feature.melspectrogram(X, sr=sample_rate).T,axis=0)\n"
     ]
    },
    {
     "name": "stdout",
     "output_type": "stream",
     "text": [
      "03-01-05-01-01-01-06.wav\n",
      "03-01-05-01-01-02-06.wav\n",
      "03-01-05-01-02-01-06.wav\n"
     ]
    },
    {
     "name": "stderr",
     "output_type": "stream",
     "text": [
      "C:\\Users\\Mouad\\AppData\\Local\\Temp/ipykernel_12796/1163463125.py:31: FutureWarning: Pass y=[0.         0.         0.         ... 0.00015259 0.00015259 0.00018311] as keyword args. From version 0.10 passing these as positional arguments will result in an error\n",
      "  mel = np.mean(librosa.feature.melspectrogram(X, sr=sample_rate).T,axis=0)\n"
     ]
    },
    {
     "name": "stdout",
     "output_type": "stream",
     "text": [
      "03-01-05-01-02-02-06.wav\n",
      "03-01-05-02-01-01-06.wav\n",
      "03-01-05-02-01-02-06.wav\n"
     ]
    },
    {
     "name": "stderr",
     "output_type": "stream",
     "text": [
      "C:\\Users\\Mouad\\AppData\\Local\\Temp/ipykernel_12796/1163463125.py:31: FutureWarning: Pass y=[ 8.2397461e-04  5.1879883e-04  3.0517578e-04 ... -3.0517578e-05\n",
      " -3.0517578e-05  0.0000000e+00] as keyword args. From version 0.10 passing these as positional arguments will result in an error\n",
      "  mel = np.mean(librosa.feature.melspectrogram(X, sr=sample_rate).T,axis=0)\n",
      "C:\\Users\\Mouad\\AppData\\Local\\Temp/ipykernel_12796/1163463125.py:31: FutureWarning: Pass y=[-3.0517578e-05  0.0000000e+00  0.0000000e+00 ...  0.0000000e+00\n",
      "  0.0000000e+00  0.0000000e+00] as keyword args. From version 0.10 passing these as positional arguments will result in an error\n",
      "  mel = np.mean(librosa.feature.melspectrogram(X, sr=sample_rate).T,axis=0)\n",
      "C:\\Users\\Mouad\\AppData\\Local\\Temp/ipykernel_12796/1163463125.py:31: FutureWarning: Pass y=[ 9.1552734e-05 -3.0517578e-05 -4.8828125e-04 ...  0.0000000e+00\n",
      "  0.0000000e+00  0.0000000e+00] as keyword args. From version 0.10 passing these as positional arguments will result in an error\n",
      "  mel = np.mean(librosa.feature.melspectrogram(X, sr=sample_rate).T,axis=0)\n"
     ]
    },
    {
     "name": "stdout",
     "output_type": "stream",
     "text": [
      "03-01-05-02-02-01-06.wav\n",
      "03-01-05-02-02-02-06.wav\n",
      "03-01-06-01-01-01-06.wav\n",
      "03-01-06-01-01-02-06.wav\n",
      "03-01-06-01-02-01-06.wav\n",
      "03-01-06-01-02-02-06.wav\n",
      "03-01-06-02-01-01-06.wav\n",
      "03-01-06-02-01-02-06.wav\n",
      "03-01-06-02-02-01-06.wav\n",
      "03-01-06-02-02-02-06.wav\n",
      "03-01-07-01-01-01-06.wav\n",
      "03-01-07-01-01-02-06.wav\n",
      "03-01-07-01-02-01-06.wav\n",
      "03-01-07-01-02-02-06.wav\n",
      "03-01-07-02-01-01-06.wav\n",
      "03-01-07-02-01-02-06.wav\n",
      "03-01-07-02-02-01-06.wav\n",
      "03-01-07-02-02-02-06.wav\n",
      "03-01-08-01-01-01-06.wav\n",
      "03-01-08-01-01-02-06.wav\n",
      "03-01-08-01-02-01-06.wav\n",
      "03-01-08-01-02-02-06.wav\n",
      "03-01-08-02-01-01-06.wav\n",
      "03-01-08-02-01-02-06.wav\n",
      "03-01-08-02-02-01-06.wav\n",
      "03-01-08-02-02-02-06.wav\n",
      "03-01-01-01-01-01-07.wav\n"
     ]
    },
    {
     "name": "stderr",
     "output_type": "stream",
     "text": [
      "C:\\Users\\Mouad\\AppData\\Local\\Temp/ipykernel_12796/1163463125.py:31: FutureWarning: Pass y=[-3.0517578e-05  3.0517578e-05  3.0517578e-05 ...  9.1552734e-05\n",
      "  3.0517578e-05  0.0000000e+00] as keyword args. From version 0.10 passing these as positional arguments will result in an error\n",
      "  mel = np.mean(librosa.feature.melspectrogram(X, sr=sample_rate).T,axis=0)\n",
      "C:\\Users\\Mouad\\AppData\\Local\\Temp/ipykernel_12796/1163463125.py:31: FutureWarning: Pass y=[-2.1362305e-04 -1.8310547e-04  6.1035156e-05 ... -1.5258789e-04\n",
      " -1.8310547e-04 -2.4414062e-04] as keyword args. From version 0.10 passing these as positional arguments will result in an error\n",
      "  mel = np.mean(librosa.feature.melspectrogram(X, sr=sample_rate).T,axis=0)\n",
      "C:\\Users\\Mouad\\AppData\\Local\\Temp/ipykernel_12796/1163463125.py:31: FutureWarning: Pass y=[-6.1035156e-05 -1.2207031e-04  3.0517578e-05 ...  0.0000000e+00\n",
      "  0.0000000e+00  3.0517578e-05] as keyword args. From version 0.10 passing these as positional arguments will result in an error\n",
      "  mel = np.mean(librosa.feature.melspectrogram(X, sr=sample_rate).T,axis=0)\n"
     ]
    },
    {
     "name": "stdout",
     "output_type": "stream",
     "text": [
      "03-01-01-01-01-02-07.wav\n",
      "03-01-01-01-02-01-07.wav\n",
      "03-01-01-01-02-02-07.wav\n"
     ]
    },
    {
     "name": "stderr",
     "output_type": "stream",
     "text": [
      "C:\\Users\\Mouad\\AppData\\Local\\Temp/ipykernel_12796/1163463125.py:31: FutureWarning: Pass y=[ 6.1035156e-05  3.0517578e-05 -3.0517578e-05 ...  0.0000000e+00\n",
      "  0.0000000e+00 -3.0517578e-05] as keyword args. From version 0.10 passing these as positional arguments will result in an error\n",
      "  mel = np.mean(librosa.feature.melspectrogram(X, sr=sample_rate).T,axis=0)\n"
     ]
    },
    {
     "name": "stdout",
     "output_type": "stream",
     "text": [
      "03-01-02-01-01-01-07.wav\n",
      "03-01-02-01-01-02-07.wav\n",
      "03-01-02-01-02-01-07.wav\n",
      "03-01-02-01-02-02-07.wav\n",
      "03-01-02-02-01-01-07.wav\n",
      "03-01-02-02-01-02-07.wav\n",
      "03-01-02-02-02-01-07.wav\n",
      "03-01-02-02-02-02-07.wav\n",
      "03-01-03-01-01-01-07.wav\n",
      "03-01-03-01-01-02-07.wav\n",
      "03-01-03-01-02-01-07.wav\n"
     ]
    },
    {
     "name": "stderr",
     "output_type": "stream",
     "text": [
      "C:\\Users\\Mouad\\AppData\\Local\\Temp/ipykernel_12796/1163463125.py:31: FutureWarning: Pass y=[-6.1035156e-05  0.0000000e+00  3.0517578e-05 ...  2.7465820e-04\n",
      "  2.4414062e-04  2.7465820e-04] as keyword args. From version 0.10 passing these as positional arguments will result in an error\n",
      "  mel = np.mean(librosa.feature.melspectrogram(X, sr=sample_rate).T,axis=0)\n",
      "C:\\Users\\Mouad\\AppData\\Local\\Temp/ipykernel_12796/1163463125.py:31: FutureWarning: Pass y=[ 0.0000000e+00 -3.0517578e-05 -3.0517578e-05 ...  6.1035156e-05\n",
      "  9.1552734e-05  9.1552734e-05] as keyword args. From version 0.10 passing these as positional arguments will result in an error\n",
      "  mel = np.mean(librosa.feature.melspectrogram(X, sr=sample_rate).T,axis=0)\n"
     ]
    },
    {
     "name": "stdout",
     "output_type": "stream",
     "text": [
      "03-01-03-01-02-02-07.wav\n",
      "03-01-03-02-01-01-07.wav\n",
      "03-01-03-02-01-02-07.wav\n"
     ]
    },
    {
     "name": "stderr",
     "output_type": "stream",
     "text": [
      "C:\\Users\\Mouad\\AppData\\Local\\Temp/ipykernel_12796/1163463125.py:31: FutureWarning: Pass y=[ 2.1362305e-04  7.9345703e-04 -1.2207031e-04 ...  6.1035156e-05\n",
      "  6.1035156e-05  0.0000000e+00] as keyword args. From version 0.10 passing these as positional arguments will result in an error\n",
      "  mel = np.mean(librosa.feature.melspectrogram(X, sr=sample_rate).T,axis=0)\n",
      "C:\\Users\\Mouad\\AppData\\Local\\Temp/ipykernel_12796/1163463125.py:31: FutureWarning: Pass y=[-6.1035156e-05 -3.0517578e-05 -6.1035156e-05 ... -3.3569336e-04\n",
      " -3.9672852e-04 -4.2724609e-04] as keyword args. From version 0.10 passing these as positional arguments will result in an error\n",
      "  mel = np.mean(librosa.feature.melspectrogram(X, sr=sample_rate).T,axis=0)\n",
      "C:\\Users\\Mouad\\AppData\\Local\\Temp/ipykernel_12796/1163463125.py:31: FutureWarning: Pass y=[-3.0517578e-05  4.2724609e-04  6.4086914e-04 ...  1.2207031e-04\n",
      "  9.1552734e-05  1.5258789e-04] as keyword args. From version 0.10 passing these as positional arguments will result in an error\n",
      "  mel = np.mean(librosa.feature.melspectrogram(X, sr=sample_rate).T,axis=0)\n"
     ]
    },
    {
     "name": "stdout",
     "output_type": "stream",
     "text": [
      "03-01-03-02-02-01-07.wav\n",
      "03-01-03-02-02-02-07.wav\n",
      "03-01-04-01-01-01-07.wav\n",
      "03-01-04-01-01-02-07.wav\n",
      "03-01-04-01-02-01-07.wav\n",
      "03-01-04-01-02-02-07.wav\n"
     ]
    },
    {
     "name": "stderr",
     "output_type": "stream",
     "text": [
      "C:\\Users\\Mouad\\AppData\\Local\\Temp/ipykernel_12796/1163463125.py:31: FutureWarning: Pass y=[3.0517578e-05 6.1035156e-05 3.0517578e-05 ... 0.0000000e+00 0.0000000e+00\n",
      " 3.0517578e-05] as keyword args. From version 0.10 passing these as positional arguments will result in an error\n",
      "  mel = np.mean(librosa.feature.melspectrogram(X, sr=sample_rate).T,axis=0)\n",
      "C:\\Users\\Mouad\\AppData\\Local\\Temp/ipykernel_12796/1163463125.py:31: FutureWarning: Pass y=[ 3.0517578e-05 -2.4414062e-04 -3.9672852e-04 ...  3.0517578e-05\n",
      " -3.0517578e-05 -3.0517578e-05] as keyword args. From version 0.10 passing these as positional arguments will result in an error\n",
      "  mel = np.mean(librosa.feature.melspectrogram(X, sr=sample_rate).T,axis=0)\n",
      "C:\\Users\\Mouad\\AppData\\Local\\Temp/ipykernel_12796/1163463125.py:31: FutureWarning: Pass y=[-9.1552734e-05 -3.0517578e-05  3.0517578e-05 ...  1.0681152e-03\n",
      "  1.0681152e-03  1.0681152e-03] as keyword args. From version 0.10 passing these as positional arguments will result in an error\n",
      "  mel = np.mean(librosa.feature.melspectrogram(X, sr=sample_rate).T,axis=0)\n"
     ]
    },
    {
     "name": "stdout",
     "output_type": "stream",
     "text": [
      "03-01-04-02-01-01-07.wav\n",
      "03-01-04-02-01-02-07.wav\n",
      "03-01-04-02-02-01-07.wav\n"
     ]
    },
    {
     "name": "stderr",
     "output_type": "stream",
     "text": [
      "C:\\Users\\Mouad\\AppData\\Local\\Temp/ipykernel_12796/1163463125.py:31: FutureWarning: Pass y=[ 0.00042725  0.00033569  0.00033569 ... -0.00402832 -0.00390625\n",
      " -0.00390625] as keyword args. From version 0.10 passing these as positional arguments will result in an error\n",
      "  mel = np.mean(librosa.feature.melspectrogram(X, sr=sample_rate).T,axis=0)\n",
      "C:\\Users\\Mouad\\AppData\\Local\\Temp/ipykernel_12796/1163463125.py:31: FutureWarning: Pass y=[ 3.0517578e-05  3.0517578e-05  3.0517578e-05 ... -8.2397461e-04\n",
      " -8.2397461e-04 -8.2397461e-04] as keyword args. From version 0.10 passing these as positional arguments will result in an error\n",
      "  mel = np.mean(librosa.feature.melspectrogram(X, sr=sample_rate).T,axis=0)\n"
     ]
    },
    {
     "name": "stdout",
     "output_type": "stream",
     "text": [
      "03-01-04-02-02-02-07.wav\n",
      "03-01-05-01-01-01-07.wav\n",
      "03-01-05-01-01-02-07.wav\n"
     ]
    },
    {
     "name": "stderr",
     "output_type": "stream",
     "text": [
      "C:\\Users\\Mouad\\AppData\\Local\\Temp/ipykernel_12796/1163463125.py:31: FutureWarning: Pass y=[ 6.1035156e-05  9.1552734e-05  1.2207031e-04 ... -2.1057129e-03\n",
      " -2.1362305e-03 -2.1362305e-03] as keyword args. From version 0.10 passing these as positional arguments will result in an error\n",
      "  mel = np.mean(librosa.feature.melspectrogram(X, sr=sample_rate).T,axis=0)\n"
     ]
    },
    {
     "name": "stdout",
     "output_type": "stream",
     "text": [
      "03-01-05-01-02-01-07.wav\n",
      "03-01-05-01-02-02-07.wav\n",
      "03-01-05-02-01-01-07.wav\n"
     ]
    },
    {
     "name": "stderr",
     "output_type": "stream",
     "text": [
      "C:\\Users\\Mouad\\AppData\\Local\\Temp/ipykernel_12796/1163463125.py:31: FutureWarning: Pass y=[-0.00064087 -0.00057983 -0.00054932 ...  0.00231934  0.00228882\n",
      "  0.00228882] as keyword args. From version 0.10 passing these as positional arguments will result in an error\n",
      "  mel = np.mean(librosa.feature.melspectrogram(X, sr=sample_rate).T,axis=0)\n",
      "C:\\Users\\Mouad\\AppData\\Local\\Temp/ipykernel_12796/1163463125.py:31: FutureWarning: Pass y=[ 0.00012207  0.00015259  0.00012207 ... -0.00204468 -0.00201416\n",
      " -0.00204468] as keyword args. From version 0.10 passing these as positional arguments will result in an error\n",
      "  mel = np.mean(librosa.feature.melspectrogram(X, sr=sample_rate).T,axis=0)\n",
      "C:\\Users\\Mouad\\AppData\\Local\\Temp/ipykernel_12796/1163463125.py:31: FutureWarning: Pass y=[-6.1035156e-05 -6.1035156e-05 -1.8310547e-04 ...  3.0517578e-05\n",
      "  0.0000000e+00  0.0000000e+00] as keyword args. From version 0.10 passing these as positional arguments will result in an error\n",
      "  mel = np.mean(librosa.feature.melspectrogram(X, sr=sample_rate).T,axis=0)\n"
     ]
    },
    {
     "name": "stdout",
     "output_type": "stream",
     "text": [
      "03-01-05-02-01-02-07.wav\n",
      "03-01-05-02-02-01-07.wav\n",
      "03-01-05-02-02-02-07.wav\n"
     ]
    },
    {
     "name": "stderr",
     "output_type": "stream",
     "text": [
      "C:\\Users\\Mouad\\AppData\\Local\\Temp/ipykernel_12796/1163463125.py:31: FutureWarning: Pass y=[ 3.0517578e-05  3.0517578e-05  3.0517578e-05 ... -3.3569336e-04\n",
      " -3.3569336e-04 -3.3569336e-04] as keyword args. From version 0.10 passing these as positional arguments will result in an error\n",
      "  mel = np.mean(librosa.feature.melspectrogram(X, sr=sample_rate).T,axis=0)\n",
      "C:\\Users\\Mouad\\AppData\\Local\\Temp/ipykernel_12796/1163463125.py:31: FutureWarning: Pass y=[-0.00015259 -0.00015259 -0.00015259 ...  0.          0.\n",
      "  0.        ] as keyword args. From version 0.10 passing these as positional arguments will result in an error\n",
      "  mel = np.mean(librosa.feature.melspectrogram(X, sr=sample_rate).T,axis=0)\n",
      "C:\\Users\\Mouad\\AppData\\Local\\Temp/ipykernel_12796/1163463125.py:31: FutureWarning: Pass y=[9.1552734e-05 9.1552734e-05 1.2207031e-04 ... 0.0000000e+00 0.0000000e+00\n",
      " 0.0000000e+00] as keyword args. From version 0.10 passing these as positional arguments will result in an error\n",
      "  mel = np.mean(librosa.feature.melspectrogram(X, sr=sample_rate).T,axis=0)\n"
     ]
    },
    {
     "name": "stdout",
     "output_type": "stream",
     "text": [
      "03-01-06-01-01-01-07.wav\n",
      "03-01-06-01-01-02-07.wav\n",
      "03-01-06-01-02-01-07.wav\n",
      "03-01-06-01-02-02-07.wav\n",
      "03-01-06-02-01-01-07.wav\n",
      "03-01-06-02-01-02-07.wav\n",
      "03-01-06-02-02-01-07.wav\n",
      "03-01-06-02-02-02-07.wav\n",
      "03-01-07-01-01-01-07.wav\n",
      "03-01-07-01-01-02-07.wav\n",
      "03-01-07-01-02-01-07.wav\n",
      "03-01-07-01-02-02-07.wav\n",
      "03-01-07-02-01-01-07.wav\n",
      "03-01-07-02-01-02-07.wav\n",
      "03-01-07-02-02-01-07.wav\n",
      "03-01-07-02-02-02-07.wav\n",
      "03-01-08-01-01-01-07.wav\n",
      "03-01-08-01-01-02-07.wav\n",
      "03-01-08-01-02-01-07.wav\n",
      "03-01-08-01-02-02-07.wav\n",
      "03-01-08-02-01-01-07.wav\n",
      "03-01-08-02-01-02-07.wav\n",
      "03-01-08-02-02-01-07.wav\n",
      "03-01-08-02-02-02-07.wav\n",
      "03-01-01-01-01-01-08.wav\n",
      "03-01-01-01-01-02-08.wav\n",
      "03-01-01-01-02-01-08.wav\n"
     ]
    },
    {
     "name": "stderr",
     "output_type": "stream",
     "text": [
      "C:\\Users\\Mouad\\AppData\\Local\\Temp/ipykernel_12796/1163463125.py:31: FutureWarning: Pass y=[-3.0517578e-05 -3.0517578e-05 -3.0517578e-05 ...  0.0000000e+00\n",
      "  0.0000000e+00  0.0000000e+00] as keyword args. From version 0.10 passing these as positional arguments will result in an error\n",
      "  mel = np.mean(librosa.feature.melspectrogram(X, sr=sample_rate).T,axis=0)\n",
      "C:\\Users\\Mouad\\AppData\\Local\\Temp/ipykernel_12796/1163463125.py:31: FutureWarning: Pass y=[0.00018311 0.00018311 0.00021362 ... 0.         0.         0.        ] as keyword args. From version 0.10 passing these as positional arguments will result in an error\n",
      "  mel = np.mean(librosa.feature.melspectrogram(X, sr=sample_rate).T,axis=0)\n",
      "C:\\Users\\Mouad\\AppData\\Local\\Temp/ipykernel_12796/1163463125.py:31: FutureWarning: Pass y=[6.1035156e-05 6.1035156e-05 6.1035156e-05 ... 9.1552734e-05 6.1035156e-05\n",
      " 6.1035156e-05] as keyword args. From version 0.10 passing these as positional arguments will result in an error\n",
      "  mel = np.mean(librosa.feature.melspectrogram(X, sr=sample_rate).T,axis=0)\n"
     ]
    },
    {
     "name": "stdout",
     "output_type": "stream",
     "text": [
      "03-01-01-01-02-02-08.wav\n",
      "03-01-02-01-01-01-08.wav\n",
      "03-01-02-01-01-02-08.wav\n",
      "03-01-02-01-02-01-08.wav\n",
      "03-01-02-01-02-02-08.wav\n",
      "03-01-02-02-01-01-08.wav\n",
      "03-01-02-02-01-02-08.wav\n",
      "03-01-02-02-02-01-08.wav\n",
      "03-01-02-02-02-02-08.wav\n",
      "03-01-03-01-01-01-08.wav\n",
      "03-01-03-01-01-02-08.wav\n"
     ]
    },
    {
     "name": "stderr",
     "output_type": "stream",
     "text": [
      "C:\\Users\\Mouad\\AppData\\Local\\Temp/ipykernel_12796/1163463125.py:31: FutureWarning: Pass y=[ 0.0000000e+00 -3.0517578e-05 -3.0517578e-05 ...  3.0517578e-05\n",
      "  3.0517578e-05  6.1035156e-05] as keyword args. From version 0.10 passing these as positional arguments will result in an error\n",
      "  mel = np.mean(librosa.feature.melspectrogram(X, sr=sample_rate).T,axis=0)\n",
      "C:\\Users\\Mouad\\AppData\\Local\\Temp/ipykernel_12796/1163463125.py:31: FutureWarning: Pass y=[ 6.1035156e-05  6.1035156e-05  3.0517578e-05 ... -1.5258789e-04\n",
      " -1.2207031e-04 -1.5258789e-04] as keyword args. From version 0.10 passing these as positional arguments will result in an error\n",
      "  mel = np.mean(librosa.feature.melspectrogram(X, sr=sample_rate).T,axis=0)\n",
      "C:\\Users\\Mouad\\AppData\\Local\\Temp/ipykernel_12796/1163463125.py:31: FutureWarning: Pass y=[3.0517578e-05 6.1035156e-05 3.0517578e-05 ... 0.0000000e+00 0.0000000e+00\n",
      " 0.0000000e+00] as keyword args. From version 0.10 passing these as positional arguments will result in an error\n",
      "  mel = np.mean(librosa.feature.melspectrogram(X, sr=sample_rate).T,axis=0)\n"
     ]
    },
    {
     "name": "stdout",
     "output_type": "stream",
     "text": [
      "03-01-03-01-02-01-08.wav\n",
      "03-01-03-01-02-02-08.wav\n",
      "03-01-03-02-01-01-08.wav\n"
     ]
    },
    {
     "name": "stderr",
     "output_type": "stream",
     "text": [
      "C:\\Users\\Mouad\\AppData\\Local\\Temp/ipykernel_12796/1163463125.py:31: FutureWarning: Pass y=[-9.1552734e-05 -6.1035156e-05 -6.1035156e-05 ...  6.1035156e-05\n",
      "  3.0517578e-05 -6.1035156e-05] as keyword args. From version 0.10 passing these as positional arguments will result in an error\n",
      "  mel = np.mean(librosa.feature.melspectrogram(X, sr=sample_rate).T,axis=0)\n",
      "C:\\Users\\Mouad\\AppData\\Local\\Temp/ipykernel_12796/1163463125.py:31: FutureWarning: Pass y=[ 9.1552734e-05  9.1552734e-05  9.1552734e-05 ... -3.6621094e-04\n",
      " -3.6621094e-04 -3.6621094e-04] as keyword args. From version 0.10 passing these as positional arguments will result in an error\n",
      "  mel = np.mean(librosa.feature.melspectrogram(X, sr=sample_rate).T,axis=0)\n"
     ]
    },
    {
     "name": "stdout",
     "output_type": "stream",
     "text": [
      "03-01-03-02-01-02-08.wav\n",
      "03-01-03-02-02-01-08.wav\n",
      "03-01-03-02-02-02-08.wav\n"
     ]
    },
    {
     "name": "stderr",
     "output_type": "stream",
     "text": [
      "C:\\Users\\Mouad\\AppData\\Local\\Temp/ipykernel_12796/1163463125.py:31: FutureWarning: Pass y=[-6.1035156e-05 -3.0517578e-05 -6.1035156e-05 ... -2.7465820e-04\n",
      " -2.1362305e-04 -1.5258789e-04] as keyword args. From version 0.10 passing these as positional arguments will result in an error\n",
      "  mel = np.mean(librosa.feature.melspectrogram(X, sr=sample_rate).T,axis=0)\n",
      "C:\\Users\\Mouad\\AppData\\Local\\Temp/ipykernel_12796/1163463125.py:31: FutureWarning: Pass y=[2.4414062e-04 2.4414062e-04 2.4414062e-04 ... 9.1552734e-05 9.1552734e-05\n",
      " 9.1552734e-05] as keyword args. From version 0.10 passing these as positional arguments will result in an error\n",
      "  mel = np.mean(librosa.feature.melspectrogram(X, sr=sample_rate).T,axis=0)\n",
      "C:\\Users\\Mouad\\AppData\\Local\\Temp/ipykernel_12796/1163463125.py:31: FutureWarning: Pass y=[0.0000000e+00 0.0000000e+00 0.0000000e+00 ... 6.1035156e-05 6.1035156e-05\n",
      " 6.1035156e-05] as keyword args. From version 0.10 passing these as positional arguments will result in an error\n",
      "  mel = np.mean(librosa.feature.melspectrogram(X, sr=sample_rate).T,axis=0)\n"
     ]
    },
    {
     "name": "stdout",
     "output_type": "stream",
     "text": [
      "03-01-04-01-01-01-08.wav\n",
      "03-01-04-01-01-02-08.wav\n",
      "03-01-04-01-02-01-08.wav\n"
     ]
    },
    {
     "name": "stderr",
     "output_type": "stream",
     "text": [
      "C:\\Users\\Mouad\\AppData\\Local\\Temp/ipykernel_12796/1163463125.py:31: FutureWarning: Pass y=[ 0.0000000e+00  0.0000000e+00  0.0000000e+00 ... -9.1552734e-05\n",
      " -6.1035156e-05 -9.1552734e-05] as keyword args. From version 0.10 passing these as positional arguments will result in an error\n",
      "  mel = np.mean(librosa.feature.melspectrogram(X, sr=sample_rate).T,axis=0)\n",
      "C:\\Users\\Mouad\\AppData\\Local\\Temp/ipykernel_12796/1163463125.py:31: FutureWarning: Pass y=[0.00012207 0.00015259 0.00015259 ... 0.00015259 0.00018311 0.00018311] as keyword args. From version 0.10 passing these as positional arguments will result in an error\n",
      "  mel = np.mean(librosa.feature.melspectrogram(X, sr=sample_rate).T,axis=0)\n",
      "C:\\Users\\Mouad\\AppData\\Local\\Temp/ipykernel_12796/1163463125.py:31: FutureWarning: Pass y=[ 1.8310547e-04  2.1362305e-04  2.1362305e-04 ... -1.2207031e-04\n",
      "  0.0000000e+00 -6.1035156e-05] as keyword args. From version 0.10 passing these as positional arguments will result in an error\n",
      "  mel = np.mean(librosa.feature.melspectrogram(X, sr=sample_rate).T,axis=0)\n",
      "C:\\Users\\Mouad\\AppData\\Local\\Temp/ipykernel_12796/1163463125.py:31: FutureWarning: Pass y=[0.         0.         0.         ... 0.00088501 0.00076294 0.00076294] as keyword args. From version 0.10 passing these as positional arguments will result in an error\n",
      "  mel = np.mean(librosa.feature.melspectrogram(X, sr=sample_rate).T,axis=0)\n"
     ]
    },
    {
     "name": "stdout",
     "output_type": "stream",
     "text": [
      "03-01-04-01-02-02-08.wav\n",
      "03-01-04-02-01-01-08.wav\n",
      "03-01-04-02-01-02-08.wav\n",
      "03-01-04-02-02-01-08.wav\n"
     ]
    },
    {
     "name": "stderr",
     "output_type": "stream",
     "text": [
      "C:\\Users\\Mouad\\AppData\\Local\\Temp/ipykernel_12796/1163463125.py:31: FutureWarning: Pass y=[0.0000000e+00 0.0000000e+00 0.0000000e+00 ... 3.0517578e-05 3.0517578e-05\n",
      " 6.1035156e-05] as keyword args. From version 0.10 passing these as positional arguments will result in an error\n",
      "  mel = np.mean(librosa.feature.melspectrogram(X, sr=sample_rate).T,axis=0)\n",
      "C:\\Users\\Mouad\\AppData\\Local\\Temp/ipykernel_12796/1163463125.py:31: FutureWarning: Pass y=[0.         0.         0.         ... 0.00231934 0.00238037 0.00234985] as keyword args. From version 0.10 passing these as positional arguments will result in an error\n",
      "  mel = np.mean(librosa.feature.melspectrogram(X, sr=sample_rate).T,axis=0)\n",
      "C:\\Users\\Mouad\\AppData\\Local\\Temp/ipykernel_12796/1163463125.py:31: FutureWarning: Pass y=[-6.1035156e-05 -6.1035156e-05 -6.1035156e-05 ... -8.5449219e-04\n",
      " -6.4086914e-04  6.1035156e-05] as keyword args. From version 0.10 passing these as positional arguments will result in an error\n",
      "  mel = np.mean(librosa.feature.melspectrogram(X, sr=sample_rate).T,axis=0)\n",
      "C:\\Users\\Mouad\\AppData\\Local\\Temp/ipykernel_12796/1163463125.py:31: FutureWarning: Pass y=[ 0.0000000e+00 -3.0517578e-05  0.0000000e+00 ... -2.4414062e-04\n",
      " -2.1667480e-03 -2.4414062e-03] as keyword args. From version 0.10 passing these as positional arguments will result in an error\n",
      "  mel = np.mean(librosa.feature.melspectrogram(X, sr=sample_rate).T,axis=0)\n"
     ]
    },
    {
     "name": "stdout",
     "output_type": "stream",
     "text": [
      "03-01-04-02-02-02-08.wav\n",
      "03-01-05-01-01-01-08.wav\n",
      "03-01-05-01-01-02-08.wav\n",
      "03-01-05-01-02-01-08.wav\n"
     ]
    },
    {
     "name": "stderr",
     "output_type": "stream",
     "text": [
      "C:\\Users\\Mouad\\AppData\\Local\\Temp/ipykernel_12796/1163463125.py:31: FutureWarning: Pass y=[-9.1552734e-05 -9.1552734e-05 -9.1552734e-05 ...  0.0000000e+00\n",
      "  6.1035156e-05  1.8310547e-04] as keyword args. From version 0.10 passing these as positional arguments will result in an error\n",
      "  mel = np.mean(librosa.feature.melspectrogram(X, sr=sample_rate).T,axis=0)\n",
      "C:\\Users\\Mouad\\AppData\\Local\\Temp/ipykernel_12796/1163463125.py:31: FutureWarning: Pass y=[-0.00018311 -0.00018311 -0.00018311 ...  0.00027466  0.00027466\n",
      "  0.00018311] as keyword args. From version 0.10 passing these as positional arguments will result in an error\n",
      "  mel = np.mean(librosa.feature.melspectrogram(X, sr=sample_rate).T,axis=0)\n",
      "C:\\Users\\Mouad\\AppData\\Local\\Temp/ipykernel_12796/1163463125.py:31: FutureWarning: Pass y=[ 0.00018311  0.00015259  0.00018311 ... -0.00021362 -0.00018311\n",
      " -0.00015259] as keyword args. From version 0.10 passing these as positional arguments will result in an error\n",
      "  mel = np.mean(librosa.feature.melspectrogram(X, sr=sample_rate).T,axis=0)\n"
     ]
    },
    {
     "name": "stdout",
     "output_type": "stream",
     "text": [
      "03-01-05-01-02-02-08.wav\n",
      "03-01-05-02-01-01-08.wav\n",
      "03-01-05-02-01-02-08.wav\n",
      "03-01-05-02-02-01-08.wav\n",
      "03-01-05-02-02-02-08.wav\n",
      "03-01-06-01-01-01-08.wav\n",
      "03-01-06-01-01-02-08.wav\n",
      "03-01-06-01-02-01-08.wav\n",
      "03-01-06-01-02-02-08.wav\n",
      "03-01-06-02-01-01-08.wav\n",
      "03-01-06-02-01-02-08.wav\n",
      "03-01-06-02-02-01-08.wav\n",
      "03-01-06-02-02-02-08.wav\n",
      "03-01-07-01-01-01-08.wav\n",
      "03-01-07-01-01-02-08.wav\n",
      "03-01-07-01-02-01-08.wav\n",
      "03-01-07-01-02-02-08.wav\n",
      "03-01-07-02-01-01-08.wav\n",
      "03-01-07-02-01-02-08.wav\n",
      "03-01-07-02-02-01-08.wav\n",
      "03-01-07-02-02-02-08.wav\n",
      "03-01-08-01-01-01-08.wav\n",
      "03-01-08-01-01-02-08.wav\n",
      "03-01-08-01-02-01-08.wav\n",
      "03-01-08-01-02-02-08.wav\n",
      "03-01-08-02-01-01-08.wav\n",
      "03-01-08-02-01-02-08.wav\n",
      "03-01-08-02-02-01-08.wav\n",
      "03-01-08-02-02-02-08.wav\n",
      "03-01-01-01-01-01-09.wav\n"
     ]
    },
    {
     "name": "stderr",
     "output_type": "stream",
     "text": [
      "C:\\Users\\Mouad\\AppData\\Local\\Temp/ipykernel_12796/1163463125.py:31: FutureWarning: Pass y=[0.00012207 0.00012207 0.00012207 ... 0.         0.         0.        ] as keyword args. From version 0.10 passing these as positional arguments will result in an error\n",
      "  mel = np.mean(librosa.feature.melspectrogram(X, sr=sample_rate).T,axis=0)\n",
      "C:\\Users\\Mouad\\AppData\\Local\\Temp/ipykernel_12796/1163463125.py:31: FutureWarning: Pass y=[1.8310547e-04 1.8310547e-04 1.8310547e-04 ... 3.0517578e-05 0.0000000e+00\n",
      " 3.0517578e-05] as keyword args. From version 0.10 passing these as positional arguments will result in an error\n",
      "  mel = np.mean(librosa.feature.melspectrogram(X, sr=sample_rate).T,axis=0)\n",
      "C:\\Users\\Mouad\\AppData\\Local\\Temp/ipykernel_12796/1163463125.py:31: FutureWarning: Pass y=[ 8.5449219e-04  8.5449219e-04  8.8500977e-04 ... -6.1035156e-05\n",
      " -6.1035156e-05 -6.1035156e-05] as keyword args. From version 0.10 passing these as positional arguments will result in an error\n",
      "  mel = np.mean(librosa.feature.melspectrogram(X, sr=sample_rate).T,axis=0)\n"
     ]
    },
    {
     "name": "stdout",
     "output_type": "stream",
     "text": [
      "03-01-01-01-01-02-09.wav\n",
      "03-01-01-01-02-01-09.wav\n",
      "03-01-01-01-02-02-09.wav\n",
      "03-01-02-01-01-01-09.wav\n",
      "03-01-02-01-01-02-09.wav\n",
      "03-01-02-01-02-01-09.wav\n",
      "03-01-02-01-02-02-09.wav\n",
      "03-01-02-02-01-01-09.wav\n",
      "03-01-02-02-01-02-09.wav\n",
      "03-01-02-02-02-01-09.wav\n",
      "03-01-02-02-02-02-09.wav\n",
      "03-01-03-01-01-01-09.wav\n",
      "03-01-03-01-01-02-09.wav\n",
      "03-01-03-01-02-01-09.wav\n",
      "03-01-03-01-02-02-09.wav\n",
      "03-01-03-02-01-01-09.wav\n"
     ]
    },
    {
     "name": "stderr",
     "output_type": "stream",
     "text": [
      "C:\\Users\\Mouad\\AppData\\Local\\Temp/ipykernel_12796/1163463125.py:31: FutureWarning: Pass y=[ 9.1552734e-05  1.2207031e-04  1.2207031e-04 ... -3.0517578e-05\n",
      " -6.1035156e-05  0.0000000e+00] as keyword args. From version 0.10 passing these as positional arguments will result in an error\n",
      "  mel = np.mean(librosa.feature.melspectrogram(X, sr=sample_rate).T,axis=0)\n",
      "C:\\Users\\Mouad\\AppData\\Local\\Temp/ipykernel_12796/1163463125.py:31: FutureWarning: Pass y=[0.0007019  0.00067139 0.00067139 ... 0.         0.         0.        ] as keyword args. From version 0.10 passing these as positional arguments will result in an error\n",
      "  mel = np.mean(librosa.feature.melspectrogram(X, sr=sample_rate).T,axis=0)\n"
     ]
    },
    {
     "name": "stdout",
     "output_type": "stream",
     "text": [
      "03-01-03-02-01-02-09.wav\n",
      "03-01-03-02-02-01-09.wav\n",
      "03-01-03-02-02-02-09.wav\n"
     ]
    },
    {
     "name": "stderr",
     "output_type": "stream",
     "text": [
      "C:\\Users\\Mouad\\AppData\\Local\\Temp/ipykernel_12796/1163463125.py:31: FutureWarning: Pass y=[-6.1035156e-05 -6.1035156e-05 -3.0517578e-05 ... -1.2207031e-04\n",
      " -1.2207031e-04 -1.2207031e-04] as keyword args. From version 0.10 passing these as positional arguments will result in an error\n",
      "  mel = np.mean(librosa.feature.melspectrogram(X, sr=sample_rate).T,axis=0)\n",
      "C:\\Users\\Mouad\\AppData\\Local\\Temp/ipykernel_12796/1163463125.py:31: FutureWarning: Pass y=[ 0.0000000e+00  0.0000000e+00  0.0000000e+00 ... -6.1035156e-05\n",
      " -9.1552734e-05 -9.1552734e-05] as keyword args. From version 0.10 passing these as positional arguments will result in an error\n",
      "  mel = np.mean(librosa.feature.melspectrogram(X, sr=sample_rate).T,axis=0)\n",
      "C:\\Users\\Mouad\\AppData\\Local\\Temp/ipykernel_12796/1163463125.py:31: FutureWarning: Pass y=[-6.1035156e-05  3.0517578e-05  3.0517578e-05 ...  6.1035156e-05\n",
      " -3.0517578e-05 -9.1552734e-05] as keyword args. From version 0.10 passing these as positional arguments will result in an error\n",
      "  mel = np.mean(librosa.feature.melspectrogram(X, sr=sample_rate).T,axis=0)\n"
     ]
    },
    {
     "name": "stdout",
     "output_type": "stream",
     "text": [
      "03-01-04-01-01-01-09.wav\n",
      "03-01-04-01-01-02-09.wav\n",
      "03-01-04-01-02-01-09.wav\n"
     ]
    },
    {
     "name": "stderr",
     "output_type": "stream",
     "text": [
      "C:\\Users\\Mouad\\AppData\\Local\\Temp/ipykernel_12796/1163463125.py:31: FutureWarning: Pass y=[ 0.0000000e+00  0.0000000e+00  0.0000000e+00 ... -3.0517578e-05\n",
      "  0.0000000e+00 -3.0517578e-05] as keyword args. From version 0.10 passing these as positional arguments will result in an error\n",
      "  mel = np.mean(librosa.feature.melspectrogram(X, sr=sample_rate).T,axis=0)\n",
      "C:\\Users\\Mouad\\AppData\\Local\\Temp/ipykernel_12796/1163463125.py:31: FutureWarning: Pass y=[ 0.0000000e+00  0.0000000e+00  0.0000000e+00 ... -3.0517578e-05\n",
      " -6.1035156e-05 -6.1035156e-05] as keyword args. From version 0.10 passing these as positional arguments will result in an error\n",
      "  mel = np.mean(librosa.feature.melspectrogram(X, sr=sample_rate).T,axis=0)\n",
      "C:\\Users\\Mouad\\AppData\\Local\\Temp/ipykernel_12796/1163463125.py:31: FutureWarning: Pass y=[0.0000000e+00 0.0000000e+00 0.0000000e+00 ... 3.0517578e-05 3.0517578e-05\n",
      " 3.0517578e-05] as keyword args. From version 0.10 passing these as positional arguments will result in an error\n",
      "  mel = np.mean(librosa.feature.melspectrogram(X, sr=sample_rate).T,axis=0)\n"
     ]
    },
    {
     "name": "stdout",
     "output_type": "stream",
     "text": [
      "03-01-04-01-02-02-09.wav\n",
      "03-01-04-02-01-01-09.wav\n",
      "03-01-04-02-01-02-09.wav\n",
      "03-01-04-02-02-01-09.wav\n",
      "03-01-04-02-02-02-09.wav\n",
      "03-01-05-01-01-01-09.wav\n",
      "03-01-05-01-01-02-09.wav\n",
      "03-01-05-01-02-01-09.wav\n",
      "03-01-05-01-02-02-09.wav\n"
     ]
    },
    {
     "name": "stderr",
     "output_type": "stream",
     "text": [
      "C:\\Users\\Mouad\\AppData\\Local\\Temp/ipykernel_12796/1163463125.py:31: FutureWarning: Pass y=[ 0.          0.          0.         ... -0.00012207 -0.00012207\n",
      " -0.00015259] as keyword args. From version 0.10 passing these as positional arguments will result in an error\n",
      "  mel = np.mean(librosa.feature.melspectrogram(X, sr=sample_rate).T,axis=0)\n",
      "C:\\Users\\Mouad\\AppData\\Local\\Temp/ipykernel_12796/1163463125.py:31: FutureWarning: Pass y=[ 0.0000000e+00  3.0517578e-05  0.0000000e+00 ... -2.7465820e-04\n",
      " -3.0517578e-04 -2.7465820e-04] as keyword args. From version 0.10 passing these as positional arguments will result in an error\n",
      "  mel = np.mean(librosa.feature.melspectrogram(X, sr=sample_rate).T,axis=0)\n",
      "C:\\Users\\Mouad\\AppData\\Local\\Temp/ipykernel_12796/1163463125.py:31: FutureWarning: Pass y=[ 3.0517578e-05  0.0000000e+00  0.0000000e+00 ... -1.5258789e-04\n",
      " -1.2207031e-04 -2.1362305e-04] as keyword args. From version 0.10 passing these as positional arguments will result in an error\n",
      "  mel = np.mean(librosa.feature.melspectrogram(X, sr=sample_rate).T,axis=0)\n"
     ]
    },
    {
     "name": "stdout",
     "output_type": "stream",
     "text": [
      "03-01-05-02-01-01-09.wav\n",
      "03-01-05-02-01-02-09.wav\n",
      "03-01-05-02-02-01-09.wav\n"
     ]
    },
    {
     "name": "stderr",
     "output_type": "stream",
     "text": [
      "C:\\Users\\Mouad\\AppData\\Local\\Temp/ipykernel_12796/1163463125.py:31: FutureWarning: Pass y=[9.1552734e-05 1.2207031e-04 1.8310547e-04 ... 1.5258789e-04 1.8310547e-04\n",
      " 1.5258789e-04] as keyword args. From version 0.10 passing these as positional arguments will result in an error\n",
      "  mel = np.mean(librosa.feature.melspectrogram(X, sr=sample_rate).T,axis=0)\n",
      "C:\\Users\\Mouad\\AppData\\Local\\Temp/ipykernel_12796/1163463125.py:31: FutureWarning: Pass y=[ 0.00027466  0.00048828  0.0005188  ... -0.00036621 -0.00042725\n",
      " -0.00033569] as keyword args. From version 0.10 passing these as positional arguments will result in an error\n",
      "  mel = np.mean(librosa.feature.melspectrogram(X, sr=sample_rate).T,axis=0)\n"
     ]
    },
    {
     "name": "stdout",
     "output_type": "stream",
     "text": [
      "03-01-05-02-02-02-09.wav\n",
      "03-01-06-01-01-01-09.wav\n",
      "03-01-06-01-01-02-09.wav\n",
      "03-01-06-01-02-01-09.wav\n",
      "03-01-06-01-02-02-09.wav\n",
      "03-01-06-02-01-01-09.wav\n",
      "03-01-06-02-01-02-09.wav\n",
      "03-01-06-02-02-01-09.wav\n",
      "03-01-06-02-02-02-09.wav\n",
      "03-01-07-01-01-01-09.wav\n",
      "03-01-07-01-01-02-09.wav\n",
      "03-01-07-01-02-01-09.wav\n",
      "03-01-07-01-02-02-09.wav\n",
      "03-01-07-02-01-01-09.wav\n",
      "03-01-07-02-01-02-09.wav\n",
      "03-01-07-02-02-01-09.wav\n",
      "03-01-07-02-02-02-09.wav\n",
      "03-01-08-01-01-01-09.wav\n",
      "03-01-08-01-01-02-09.wav\n",
      "03-01-08-01-02-01-09.wav\n",
      "03-01-08-01-02-02-09.wav\n",
      "03-01-08-02-01-01-09.wav\n",
      "03-01-08-02-01-02-09.wav\n",
      "03-01-08-02-02-01-09.wav\n",
      "03-01-08-02-02-02-09.wav\n",
      "03-01-01-01-01-01-10.wav\n",
      "03-01-01-01-01-02-10.wav\n"
     ]
    },
    {
     "name": "stderr",
     "output_type": "stream",
     "text": [
      "C:\\Users\\Mouad\\AppData\\Local\\Temp/ipykernel_12796/1163463125.py:31: FutureWarning: Pass y=[6.1035156e-05 3.0517578e-05 6.1035156e-05 ... 0.0000000e+00 3.0517578e-05\n",
      " 3.0517578e-05] as keyword args. From version 0.10 passing these as positional arguments will result in an error\n",
      "  mel = np.mean(librosa.feature.melspectrogram(X, sr=sample_rate).T,axis=0)\n",
      "C:\\Users\\Mouad\\AppData\\Local\\Temp/ipykernel_12796/1163463125.py:31: FutureWarning: Pass y=[-3.0517578e-05 -3.0517578e-05  2.7465820e-04 ...  6.1035156e-05\n",
      "  9.1552734e-05  6.1035156e-05] as keyword args. From version 0.10 passing these as positional arguments will result in an error\n",
      "  mel = np.mean(librosa.feature.melspectrogram(X, sr=sample_rate).T,axis=0)\n",
      "C:\\Users\\Mouad\\AppData\\Local\\Temp/ipykernel_12796/1163463125.py:31: FutureWarning: Pass y=[-6.1035156e-05 -6.1035156e-05 -6.1035156e-05 ...  0.0000000e+00\n",
      " -3.0517578e-05 -3.0517578e-05] as keyword args. From version 0.10 passing these as positional arguments will result in an error\n",
      "  mel = np.mean(librosa.feature.melspectrogram(X, sr=sample_rate).T,axis=0)\n"
     ]
    },
    {
     "name": "stdout",
     "output_type": "stream",
     "text": [
      "03-01-01-01-02-01-10.wav\n",
      "03-01-01-01-02-02-10.wav\n",
      "03-01-02-01-01-01-10.wav\n",
      "03-01-02-01-01-02-10.wav\n",
      "03-01-02-01-02-01-10.wav\n",
      "03-01-02-01-02-02-10.wav\n",
      "03-01-02-02-01-01-10.wav\n",
      "03-01-02-02-01-02-10.wav\n",
      "03-01-02-02-02-01-10.wav\n",
      "03-01-02-02-02-02-10.wav\n",
      "03-01-03-01-01-01-10.wav\n"
     ]
    },
    {
     "name": "stderr",
     "output_type": "stream",
     "text": [
      "C:\\Users\\Mouad\\AppData\\Local\\Temp/ipykernel_12796/1163463125.py:31: FutureWarning: Pass y=[ 9.1552734e-05  9.1552734e-05  9.1552734e-05 ... -3.0517578e-05\n",
      " -3.0517578e-05  0.0000000e+00] as keyword args. From version 0.10 passing these as positional arguments will result in an error\n",
      "  mel = np.mean(librosa.feature.melspectrogram(X, sr=sample_rate).T,axis=0)\n",
      "C:\\Users\\Mouad\\AppData\\Local\\Temp/ipykernel_12796/1163463125.py:31: FutureWarning: Pass y=[ 3.0517578e-05  0.0000000e+00  0.0000000e+00 ... -6.1035156e-05\n",
      " -6.1035156e-05 -6.1035156e-05] as keyword args. From version 0.10 passing these as positional arguments will result in an error\n",
      "  mel = np.mean(librosa.feature.melspectrogram(X, sr=sample_rate).T,axis=0)\n"
     ]
    },
    {
     "name": "stdout",
     "output_type": "stream",
     "text": [
      "03-01-03-01-01-02-10.wav\n",
      "03-01-03-01-02-01-10.wav\n",
      "03-01-03-01-02-02-10.wav\n"
     ]
    },
    {
     "name": "stderr",
     "output_type": "stream",
     "text": [
      "C:\\Users\\Mouad\\AppData\\Local\\Temp/ipykernel_12796/1163463125.py:31: FutureWarning: Pass y=[ 3.0517578e-05  0.0000000e+00  3.0517578e-05 ...  0.0000000e+00\n",
      " -9.1552734e-05  3.0517578e-05] as keyword args. From version 0.10 passing these as positional arguments will result in an error\n",
      "  mel = np.mean(librosa.feature.melspectrogram(X, sr=sample_rate).T,axis=0)\n",
      "C:\\Users\\Mouad\\AppData\\Local\\Temp/ipykernel_12796/1163463125.py:31: FutureWarning: Pass y=[ 0.0000000e+00  0.0000000e+00  3.0517578e-05 ...  3.9672852e-04\n",
      "  4.5776367e-04 -2.7465820e-04] as keyword args. From version 0.10 passing these as positional arguments will result in an error\n",
      "  mel = np.mean(librosa.feature.melspectrogram(X, sr=sample_rate).T,axis=0)\n",
      "C:\\Users\\Mouad\\AppData\\Local\\Temp/ipykernel_12796/1163463125.py:31: FutureWarning: Pass y=[-2.7465820e-04  1.8310547e-04 -6.1035156e-05 ...  9.1552734e-05\n",
      "  1.2207031e-04  9.1552734e-05] as keyword args. From version 0.10 passing these as positional arguments will result in an error\n",
      "  mel = np.mean(librosa.feature.melspectrogram(X, sr=sample_rate).T,axis=0)\n"
     ]
    },
    {
     "name": "stdout",
     "output_type": "stream",
     "text": [
      "03-01-03-02-01-01-10.wav\n",
      "03-01-03-02-01-02-10.wav\n",
      "03-01-03-02-02-01-10.wav\n"
     ]
    },
    {
     "name": "stderr",
     "output_type": "stream",
     "text": [
      "C:\\Users\\Mouad\\AppData\\Local\\Temp/ipykernel_12796/1163463125.py:31: FutureWarning: Pass y=[-6.1035156e-05 -6.1035156e-05 -3.0517578e-05 ... -3.0517578e-05\n",
      "  0.0000000e+00 -3.0517578e-05] as keyword args. From version 0.10 passing these as positional arguments will result in an error\n",
      "  mel = np.mean(librosa.feature.melspectrogram(X, sr=sample_rate).T,axis=0)\n",
      "C:\\Users\\Mouad\\AppData\\Local\\Temp/ipykernel_12796/1163463125.py:31: FutureWarning: Pass y=[ 3.0517578e-05  3.0517578e-05  3.0517578e-05 ...  0.0000000e+00\n",
      " -3.0517578e-05 -3.0517578e-05] as keyword args. From version 0.10 passing these as positional arguments will result in an error\n",
      "  mel = np.mean(librosa.feature.melspectrogram(X, sr=sample_rate).T,axis=0)\n",
      "C:\\Users\\Mouad\\AppData\\Local\\Temp/ipykernel_12796/1163463125.py:31: FutureWarning: Pass y=[-3.0517578e-05 -3.0517578e-05  0.0000000e+00 ...  0.0000000e+00\n",
      "  0.0000000e+00  3.0517578e-05] as keyword args. From version 0.10 passing these as positional arguments will result in an error\n",
      "  mel = np.mean(librosa.feature.melspectrogram(X, sr=sample_rate).T,axis=0)\n"
     ]
    },
    {
     "name": "stdout",
     "output_type": "stream",
     "text": [
      "03-01-03-02-02-02-10.wav\n",
      "03-01-04-01-01-01-10.wav\n",
      "03-01-04-01-01-02-10.wav\n"
     ]
    },
    {
     "name": "stderr",
     "output_type": "stream",
     "text": [
      "C:\\Users\\Mouad\\AppData\\Local\\Temp/ipykernel_12796/1163463125.py:31: FutureWarning: Pass y=[ 9.1552734e-05  9.1552734e-05  9.1552734e-05 ... -1.2207031e-04\n",
      " -9.1552734e-05 -1.2207031e-04] as keyword args. From version 0.10 passing these as positional arguments will result in an error\n",
      "  mel = np.mean(librosa.feature.melspectrogram(X, sr=sample_rate).T,axis=0)\n",
      "C:\\Users\\Mouad\\AppData\\Local\\Temp/ipykernel_12796/1163463125.py:31: FutureWarning: Pass y=[ 1.4648438e-03  6.1035156e-04  2.1667480e-03 ... -3.0517578e-05\n",
      " -3.0517578e-05 -3.0517578e-05] as keyword args. From version 0.10 passing these as positional arguments will result in an error\n",
      "  mel = np.mean(librosa.feature.melspectrogram(X, sr=sample_rate).T,axis=0)\n",
      "C:\\Users\\Mouad\\AppData\\Local\\Temp/ipykernel_12796/1163463125.py:31: FutureWarning: Pass y=[-6.1035156e-05 -6.1035156e-05 -6.1035156e-05 ...  0.0000000e+00\n",
      "  3.0517578e-05  3.0517578e-05] as keyword args. From version 0.10 passing these as positional arguments will result in an error\n",
      "  mel = np.mean(librosa.feature.melspectrogram(X, sr=sample_rate).T,axis=0)\n"
     ]
    },
    {
     "name": "stdout",
     "output_type": "stream",
     "text": [
      "03-01-04-01-02-01-10.wav\n",
      "03-01-04-01-02-02-10.wav\n",
      "03-01-04-02-01-01-10.wav\n"
     ]
    },
    {
     "name": "stderr",
     "output_type": "stream",
     "text": [
      "C:\\Users\\Mouad\\AppData\\Local\\Temp/ipykernel_12796/1163463125.py:31: FutureWarning: Pass y=[ 0.0000000e+00 -1.2207031e-04 -9.1552734e-05 ...  0.0000000e+00\n",
      "  3.0517578e-05  0.0000000e+00] as keyword args. From version 0.10 passing these as positional arguments will result in an error\n",
      "  mel = np.mean(librosa.feature.melspectrogram(X, sr=sample_rate).T,axis=0)\n",
      "C:\\Users\\Mouad\\AppData\\Local\\Temp/ipykernel_12796/1163463125.py:31: FutureWarning: Pass y=[ 3.0517578e-05 -6.1035156e-05 -3.0517578e-05 ...  3.0517578e-05\n",
      "  0.0000000e+00  3.0517578e-05] as keyword args. From version 0.10 passing these as positional arguments will result in an error\n",
      "  mel = np.mean(librosa.feature.melspectrogram(X, sr=sample_rate).T,axis=0)\n",
      "C:\\Users\\Mouad\\AppData\\Local\\Temp/ipykernel_12796/1163463125.py:31: FutureWarning: Pass y=[-6.1035156e-05 -3.0517578e-05  0.0000000e+00 ...  3.0517578e-05\n",
      "  3.0517578e-05  0.0000000e+00] as keyword args. From version 0.10 passing these as positional arguments will result in an error\n",
      "  mel = np.mean(librosa.feature.melspectrogram(X, sr=sample_rate).T,axis=0)\n"
     ]
    },
    {
     "name": "stdout",
     "output_type": "stream",
     "text": [
      "03-01-04-02-01-02-10.wav\n",
      "03-01-04-02-02-01-10.wav\n",
      "03-01-04-02-02-02-10.wav\n"
     ]
    },
    {
     "name": "stderr",
     "output_type": "stream",
     "text": [
      "C:\\Users\\Mouad\\AppData\\Local\\Temp/ipykernel_12796/1163463125.py:31: FutureWarning: Pass y=[6.1035156e-05 6.1035156e-05 6.1035156e-05 ... 3.0517578e-05 3.0517578e-05\n",
      " 3.0517578e-05] as keyword args. From version 0.10 passing these as positional arguments will result in an error\n",
      "  mel = np.mean(librosa.feature.melspectrogram(X, sr=sample_rate).T,axis=0)\n",
      "C:\\Users\\Mouad\\AppData\\Local\\Temp/ipykernel_12796/1163463125.py:31: FutureWarning: Pass y=[ 3.9672852e-04  1.8310547e-04 -2.7465820e-04 ...  0.0000000e+00\n",
      "  0.0000000e+00  3.0517578e-05] as keyword args. From version 0.10 passing these as positional arguments will result in an error\n",
      "  mel = np.mean(librosa.feature.melspectrogram(X, sr=sample_rate).T,axis=0)\n",
      "C:\\Users\\Mouad\\AppData\\Local\\Temp/ipykernel_12796/1163463125.py:31: FutureWarning: Pass y=[ 3.0517578e-05 -3.0517578e-05 -2.1362305e-04 ...  0.0000000e+00\n",
      "  0.0000000e+00 -3.0517578e-05] as keyword args. From version 0.10 passing these as positional arguments will result in an error\n",
      "  mel = np.mean(librosa.feature.melspectrogram(X, sr=sample_rate).T,axis=0)\n"
     ]
    },
    {
     "name": "stdout",
     "output_type": "stream",
     "text": [
      "03-01-05-01-01-01-10.wav\n",
      "03-01-05-01-01-02-10.wav\n",
      "03-01-05-01-02-01-10.wav\n"
     ]
    },
    {
     "name": "stderr",
     "output_type": "stream",
     "text": [
      "C:\\Users\\Mouad\\AppData\\Local\\Temp/ipykernel_12796/1163463125.py:31: FutureWarning: Pass y=[-1.5258789e-04  6.1035156e-05  1.5258789e-04 ...  0.0000000e+00\n",
      "  0.0000000e+00  0.0000000e+00] as keyword args. From version 0.10 passing these as positional arguments will result in an error\n",
      "  mel = np.mean(librosa.feature.melspectrogram(X, sr=sample_rate).T,axis=0)\n",
      "C:\\Users\\Mouad\\AppData\\Local\\Temp/ipykernel_12796/1163463125.py:31: FutureWarning: Pass y=[ 0.0000000e+00 -3.0517578e-05 -3.0517578e-05 ...  3.0517578e-05\n",
      "  3.0517578e-05  3.0517578e-05] as keyword args. From version 0.10 passing these as positional arguments will result in an error\n",
      "  mel = np.mean(librosa.feature.melspectrogram(X, sr=sample_rate).T,axis=0)\n",
      "C:\\Users\\Mouad\\AppData\\Local\\Temp/ipykernel_12796/1163463125.py:31: FutureWarning: Pass y=[ 6.4086914e-04  2.7465820e-04 -4.5776367e-04 ...  1.2207031e-04\n",
      "  9.1552734e-05  3.0517578e-05] as keyword args. From version 0.10 passing these as positional arguments will result in an error\n",
      "  mel = np.mean(librosa.feature.melspectrogram(X, sr=sample_rate).T,axis=0)\n"
     ]
    },
    {
     "name": "stdout",
     "output_type": "stream",
     "text": [
      "03-01-05-01-02-02-10.wav\n",
      "03-01-05-02-01-01-10.wav\n",
      "03-01-05-02-01-02-10.wav\n"
     ]
    },
    {
     "name": "stderr",
     "output_type": "stream",
     "text": [
      "C:\\Users\\Mouad\\AppData\\Local\\Temp/ipykernel_12796/1163463125.py:31: FutureWarning: Pass y=[0.0000000e+00 1.5258789e-04 1.2207031e-04 ... 3.0517578e-05 0.0000000e+00\n",
      " 0.0000000e+00] as keyword args. From version 0.10 passing these as positional arguments will result in an error\n",
      "  mel = np.mean(librosa.feature.melspectrogram(X, sr=sample_rate).T,axis=0)\n",
      "C:\\Users\\Mouad\\AppData\\Local\\Temp/ipykernel_12796/1163463125.py:31: FutureWarning: Pass y=[1.5258789e-04 1.5258789e-04 1.8310547e-04 ... 3.0517578e-05 3.0517578e-05\n",
      " 0.0000000e+00] as keyword args. From version 0.10 passing these as positional arguments will result in an error\n",
      "  mel = np.mean(librosa.feature.melspectrogram(X, sr=sample_rate).T,axis=0)\n",
      "C:\\Users\\Mouad\\AppData\\Local\\Temp/ipykernel_12796/1163463125.py:31: FutureWarning: Pass y=[-3.0517578e-05  0.0000000e+00  0.0000000e+00 ... -3.0517578e-05\n",
      " -3.0517578e-05  0.0000000e+00] as keyword args. From version 0.10 passing these as positional arguments will result in an error\n",
      "  mel = np.mean(librosa.feature.melspectrogram(X, sr=sample_rate).T,axis=0)\n"
     ]
    },
    {
     "name": "stdout",
     "output_type": "stream",
     "text": [
      "03-01-05-02-02-01-10.wav\n",
      "03-01-05-02-02-02-10.wav\n",
      "03-01-06-01-01-01-10.wav\n",
      "03-01-06-01-01-02-10.wav\n",
      "03-01-06-01-02-01-10.wav\n",
      "03-01-06-01-02-02-10.wav\n",
      "03-01-06-02-01-01-10.wav\n",
      "03-01-06-02-01-02-10.wav\n",
      "03-01-06-02-02-01-10.wav\n",
      "03-01-06-02-02-02-10.wav\n",
      "03-01-07-01-01-01-10.wav\n",
      "03-01-07-01-01-02-10.wav\n",
      "03-01-07-01-02-01-10.wav\n",
      "03-01-07-01-02-02-10.wav\n",
      "03-01-07-02-01-01-10.wav\n",
      "03-01-07-02-01-02-10.wav\n",
      "03-01-07-02-02-01-10.wav\n",
      "03-01-07-02-02-02-10.wav\n",
      "03-01-08-01-01-01-10.wav\n",
      "03-01-08-01-01-02-10.wav\n",
      "03-01-08-01-02-01-10.wav\n",
      "03-01-08-01-02-02-10.wav\n",
      "03-01-08-02-01-01-10.wav\n",
      "03-01-08-02-01-02-10.wav\n",
      "03-01-08-02-02-01-10.wav\n",
      "03-01-08-02-02-02-10.wav\n",
      "03-01-01-01-01-01-11.wav\n"
     ]
    },
    {
     "name": "stderr",
     "output_type": "stream",
     "text": [
      "C:\\Users\\Mouad\\AppData\\Local\\Temp/ipykernel_12796/1163463125.py:31: FutureWarning: Pass y=[-9.1552734e-05  3.0517578e-05  6.1035156e-05 ... -3.0517578e-05\n",
      "  6.1035156e-05 -3.0517578e-05] as keyword args. From version 0.10 passing these as positional arguments will result in an error\n",
      "  mel = np.mean(librosa.feature.melspectrogram(X, sr=sample_rate).T,axis=0)\n"
     ]
    },
    {
     "name": "stdout",
     "output_type": "stream",
     "text": [
      "03-01-01-01-01-02-11.wav\n",
      "03-01-01-01-02-01-11.wav\n",
      "03-01-01-01-02-02-11.wav\n"
     ]
    },
    {
     "name": "stderr",
     "output_type": "stream",
     "text": [
      "C:\\Users\\Mouad\\AppData\\Local\\Temp/ipykernel_12796/1163463125.py:31: FutureWarning: Pass y=[-6.1035156e-05 -6.1035156e-05 -6.1035156e-05 ...  4.5776367e-04\n",
      "  4.5776367e-04  4.5776367e-04] as keyword args. From version 0.10 passing these as positional arguments will result in an error\n",
      "  mel = np.mean(librosa.feature.melspectrogram(X, sr=sample_rate).T,axis=0)\n",
      "C:\\Users\\Mouad\\AppData\\Local\\Temp/ipykernel_12796/1163463125.py:31: FutureWarning: Pass y=[-9.1552734e-05 -9.1552734e-05 -6.1035156e-05 ... -3.0517578e-05\n",
      " -6.1035156e-05 -6.1035156e-05] as keyword args. From version 0.10 passing these as positional arguments will result in an error\n",
      "  mel = np.mean(librosa.feature.melspectrogram(X, sr=sample_rate).T,axis=0)\n",
      "C:\\Users\\Mouad\\AppData\\Local\\Temp/ipykernel_12796/1163463125.py:31: FutureWarning: Pass y=[ 0.0000000e+00  3.0517578e-05  3.0517578e-05 ... -3.0517578e-05\n",
      " -3.0517578e-05 -3.0517578e-05] as keyword args. From version 0.10 passing these as positional arguments will result in an error\n",
      "  mel = np.mean(librosa.feature.melspectrogram(X, sr=sample_rate).T,axis=0)\n",
      "C:\\Users\\Mouad\\AppData\\Local\\Temp/ipykernel_12796/1163463125.py:31: FutureWarning: Pass y=[3.0517578e-05 3.0517578e-05 3.0517578e-05 ... 6.1035156e-05 6.1035156e-05\n",
      " 6.1035156e-05] as keyword args. From version 0.10 passing these as positional arguments will result in an error\n",
      "  mel = np.mean(librosa.feature.melspectrogram(X, sr=sample_rate).T,axis=0)\n"
     ]
    },
    {
     "name": "stdout",
     "output_type": "stream",
     "text": [
      "03-01-02-01-01-01-11.wav\n",
      "03-01-02-01-01-02-11.wav\n",
      "03-01-02-01-02-01-11.wav\n",
      "03-01-02-01-02-02-11.wav\n",
      "03-01-02-02-01-01-11.wav\n",
      "03-01-02-02-01-02-11.wav\n",
      "03-01-02-02-02-01-11.wav\n",
      "03-01-02-02-02-02-11.wav\n",
      "03-01-03-01-01-01-11.wav\n",
      "03-01-03-01-01-02-11.wav\n",
      "03-01-03-01-02-01-11.wav\n",
      "03-01-03-01-02-02-11.wav\n"
     ]
    },
    {
     "name": "stderr",
     "output_type": "stream",
     "text": [
      "C:\\Users\\Mouad\\AppData\\Local\\Temp/ipykernel_12796/1163463125.py:31: FutureWarning: Pass y=[0.0000000e+00 0.0000000e+00 0.0000000e+00 ... 9.1552734e-05 6.1035156e-05\n",
      " 9.1552734e-05] as keyword args. From version 0.10 passing these as positional arguments will result in an error\n",
      "  mel = np.mean(librosa.feature.melspectrogram(X, sr=sample_rate).T,axis=0)\n",
      "C:\\Users\\Mouad\\AppData\\Local\\Temp/ipykernel_12796/1163463125.py:31: FutureWarning: Pass y=[0.0000000e+00 0.0000000e+00 0.0000000e+00 ... 9.1552734e-05 9.1552734e-05\n",
      " 9.1552734e-05] as keyword args. From version 0.10 passing these as positional arguments will result in an error\n",
      "  mel = np.mean(librosa.feature.melspectrogram(X, sr=sample_rate).T,axis=0)\n",
      "C:\\Users\\Mouad\\AppData\\Local\\Temp/ipykernel_12796/1163463125.py:31: FutureWarning: Pass y=[ 0.0000000e+00 -3.0517578e-05 -3.0517578e-05 ...  3.0517578e-05\n",
      "  2.1362305e-04  1.2207031e-04] as keyword args. From version 0.10 passing these as positional arguments will result in an error\n",
      "  mel = np.mean(librosa.feature.melspectrogram(X, sr=sample_rate).T,axis=0)\n"
     ]
    },
    {
     "name": "stdout",
     "output_type": "stream",
     "text": [
      "03-01-03-02-01-01-11.wav\n",
      "03-01-03-02-01-02-11.wav\n",
      "03-01-03-02-02-01-11.wav\n",
      "03-01-03-02-02-02-11.wav\n",
      "03-01-04-01-01-01-11.wav\n",
      "03-01-04-01-01-02-11.wav\n",
      "03-01-04-01-02-01-11.wav\n"
     ]
    },
    {
     "name": "stderr",
     "output_type": "stream",
     "text": [
      "C:\\Users\\Mouad\\AppData\\Local\\Temp/ipykernel_12796/1163463125.py:31: FutureWarning: Pass y=[1.2207031e-04 9.1552734e-05 9.1552734e-05 ... 1.8310547e-04 1.8310547e-04\n",
      " 1.8310547e-04] as keyword args. From version 0.10 passing these as positional arguments will result in an error\n",
      "  mel = np.mean(librosa.feature.melspectrogram(X, sr=sample_rate).T,axis=0)\n",
      "C:\\Users\\Mouad\\AppData\\Local\\Temp/ipykernel_12796/1163463125.py:31: FutureWarning: Pass y=[ 1.5258789e-04  1.2207031e-04  1.2207031e-04 ... -6.1035156e-05\n",
      " -6.1035156e-05 -9.1552734e-05] as keyword args. From version 0.10 passing these as positional arguments will result in an error\n",
      "  mel = np.mean(librosa.feature.melspectrogram(X, sr=sample_rate).T,axis=0)\n"
     ]
    },
    {
     "name": "stdout",
     "output_type": "stream",
     "text": [
      "03-01-04-01-02-02-11.wav\n",
      "03-01-04-02-01-01-11.wav\n",
      "03-01-04-02-01-02-11.wav\n"
     ]
    },
    {
     "name": "stderr",
     "output_type": "stream",
     "text": [
      "C:\\Users\\Mouad\\AppData\\Local\\Temp/ipykernel_12796/1163463125.py:31: FutureWarning: Pass y=[-6.1035156e-05 -6.1035156e-05 -6.1035156e-05 ...  0.0000000e+00\n",
      "  0.0000000e+00  0.0000000e+00] as keyword args. From version 0.10 passing these as positional arguments will result in an error\n",
      "  mel = np.mean(librosa.feature.melspectrogram(X, sr=sample_rate).T,axis=0)\n",
      "C:\\Users\\Mouad\\AppData\\Local\\Temp/ipykernel_12796/1163463125.py:31: FutureWarning: Pass y=[-3.0517578e-05 -3.0517578e-05 -6.1035156e-05 ...  3.0517578e-05\n",
      "  3.0517578e-05  0.0000000e+00] as keyword args. From version 0.10 passing these as positional arguments will result in an error\n",
      "  mel = np.mean(librosa.feature.melspectrogram(X, sr=sample_rate).T,axis=0)\n"
     ]
    },
    {
     "name": "stdout",
     "output_type": "stream",
     "text": [
      "03-01-04-02-02-01-11.wav\n",
      "03-01-04-02-02-02-11.wav\n",
      "03-01-05-01-01-01-11.wav\n"
     ]
    },
    {
     "name": "stderr",
     "output_type": "stream",
     "text": [
      "C:\\Users\\Mouad\\AppData\\Local\\Temp/ipykernel_12796/1163463125.py:31: FutureWarning: Pass y=[ 0.0000000e+00  3.0517578e-05  3.0517578e-05 ... -9.1552734e-05\n",
      " -9.1552734e-05 -9.1552734e-05] as keyword args. From version 0.10 passing these as positional arguments will result in an error\n",
      "  mel = np.mean(librosa.feature.melspectrogram(X, sr=sample_rate).T,axis=0)\n",
      "C:\\Users\\Mouad\\AppData\\Local\\Temp/ipykernel_12796/1163463125.py:31: FutureWarning: Pass y=[6.1035156e-05 9.1552734e-05 9.1552734e-05 ... 3.0517578e-05 3.0517578e-05\n",
      " 3.0517578e-05] as keyword args. From version 0.10 passing these as positional arguments will result in an error\n",
      "  mel = np.mean(librosa.feature.melspectrogram(X, sr=sample_rate).T,axis=0)\n"
     ]
    },
    {
     "name": "stdout",
     "output_type": "stream",
     "text": [
      "03-01-05-01-01-02-11.wav\n",
      "03-01-05-01-02-01-11.wav\n",
      "03-01-05-01-02-02-11.wav\n",
      "03-01-05-02-01-01-11.wav\n"
     ]
    },
    {
     "name": "stderr",
     "output_type": "stream",
     "text": [
      "C:\\Users\\Mouad\\AppData\\Local\\Temp/ipykernel_12796/1163463125.py:31: FutureWarning: Pass y=[-1.2207031e-04 -1.5258789e-04 -1.5258789e-04 ...  6.1035156e-05\n",
      "  6.1035156e-05  9.1552734e-05] as keyword args. From version 0.10 passing these as positional arguments will result in an error\n",
      "  mel = np.mean(librosa.feature.melspectrogram(X, sr=sample_rate).T,axis=0)\n",
      "C:\\Users\\Mouad\\AppData\\Local\\Temp/ipykernel_12796/1163463125.py:31: FutureWarning: Pass y=[-3.0517578e-05 -6.1035156e-05 -6.1035156e-05 ...  3.0517578e-05\n",
      "  3.0517578e-05  3.0517578e-05] as keyword args. From version 0.10 passing these as positional arguments will result in an error\n",
      "  mel = np.mean(librosa.feature.melspectrogram(X, sr=sample_rate).T,axis=0)\n"
     ]
    },
    {
     "name": "stdout",
     "output_type": "stream",
     "text": [
      "03-01-05-02-01-02-11.wav\n",
      "03-01-05-02-02-01-11.wav\n",
      "03-01-05-02-02-02-11.wav\n"
     ]
    },
    {
     "name": "stderr",
     "output_type": "stream",
     "text": [
      "C:\\Users\\Mouad\\AppData\\Local\\Temp/ipykernel_12796/1163463125.py:31: FutureWarning: Pass y=[ 0.          0.          0.         ... -0.00027466 -0.00027466\n",
      " -0.00027466] as keyword args. From version 0.10 passing these as positional arguments will result in an error\n",
      "  mel = np.mean(librosa.feature.melspectrogram(X, sr=sample_rate).T,axis=0)\n",
      "C:\\Users\\Mouad\\AppData\\Local\\Temp/ipykernel_12796/1163463125.py:31: FutureWarning: Pass y=[-1.2207031e-04 -9.1552734e-05 -6.1035156e-05 ... -1.2207031e-04\n",
      " -9.1552734e-05 -9.1552734e-05] as keyword args. From version 0.10 passing these as positional arguments will result in an error\n",
      "  mel = np.mean(librosa.feature.melspectrogram(X, sr=sample_rate).T,axis=0)\n"
     ]
    },
    {
     "name": "stdout",
     "output_type": "stream",
     "text": [
      "03-01-06-01-01-01-11.wav\n",
      "03-01-06-01-01-02-11.wav\n",
      "03-01-06-01-02-01-11.wav\n",
      "03-01-06-01-02-02-11.wav\n",
      "03-01-06-02-01-01-11.wav\n",
      "03-01-06-02-01-02-11.wav\n",
      "03-01-06-02-02-01-11.wav\n",
      "03-01-06-02-02-02-11.wav\n",
      "03-01-07-01-01-01-11.wav\n",
      "03-01-07-01-01-02-11.wav\n",
      "03-01-07-01-02-01-11.wav\n",
      "03-01-07-01-02-02-11.wav\n",
      "03-01-07-02-01-01-11.wav\n",
      "03-01-07-02-01-02-11.wav\n",
      "03-01-07-02-02-01-11.wav\n",
      "03-01-07-02-02-02-11.wav\n",
      "03-01-08-01-01-01-11.wav\n",
      "03-01-08-01-01-02-11.wav\n",
      "03-01-08-01-02-01-11.wav\n",
      "03-01-08-01-02-02-11.wav\n",
      "03-01-08-02-01-01-11.wav\n",
      "03-01-08-02-01-02-11.wav\n",
      "03-01-08-02-02-01-11.wav\n",
      "03-01-08-02-02-02-11.wav\n",
      "03-01-01-01-01-01-12.wav\n",
      "03-01-01-01-01-02-12.wav\n",
      "03-01-01-01-02-01-12.wav\n",
      "03-01-01-01-02-02-12.wav\n",
      "03-01-02-01-01-01-12.wav\n",
      "03-01-02-01-01-02-12.wav\n",
      "03-01-02-01-02-01-12.wav\n",
      "03-01-02-01-02-02-12.wav\n",
      "03-01-02-02-01-01-12.wav\n",
      "03-01-02-02-01-02-12.wav\n",
      "03-01-02-02-02-01-12.wav\n",
      "03-01-02-02-02-02-12.wav\n",
      "03-01-03-01-01-01-12.wav\n",
      "03-01-03-01-01-02-12.wav\n",
      "03-01-03-01-02-01-12.wav\n",
      "03-01-03-01-02-02-12.wav\n",
      "03-01-03-02-01-01-12.wav\n",
      "03-01-03-02-01-02-12.wav\n"
     ]
    },
    {
     "name": "stderr",
     "output_type": "stream",
     "text": [
      "C:\\Users\\Mouad\\AppData\\Local\\Temp/ipykernel_12796/1163463125.py:31: FutureWarning: Pass y=[ 0.0000000e+00 -3.0517578e-05  0.0000000e+00 ...  3.0517578e-05\n",
      "  3.0517578e-05  3.0517578e-05] as keyword args. From version 0.10 passing these as positional arguments will result in an error\n",
      "  mel = np.mean(librosa.feature.melspectrogram(X, sr=sample_rate).T,axis=0)\n",
      "C:\\Users\\Mouad\\AppData\\Local\\Temp/ipykernel_12796/1163463125.py:31: FutureWarning: Pass y=[ 0.          0.          0.         ... -0.00021362 -0.00024414\n",
      " -0.00018311] as keyword args. From version 0.10 passing these as positional arguments will result in an error\n",
      "  mel = np.mean(librosa.feature.melspectrogram(X, sr=sample_rate).T,axis=0)\n",
      "C:\\Users\\Mouad\\AppData\\Local\\Temp/ipykernel_12796/1163463125.py:31: FutureWarning: Pass y=[ 0.0000000e+00  0.0000000e+00  0.0000000e+00 ... -3.0517578e-05\n",
      " -3.0517578e-05 -3.0517578e-05] as keyword args. From version 0.10 passing these as positional arguments will result in an error\n",
      "  mel = np.mean(librosa.feature.melspectrogram(X, sr=sample_rate).T,axis=0)\n"
     ]
    },
    {
     "name": "stdout",
     "output_type": "stream",
     "text": [
      "03-01-03-02-02-01-12.wav\n",
      "03-01-03-02-02-02-12.wav\n",
      "03-01-04-01-01-01-12.wav\n"
     ]
    },
    {
     "name": "stderr",
     "output_type": "stream",
     "text": [
      "C:\\Users\\Mouad\\AppData\\Local\\Temp/ipykernel_12796/1163463125.py:31: FutureWarning: Pass y=[-3.0517578e-05 -3.0517578e-05  0.0000000e+00 ...  0.0000000e+00\n",
      "  0.0000000e+00  0.0000000e+00] as keyword args. From version 0.10 passing these as positional arguments will result in an error\n",
      "  mel = np.mean(librosa.feature.melspectrogram(X, sr=sample_rate).T,axis=0)\n",
      "C:\\Users\\Mouad\\AppData\\Local\\Temp/ipykernel_12796/1163463125.py:31: FutureWarning: Pass y=[-3.0517578e-05  0.0000000e+00  0.0000000e+00 ... -3.0212402e-03\n",
      " -3.0212402e-03 -3.0212402e-03] as keyword args. From version 0.10 passing these as positional arguments will result in an error\n",
      "  mel = np.mean(librosa.feature.melspectrogram(X, sr=sample_rate).T,axis=0)\n",
      "C:\\Users\\Mouad\\AppData\\Local\\Temp/ipykernel_12796/1163463125.py:31: FutureWarning: Pass y=[ 0.0000000e+00  0.0000000e+00  0.0000000e+00 ...  0.0000000e+00\n",
      " -3.0517578e-05 -3.0517578e-05] as keyword args. From version 0.10 passing these as positional arguments will result in an error\n",
      "  mel = np.mean(librosa.feature.melspectrogram(X, sr=sample_rate).T,axis=0)\n",
      "C:\\Users\\Mouad\\AppData\\Local\\Temp/ipykernel_12796/1163463125.py:31: FutureWarning: Pass y=[1.5258789e-04 1.5258789e-04 9.1552734e-05 ... 0.0000000e+00 0.0000000e+00\n",
      " 0.0000000e+00] as keyword args. From version 0.10 passing these as positional arguments will result in an error\n",
      "  mel = np.mean(librosa.feature.melspectrogram(X, sr=sample_rate).T,axis=0)\n"
     ]
    },
    {
     "name": "stdout",
     "output_type": "stream",
     "text": [
      "03-01-04-01-01-02-12.wav\n",
      "03-01-04-01-02-01-12.wav\n",
      "03-01-04-01-02-02-12.wav\n",
      "03-01-04-02-01-01-12.wav\n",
      "03-01-04-02-01-02-12.wav\n",
      "03-01-04-02-02-01-12.wav\n"
     ]
    },
    {
     "name": "stderr",
     "output_type": "stream",
     "text": [
      "C:\\Users\\Mouad\\AppData\\Local\\Temp/ipykernel_12796/1163463125.py:31: FutureWarning: Pass y=[0.00033569 0.00033569 0.00033569 ... 0.         0.         0.        ] as keyword args. From version 0.10 passing these as positional arguments will result in an error\n",
      "  mel = np.mean(librosa.feature.melspectrogram(X, sr=sample_rate).T,axis=0)\n",
      "C:\\Users\\Mouad\\AppData\\Local\\Temp/ipykernel_12796/1163463125.py:31: FutureWarning: Pass y=[ 0.          0.          0.         ... -0.0015564  -0.0015564\n",
      " -0.00158691] as keyword args. From version 0.10 passing these as positional arguments will result in an error\n",
      "  mel = np.mean(librosa.feature.melspectrogram(X, sr=sample_rate).T,axis=0)\n"
     ]
    },
    {
     "name": "stdout",
     "output_type": "stream",
     "text": [
      "03-01-04-02-02-02-12.wav\n",
      "03-01-05-01-01-01-12.wav\n",
      "03-01-05-01-01-02-12.wav\n",
      "03-01-05-01-02-01-12.wav\n",
      "03-01-05-01-02-02-12.wav\n",
      "03-01-05-02-01-01-12.wav\n"
     ]
    },
    {
     "name": "stderr",
     "output_type": "stream",
     "text": [
      "C:\\Users\\Mouad\\AppData\\Local\\Temp/ipykernel_12796/1163463125.py:31: FutureWarning: Pass y=[ 3.0517578e-05  3.0517578e-05  0.0000000e+00 ... -3.0517578e-05\n",
      " -3.0517578e-05 -3.0517578e-05] as keyword args. From version 0.10 passing these as positional arguments will result in an error\n",
      "  mel = np.mean(librosa.feature.melspectrogram(X, sr=sample_rate).T,axis=0)\n",
      "C:\\Users\\Mouad\\AppData\\Local\\Temp/ipykernel_12796/1163463125.py:31: FutureWarning: Pass y=[ 0.          0.          0.         ... -0.00152588 -0.00149536\n",
      " -0.00149536] as keyword args. From version 0.10 passing these as positional arguments will result in an error\n",
      "  mel = np.mean(librosa.feature.melspectrogram(X, sr=sample_rate).T,axis=0)\n"
     ]
    },
    {
     "name": "stdout",
     "output_type": "stream",
     "text": [
      "03-01-05-02-01-02-12.wav\n",
      "03-01-05-02-02-01-12.wav\n",
      "03-01-05-02-02-02-12.wav\n"
     ]
    },
    {
     "name": "stderr",
     "output_type": "stream",
     "text": [
      "C:\\Users\\Mouad\\AppData\\Local\\Temp/ipykernel_12796/1163463125.py:31: FutureWarning: Pass y=[0.         0.         0.         ... 0.00283813 0.0027771  0.0027771 ] as keyword args. From version 0.10 passing these as positional arguments will result in an error\n",
      "  mel = np.mean(librosa.feature.melspectrogram(X, sr=sample_rate).T,axis=0)\n",
      "C:\\Users\\Mouad\\AppData\\Local\\Temp/ipykernel_12796/1163463125.py:31: FutureWarning: Pass y=[ 0.0000000e+00  0.0000000e+00  0.0000000e+00 ... -6.1035156e-05\n",
      " -6.1035156e-05 -6.1035156e-05] as keyword args. From version 0.10 passing these as positional arguments will result in an error\n",
      "  mel = np.mean(librosa.feature.melspectrogram(X, sr=sample_rate).T,axis=0)\n",
      "C:\\Users\\Mouad\\AppData\\Local\\Temp/ipykernel_12796/1163463125.py:31: FutureWarning: Pass y=[ 0.          0.          0.         ... -0.00021362 -0.00027466\n",
      " -0.00024414] as keyword args. From version 0.10 passing these as positional arguments will result in an error\n",
      "  mel = np.mean(librosa.feature.melspectrogram(X, sr=sample_rate).T,axis=0)\n"
     ]
    },
    {
     "name": "stdout",
     "output_type": "stream",
     "text": [
      "03-01-06-01-01-01-12.wav\n",
      "03-01-06-01-01-02-12.wav\n",
      "03-01-06-01-02-01-12.wav\n",
      "03-01-06-01-02-02-12.wav\n",
      "03-01-06-02-01-01-12.wav\n",
      "03-01-06-02-01-02-12.wav\n",
      "03-01-06-02-02-01-12.wav\n",
      "03-01-06-02-02-02-12.wav\n",
      "03-01-07-01-01-01-12.wav\n",
      "03-01-07-01-01-02-12.wav\n",
      "03-01-07-01-02-01-12.wav\n",
      "03-01-07-01-02-02-12.wav\n",
      "03-01-07-02-01-01-12.wav\n",
      "03-01-07-02-01-02-12.wav\n",
      "03-01-07-02-02-01-12.wav\n",
      "03-01-07-02-02-02-12.wav\n",
      "03-01-08-01-01-01-12.wav\n",
      "03-01-08-01-01-02-12.wav\n",
      "03-01-08-01-02-01-12.wav\n",
      "03-01-08-01-02-02-12.wav\n",
      "03-01-08-02-01-01-12.wav\n",
      "03-01-08-02-01-02-12.wav\n",
      "03-01-08-02-02-01-12.wav\n",
      "03-01-08-02-02-02-12.wav\n",
      "03-01-01-01-01-01-13.wav\n",
      "03-01-01-01-01-02-13.wav\n",
      "03-01-01-01-02-01-13.wav\n"
     ]
    },
    {
     "name": "stderr",
     "output_type": "stream",
     "text": [
      "C:\\Users\\Mouad\\AppData\\Local\\Temp/ipykernel_12796/1163463125.py:31: FutureWarning: Pass y=[-3.0517578e-05 -3.0517578e-05  0.0000000e+00 ... -6.1035156e-05\n",
      " -3.0517578e-05 -6.1035156e-05] as keyword args. From version 0.10 passing these as positional arguments will result in an error\n",
      "  mel = np.mean(librosa.feature.melspectrogram(X, sr=sample_rate).T,axis=0)\n"
     ]
    },
    {
     "name": "stdout",
     "output_type": "stream",
     "text": [
      "03-01-01-01-02-02-13.wav\n",
      "03-01-02-01-01-01-13.wav\n",
      "03-01-02-01-01-02-13.wav\n",
      "03-01-02-01-02-01-13.wav\n",
      "03-01-02-01-02-02-13.wav\n",
      "03-01-02-02-01-01-13.wav\n",
      "03-01-02-02-01-02-13.wav\n",
      "03-01-02-02-02-01-13.wav\n",
      "03-01-02-02-02-02-13.wav\n",
      "03-01-03-01-01-01-13.wav\n",
      "03-01-03-01-01-02-13.wav\n",
      "03-01-03-01-02-01-13.wav\n",
      "03-01-03-01-02-02-13.wav\n",
      "03-01-03-02-01-01-13.wav\n",
      "03-01-03-02-01-02-13.wav\n",
      "03-01-03-02-02-01-13.wav\n"
     ]
    },
    {
     "name": "stderr",
     "output_type": "stream",
     "text": [
      "C:\\Users\\Mouad\\AppData\\Local\\Temp/ipykernel_12796/1163463125.py:31: FutureWarning: Pass y=[ 6.1035156e-05  3.0517578e-05  3.0517578e-05 ... -6.1035156e-05\n",
      " -9.1552734e-05 -6.1035156e-05] as keyword args. From version 0.10 passing these as positional arguments will result in an error\n",
      "  mel = np.mean(librosa.feature.melspectrogram(X, sr=sample_rate).T,axis=0)\n"
     ]
    },
    {
     "name": "stdout",
     "output_type": "stream",
     "text": [
      "03-01-03-02-02-02-13.wav\n",
      "03-01-04-01-01-01-13.wav\n",
      "03-01-04-01-01-02-13.wav\n",
      "03-01-04-01-02-01-13.wav\n",
      "03-01-04-01-02-02-13.wav\n",
      "03-01-04-02-01-01-13.wav\n"
     ]
    },
    {
     "name": "stderr",
     "output_type": "stream",
     "text": [
      "C:\\Users\\Mouad\\AppData\\Local\\Temp/ipykernel_12796/1163463125.py:31: FutureWarning: Pass y=[3.0517578e-05 6.1035156e-05 6.1035156e-05 ... 3.0517578e-05 3.0517578e-05\n",
      " 3.0517578e-05] as keyword args. From version 0.10 passing these as positional arguments will result in an error\n",
      "  mel = np.mean(librosa.feature.melspectrogram(X, sr=sample_rate).T,axis=0)\n",
      "C:\\Users\\Mouad\\AppData\\Local\\Temp/ipykernel_12796/1163463125.py:31: FutureWarning: Pass y=[-3.0517578e-05  0.0000000e+00  0.0000000e+00 ... -6.1035156e-05\n",
      " -6.1035156e-05 -3.0517578e-05] as keyword args. From version 0.10 passing these as positional arguments will result in an error\n",
      "  mel = np.mean(librosa.feature.melspectrogram(X, sr=sample_rate).T,axis=0)\n"
     ]
    },
    {
     "name": "stdout",
     "output_type": "stream",
     "text": [
      "03-01-04-02-01-02-13.wav\n",
      "03-01-04-02-02-01-13.wav\n",
      "03-01-04-02-02-02-13.wav\n",
      "03-01-05-01-01-01-13.wav\n",
      "03-01-05-01-01-02-13.wav\n",
      "03-01-05-01-02-01-13.wav\n"
     ]
    },
    {
     "name": "stderr",
     "output_type": "stream",
     "text": [
      "C:\\Users\\Mouad\\AppData\\Local\\Temp/ipykernel_12796/1163463125.py:31: FutureWarning: Pass y=[0.0000000e+00 0.0000000e+00 0.0000000e+00 ... 3.0517578e-05 0.0000000e+00\n",
      " 3.0517578e-05] as keyword args. From version 0.10 passing these as positional arguments will result in an error\n",
      "  mel = np.mean(librosa.feature.melspectrogram(X, sr=sample_rate).T,axis=0)\n"
     ]
    },
    {
     "name": "stdout",
     "output_type": "stream",
     "text": [
      "03-01-05-01-02-02-13.wav\n",
      "03-01-05-02-01-01-13.wav\n",
      "03-01-05-02-01-02-13.wav\n"
     ]
    },
    {
     "name": "stderr",
     "output_type": "stream",
     "text": [
      "C:\\Users\\Mouad\\AppData\\Local\\Temp/ipykernel_12796/1163463125.py:31: FutureWarning: Pass y=[-3.0517578e-05  0.0000000e+00 -3.0517578e-05 ...  0.0000000e+00\n",
      "  0.0000000e+00  0.0000000e+00] as keyword args. From version 0.10 passing these as positional arguments will result in an error\n",
      "  mel = np.mean(librosa.feature.melspectrogram(X, sr=sample_rate).T,axis=0)\n"
     ]
    },
    {
     "name": "stdout",
     "output_type": "stream",
     "text": [
      "03-01-05-02-02-01-13.wav\n",
      "03-01-05-02-02-02-13.wav\n",
      "03-01-06-01-01-01-13.wav\n",
      "03-01-06-01-01-02-13.wav\n",
      "03-01-06-01-02-01-13.wav\n",
      "03-01-06-01-02-02-13.wav\n",
      "03-01-06-02-01-01-13.wav\n",
      "03-01-06-02-01-02-13.wav\n",
      "03-01-06-02-02-01-13.wav\n",
      "03-01-06-02-02-02-13.wav\n",
      "03-01-07-01-01-01-13.wav\n",
      "03-01-07-01-01-02-13.wav\n",
      "03-01-07-01-02-01-13.wav\n",
      "03-01-07-01-02-02-13.wav\n",
      "03-01-07-02-01-01-13.wav\n",
      "03-01-07-02-01-02-13.wav\n",
      "03-01-07-02-02-01-13.wav\n",
      "03-01-07-02-02-02-13.wav\n",
      "03-01-08-01-01-01-13.wav\n",
      "03-01-08-01-01-02-13.wav\n",
      "03-01-08-01-02-01-13.wav\n",
      "03-01-08-01-02-02-13.wav\n",
      "03-01-08-02-01-01-13.wav\n",
      "03-01-08-02-01-02-13.wav\n",
      "03-01-08-02-02-01-13.wav\n",
      "03-01-08-02-02-02-13.wav\n",
      "03-01-01-01-01-01-14.wav\n",
      "03-01-01-01-01-02-14.wav\n"
     ]
    },
    {
     "name": "stderr",
     "output_type": "stream",
     "text": [
      "C:\\Users\\Mouad\\AppData\\Local\\Temp/ipykernel_12796/1163463125.py:31: FutureWarning: Pass y=[-3.0517578e-05  0.0000000e+00  0.0000000e+00 ... -7.9345703e-04\n",
      " -8.2397461e-04 -8.2397461e-04] as keyword args. From version 0.10 passing these as positional arguments will result in an error\n",
      "  mel = np.mean(librosa.feature.melspectrogram(X, sr=sample_rate).T,axis=0)\n",
      "C:\\Users\\Mouad\\AppData\\Local\\Temp/ipykernel_12796/1163463125.py:31: FutureWarning: Pass y=[0.         0.         0.         ... 0.00012207 0.00012207 0.00015259] as keyword args. From version 0.10 passing these as positional arguments will result in an error\n",
      "  mel = np.mean(librosa.feature.melspectrogram(X, sr=sample_rate).T,axis=0)\n"
     ]
    },
    {
     "name": "stdout",
     "output_type": "stream",
     "text": [
      "03-01-01-01-02-01-14.wav\n",
      "03-01-01-01-02-02-14.wav\n",
      "03-01-02-01-01-01-14.wav\n",
      "03-01-02-01-01-02-14.wav\n",
      "03-01-02-01-02-01-14.wav\n",
      "03-01-02-01-02-02-14.wav\n",
      "03-01-02-02-01-01-14.wav\n",
      "03-01-02-02-01-02-14.wav\n",
      "03-01-02-02-02-01-14.wav\n",
      "03-01-02-02-02-02-14.wav\n",
      "03-01-03-01-01-01-14.wav\n"
     ]
    },
    {
     "name": "stderr",
     "output_type": "stream",
     "text": [
      "C:\\Users\\Mouad\\AppData\\Local\\Temp/ipykernel_12796/1163463125.py:31: FutureWarning: Pass y=[3.0517578e-05 0.0000000e+00 3.0517578e-05 ... 0.0000000e+00 3.0517578e-05\n",
      " 3.0517578e-05] as keyword args. From version 0.10 passing these as positional arguments will result in an error\n",
      "  mel = np.mean(librosa.feature.melspectrogram(X, sr=sample_rate).T,axis=0)\n"
     ]
    },
    {
     "name": "stdout",
     "output_type": "stream",
     "text": [
      "03-01-03-01-01-02-14.wav\n",
      "03-01-03-01-02-01-14.wav\n",
      "03-01-03-01-02-02-14.wav\n",
      "03-01-03-02-01-01-14.wav\n",
      "03-01-03-02-01-02-14.wav\n",
      "03-01-03-02-02-01-14.wav"
     ]
    },
    {
     "name": "stderr",
     "output_type": "stream",
     "text": [
      "C:\\Users\\Mouad\\AppData\\Local\\Temp/ipykernel_12796/1163463125.py:31: FutureWarning: Pass y=[ 0.0000000e+00  0.0000000e+00  0.0000000e+00 ... -6.1035156e-05\n",
      "  0.0000000e+00  0.0000000e+00] as keyword args. From version 0.10 passing these as positional arguments will result in an error\n",
      "  mel = np.mean(librosa.feature.melspectrogram(X, sr=sample_rate).T,axis=0)\n"
     ]
    },
    {
     "name": "stdout",
     "output_type": "stream",
     "text": [
      "\n",
      "03-01-03-02-02-02-14.wav\n",
      "03-01-04-01-01-01-14.wav\n",
      "03-01-04-01-01-02-14.wav\n",
      "03-01-04-01-02-01-14.wav\n",
      "03-01-04-01-02-02-14.wav\n",
      "03-01-04-02-01-01-14.wav\n",
      "03-01-04-02-01-02-14.wav\n",
      "03-01-04-02-02-01-14.wav\n",
      "03-01-04-02-02-02-14.wav\n",
      "03-01-05-01-01-01-14.wav\n",
      "03-01-05-01-01-02-14.wav\n",
      "03-01-05-01-02-01-14.wav\n",
      "03-01-05-01-02-02-14.wav\n",
      "03-01-05-02-01-01-14.wav\n",
      "03-01-05-02-01-02-14.wav\n",
      "03-01-05-02-02-01-14.wav\n",
      "03-01-05-02-02-02-14.wav\n",
      "03-01-06-01-01-01-14.wav\n",
      "03-01-06-01-01-02-14.wav\n",
      "03-01-06-01-02-01-14.wav\n",
      "03-01-06-01-02-02-14.wav\n",
      "03-01-06-02-01-01-14.wav\n",
      "03-01-06-02-01-02-14.wav\n",
      "03-01-06-02-02-01-14.wav\n",
      "03-01-06-02-02-02-14.wav\n",
      "03-01-07-01-01-01-14.wav\n",
      "03-01-07-01-01-02-14.wav\n",
      "03-01-07-01-02-01-14.wav\n",
      "03-01-07-01-02-02-14.wav\n",
      "03-01-07-02-01-01-14.wav\n",
      "03-01-07-02-01-02-14.wav\n",
      "03-01-07-02-02-01-14.wav\n",
      "03-01-07-02-02-02-14.wav\n",
      "03-01-08-01-01-01-14.wav\n",
      "03-01-08-01-01-02-14.wav\n",
      "03-01-08-01-02-01-14.wav\n",
      "03-01-08-01-02-02-14.wav\n",
      "03-01-08-02-01-01-14.wav\n",
      "03-01-08-02-01-02-14.wav\n",
      "03-01-08-02-02-01-14.wav\n",
      "03-01-08-02-02-02-14.wav\n",
      "03-01-01-01-01-01-15.wav\n",
      "03-01-01-01-01-02-15.wav\n",
      "03-01-01-01-02-01-15.wav\n",
      "03-01-01-01-02-02-15.wav\n",
      "03-01-02-01-01-01-15.wav\n",
      "03-01-02-01-01-02-15.wav\n",
      "03-01-02-01-02-01-15.wav\n",
      "03-01-02-01-02-02-15.wav\n",
      "03-01-02-02-01-01-15.wav\n",
      "03-01-02-02-01-02-15.wav\n",
      "03-01-02-02-02-01-15.wav\n",
      "03-01-02-02-02-02-15.wav\n",
      "03-01-03-01-01-01-15.wav\n",
      "03-01-03-01-01-02-15.wav\n",
      "03-01-03-01-02-01-15.wav\n"
     ]
    },
    {
     "name": "stderr",
     "output_type": "stream",
     "text": [
      "C:\\Users\\Mouad\\AppData\\Local\\Temp/ipykernel_12796/1163463125.py:31: FutureWarning: Pass y=[3.0517578e-05 3.0517578e-05 3.0517578e-05 ... 1.2207031e-04 1.2207031e-04\n",
      " 1.2207031e-04] as keyword args. From version 0.10 passing these as positional arguments will result in an error\n",
      "  mel = np.mean(librosa.feature.melspectrogram(X, sr=sample_rate).T,axis=0)\n",
      "C:\\Users\\Mouad\\AppData\\Local\\Temp/ipykernel_12796/1163463125.py:31: FutureWarning: Pass y=[ 0.          0.          0.         ... -0.00210571 -0.00216675\n",
      " -0.0020752 ] as keyword args. From version 0.10 passing these as positional arguments will result in an error\n",
      "  mel = np.mean(librosa.feature.melspectrogram(X, sr=sample_rate).T,axis=0)\n",
      "C:\\Users\\Mouad\\AppData\\Local\\Temp/ipykernel_12796/1163463125.py:31: FutureWarning: Pass y=[-3.0517578e-05 -3.0517578e-05 -3.0517578e-05 ... -6.1035156e-05\n",
      " -6.1035156e-05 -6.1035156e-05] as keyword args. From version 0.10 passing these as positional arguments will result in an error\n",
      "  mel = np.mean(librosa.feature.melspectrogram(X, sr=sample_rate).T,axis=0)\n"
     ]
    },
    {
     "name": "stdout",
     "output_type": "stream",
     "text": [
      "03-01-03-01-02-02-15.wav\n",
      "03-01-03-02-01-01-15.wav\n"
     ]
    },
    {
     "name": "stderr",
     "output_type": "stream",
     "text": [
      "C:\\Users\\Mouad\\AppData\\Local\\Temp/ipykernel_12796/1163463125.py:31: FutureWarning: Pass y=[ 0.0000000e+00  0.0000000e+00  0.0000000e+00 ... -6.1035156e-05\n",
      " -3.0517578e-05 -3.0517578e-05] as keyword args. From version 0.10 passing these as positional arguments will result in an error\n",
      "  mel = np.mean(librosa.feature.melspectrogram(X, sr=sample_rate).T,axis=0)\n",
      "C:\\Users\\Mouad\\AppData\\Local\\Temp/ipykernel_12796/1163463125.py:31: FutureWarning: Pass y=[-3.0517578e-05 -6.1035156e-05 -3.0517578e-05 ...  0.0000000e+00\n",
      "  0.0000000e+00  0.0000000e+00] as keyword args. From version 0.10 passing these as positional arguments will result in an error\n",
      "  mel = np.mean(librosa.feature.melspectrogram(X, sr=sample_rate).T,axis=0)\n",
      "C:\\Users\\Mouad\\AppData\\Local\\Temp/ipykernel_12796/1163463125.py:31: FutureWarning: Pass y=[0.0000000e+00 0.0000000e+00 0.0000000e+00 ... 9.1552734e-05 1.2207031e-04\n",
      " 1.2207031e-04] as keyword args. From version 0.10 passing these as positional arguments will result in an error\n",
      "  mel = np.mean(librosa.feature.melspectrogram(X, sr=sample_rate).T,axis=0)\n"
     ]
    },
    {
     "name": "stdout",
     "output_type": "stream",
     "text": [
      "03-01-03-02-01-02-15.wav\n",
      "03-01-03-02-02-01-15.wav\n"
     ]
    },
    {
     "name": "stderr",
     "output_type": "stream",
     "text": [
      "C:\\Users\\Mouad\\AppData\\Local\\Temp/ipykernel_12796/1163463125.py:31: FutureWarning: Pass y=[-3.0517578e-05  0.0000000e+00 -3.0517578e-05 ...  0.0000000e+00\n",
      "  0.0000000e+00  3.0517578e-05] as keyword args. From version 0.10 passing these as positional arguments will result in an error\n",
      "  mel = np.mean(librosa.feature.melspectrogram(X, sr=sample_rate).T,axis=0)\n",
      "C:\\Users\\Mouad\\AppData\\Local\\Temp/ipykernel_12796/1163463125.py:31: FutureWarning: Pass y=[6.1035156e-05 0.0000000e+00 3.0517578e-05 ... 1.5258789e-04 1.5258789e-04\n",
      " 1.8310547e-04] as keyword args. From version 0.10 passing these as positional arguments will result in an error\n",
      "  mel = np.mean(librosa.feature.melspectrogram(X, sr=sample_rate).T,axis=0)\n"
     ]
    },
    {
     "name": "stdout",
     "output_type": "stream",
     "text": [
      "03-01-03-02-02-02-15.wav\n",
      "03-01-04-01-01-01-15.wav\n",
      "03-01-04-01-01-02-15.wav\n"
     ]
    },
    {
     "name": "stderr",
     "output_type": "stream",
     "text": [
      "C:\\Users\\Mouad\\AppData\\Local\\Temp/ipykernel_12796/1163463125.py:31: FutureWarning: Pass y=[-1.5258789e-04 -1.5258789e-04 -1.5258789e-04 ...  9.1552734e-05\n",
      "  9.1552734e-05  9.1552734e-05] as keyword args. From version 0.10 passing these as positional arguments will result in an error\n",
      "  mel = np.mean(librosa.feature.melspectrogram(X, sr=sample_rate).T,axis=0)\n",
      "C:\\Users\\Mouad\\AppData\\Local\\Temp/ipykernel_12796/1163463125.py:31: FutureWarning: Pass y=[-3.0517578e-05  0.0000000e+00 -3.0517578e-05 ...  1.5258789e-04\n",
      "  1.5258789e-04  1.8310547e-04] as keyword args. From version 0.10 passing these as positional arguments will result in an error\n",
      "  mel = np.mean(librosa.feature.melspectrogram(X, sr=sample_rate).T,axis=0)\n"
     ]
    },
    {
     "name": "stdout",
     "output_type": "stream",
     "text": [
      "03-01-04-01-02-01-15.wav\n",
      "03-01-04-01-02-02-15.wav\n",
      "03-01-04-02-01-01-15.wav\n"
     ]
    },
    {
     "name": "stderr",
     "output_type": "stream",
     "text": [
      "C:\\Users\\Mouad\\AppData\\Local\\Temp/ipykernel_12796/1163463125.py:31: FutureWarning: Pass y=[-6.1035156e-05 -6.1035156e-05 -3.0517578e-05 ...  0.0000000e+00\n",
      "  0.0000000e+00  0.0000000e+00] as keyword args. From version 0.10 passing these as positional arguments will result in an error\n",
      "  mel = np.mean(librosa.feature.melspectrogram(X, sr=sample_rate).T,axis=0)\n",
      "C:\\Users\\Mouad\\AppData\\Local\\Temp/ipykernel_12796/1163463125.py:31: FutureWarning: Pass y=[0.         0.         0.         ... 0.00042725 0.00042725 0.00042725] as keyword args. From version 0.10 passing these as positional arguments will result in an error\n",
      "  mel = np.mean(librosa.feature.melspectrogram(X, sr=sample_rate).T,axis=0)\n",
      "C:\\Users\\Mouad\\AppData\\Local\\Temp/ipykernel_12796/1163463125.py:31: FutureWarning: Pass y=[-9.1552734e-05 -1.2207031e-04 -1.2207031e-04 ...  0.0000000e+00\n",
      "  0.0000000e+00 -6.1035156e-05] as keyword args. From version 0.10 passing these as positional arguments will result in an error\n",
      "  mel = np.mean(librosa.feature.melspectrogram(X, sr=sample_rate).T,axis=0)\n",
      "C:\\Users\\Mouad\\AppData\\Local\\Temp/ipykernel_12796/1163463125.py:31: FutureWarning: Pass y=[ 0.0000000e+00  0.0000000e+00 -3.0517578e-05 ...  1.3732910e-03\n",
      "  1.4038086e-03  1.4343262e-03] as keyword args. From version 0.10 passing these as positional arguments will result in an error\n",
      "  mel = np.mean(librosa.feature.melspectrogram(X, sr=sample_rate).T,axis=0)\n"
     ]
    },
    {
     "name": "stdout",
     "output_type": "stream",
     "text": [
      "03-01-04-02-01-02-15.wav\n",
      "03-01-04-02-02-01-15.wav\n",
      "03-01-04-02-02-02-15.wav\n",
      "03-01-05-01-01-01-15.wav\n"
     ]
    },
    {
     "name": "stderr",
     "output_type": "stream",
     "text": [
      "C:\\Users\\Mouad\\AppData\\Local\\Temp/ipykernel_12796/1163463125.py:31: FutureWarning: Pass y=[ 9.1552734e-05  3.0517578e-05  1.2207031e-04 ... -3.0517578e-05\n",
      "  0.0000000e+00 -3.0517578e-05] as keyword args. From version 0.10 passing these as positional arguments will result in an error\n",
      "  mel = np.mean(librosa.feature.melspectrogram(X, sr=sample_rate).T,axis=0)\n",
      "C:\\Users\\Mouad\\AppData\\Local\\Temp/ipykernel_12796/1163463125.py:31: FutureWarning: Pass y=[ 0.0000000e+00  0.0000000e+00  0.0000000e+00 ... -1.2207031e-04\n",
      " -1.5258789e-04 -6.1035156e-05] as keyword args. From version 0.10 passing these as positional arguments will result in an error\n",
      "  mel = np.mean(librosa.feature.melspectrogram(X, sr=sample_rate).T,axis=0)\n"
     ]
    },
    {
     "name": "stdout",
     "output_type": "stream",
     "text": [
      "03-01-05-01-01-02-15.wav\n",
      "03-01-05-01-02-01-15.wav\n",
      "03-01-05-01-02-02-15.wav\n"
     ]
    },
    {
     "name": "stderr",
     "output_type": "stream",
     "text": [
      "C:\\Users\\Mouad\\AppData\\Local\\Temp/ipykernel_12796/1163463125.py:31: FutureWarning: Pass y=[ 0.0000000e+00  0.0000000e+00 -3.0517578e-05 ...  0.0000000e+00\n",
      " -3.0517578e-05 -3.0517578e-05] as keyword args. From version 0.10 passing these as positional arguments will result in an error\n",
      "  mel = np.mean(librosa.feature.melspectrogram(X, sr=sample_rate).T,axis=0)\n",
      "C:\\Users\\Mouad\\AppData\\Local\\Temp/ipykernel_12796/1163463125.py:31: FutureWarning: Pass y=[ 0.0000000e+00 -3.0517578e-05  0.0000000e+00 ...  0.0000000e+00\n",
      "  0.0000000e+00  0.0000000e+00] as keyword args. From version 0.10 passing these as positional arguments will result in an error\n",
      "  mel = np.mean(librosa.feature.melspectrogram(X, sr=sample_rate).T,axis=0)\n",
      "C:\\Users\\Mouad\\AppData\\Local\\Temp/ipykernel_12796/1163463125.py:31: FutureWarning: Pass y=[ 3.0517578e-05  3.0517578e-05  0.0000000e+00 ... -6.1035156e-05\n",
      " -6.1035156e-05 -6.1035156e-05] as keyword args. From version 0.10 passing these as positional arguments will result in an error\n",
      "  mel = np.mean(librosa.feature.melspectrogram(X, sr=sample_rate).T,axis=0)\n"
     ]
    },
    {
     "name": "stdout",
     "output_type": "stream",
     "text": [
      "03-01-05-02-01-01-15.wav\n",
      "03-01-05-02-01-02-15.wav\n",
      "03-01-05-02-02-01-15.wav\n"
     ]
    },
    {
     "name": "stderr",
     "output_type": "stream",
     "text": [
      "C:\\Users\\Mouad\\AppData\\Local\\Temp/ipykernel_12796/1163463125.py:31: FutureWarning: Pass y=[ 0.          0.          0.         ... -0.00012207 -0.00012207\n",
      " -0.00012207] as keyword args. From version 0.10 passing these as positional arguments will result in an error\n",
      "  mel = np.mean(librosa.feature.melspectrogram(X, sr=sample_rate).T,axis=0)\n",
      "C:\\Users\\Mouad\\AppData\\Local\\Temp/ipykernel_12796/1163463125.py:31: FutureWarning: Pass y=[-6.1035156e-05 -6.1035156e-05 -6.1035156e-05 ...  1.2207031e-04\n",
      "  1.5258789e-04  9.1552734e-05] as keyword args. From version 0.10 passing these as positional arguments will result in an error\n",
      "  mel = np.mean(librosa.feature.melspectrogram(X, sr=sample_rate).T,axis=0)\n"
     ]
    },
    {
     "name": "stdout",
     "output_type": "stream",
     "text": [
      "03-01-05-02-02-02-15.wav\n",
      "03-01-06-01-01-01-15.wav\n",
      "03-01-06-01-01-02-15.wav\n",
      "03-01-06-01-02-01-15.wav\n",
      "03-01-06-01-02-02-15.wav\n",
      "03-01-06-02-01-01-15.wav\n",
      "03-01-06-02-01-02-15.wav\n",
      "03-01-06-02-02-01-15.wav\n",
      "03-01-06-02-02-02-15.wav\n",
      "03-01-07-01-01-01-15.wav\n",
      "03-01-07-01-01-02-15.wav\n",
      "03-01-07-01-02-01-15.wav\n",
      "03-01-07-01-02-02-15.wav\n",
      "03-01-07-02-01-01-15.wav\n",
      "03-01-07-02-01-02-15.wav\n",
      "03-01-07-02-02-01-15.wav\n",
      "03-01-07-02-02-02-15.wav\n",
      "03-01-08-01-01-01-15.wav\n",
      "03-01-08-01-01-02-15.wav\n",
      "03-01-08-01-02-01-15.wav\n",
      "03-01-08-01-02-02-15.wav\n",
      "03-01-08-02-01-01-15.wav\n",
      "03-01-08-02-01-02-15.wav\n",
      "03-01-08-02-02-01-15.wav\n",
      "03-01-08-02-02-02-15.wav\n",
      "03-01-01-01-01-01-16.wav\n",
      "03-01-01-01-01-02-16.wav\n",
      "03-01-01-01-02-01-16.wav\n",
      "03-01-01-01-02-02-16.wav\n",
      "03-01-02-01-01-01-16.wav\n",
      "03-01-02-01-01-02-16.wav\n",
      "03-01-02-01-02-01-16.wav\n",
      "03-01-02-01-02-02-16.wav\n",
      "03-01-02-02-01-01-16.wav\n",
      "03-01-02-02-01-02-16.wav\n",
      "03-01-02-02-02-01-16.wav\n",
      "03-01-02-02-02-02-16.wav\n",
      "03-01-03-01-01-01-16.wav\n"
     ]
    },
    {
     "name": "stderr",
     "output_type": "stream",
     "text": [
      "C:\\Users\\Mouad\\AppData\\Local\\Temp/ipykernel_12796/1163463125.py:31: FutureWarning: Pass y=[0.0000000e+00 0.0000000e+00 0.0000000e+00 ... 3.0517578e-05 6.1035156e-05\n",
      " 3.0517578e-05] as keyword args. From version 0.10 passing these as positional arguments will result in an error\n",
      "  mel = np.mean(librosa.feature.melspectrogram(X, sr=sample_rate).T,axis=0)\n"
     ]
    },
    {
     "name": "stdout",
     "output_type": "stream",
     "text": [
      "03-01-03-01-01-02-16.wav\n",
      "03-01-03-01-02-01-16.wav\n",
      "03-01-03-01-02-02-16.wav\n",
      "03-01-03-02-01-01-16.wav\n",
      "03-01-03-02-01-02-16.wav\n",
      "03-01-03-02-02-01-16.wav\n"
     ]
    },
    {
     "name": "stderr",
     "output_type": "stream",
     "text": [
      "C:\\Users\\Mouad\\AppData\\Local\\Temp/ipykernel_12796/1163463125.py:31: FutureWarning: Pass y=[ 0.0000000e+00  0.0000000e+00  0.0000000e+00 ...  0.0000000e+00\n",
      " -6.1035156e-05  0.0000000e+00] as keyword args. From version 0.10 passing these as positional arguments will result in an error\n",
      "  mel = np.mean(librosa.feature.melspectrogram(X, sr=sample_rate).T,axis=0)\n"
     ]
    },
    {
     "name": "stdout",
     "output_type": "stream",
     "text": [
      "03-01-03-02-02-02-16.wav\n",
      "03-01-04-01-01-01-16.wav\n",
      "03-01-04-01-01-02-16.wav\n",
      "03-01-04-01-02-01-16.wav\n",
      "03-01-04-01-02-02-16.wav\n",
      "03-01-04-02-01-01-16.wav\n",
      "03-01-04-02-01-02-16.wav\n",
      "03-01-04-02-02-01-16.wav\n"
     ]
    },
    {
     "name": "stderr",
     "output_type": "stream",
     "text": [
      "C:\\Users\\Mouad\\AppData\\Local\\Temp/ipykernel_12796/1163463125.py:31: FutureWarning: Pass y=[ 0.0000000e+00 -6.1035156e-05 -1.5258789e-04 ...  0.0000000e+00\n",
      "  0.0000000e+00  0.0000000e+00] as keyword args. From version 0.10 passing these as positional arguments will result in an error\n",
      "  mel = np.mean(librosa.feature.melspectrogram(X, sr=sample_rate).T,axis=0)\n"
     ]
    },
    {
     "name": "stdout",
     "output_type": "stream",
     "text": [
      "03-01-04-02-02-02-16.wav\n",
      "03-01-05-01-01-01-16.wav\n",
      "03-01-05-01-01-02-16.wav\n",
      "03-01-05-01-02-01-16.wav\n",
      "03-01-05-01-02-02-16.wav\n",
      "03-01-05-02-01-01-16.wav\n"
     ]
    },
    {
     "name": "stderr",
     "output_type": "stream",
     "text": [
      "C:\\Users\\Mouad\\AppData\\Local\\Temp/ipykernel_12796/1163463125.py:31: FutureWarning: Pass y=[ 0.0000000e+00  0.0000000e+00  0.0000000e+00 ...  0.0000000e+00\n",
      " -6.1035156e-05 -3.0517578e-05] as keyword args. From version 0.10 passing these as positional arguments will result in an error\n",
      "  mel = np.mean(librosa.feature.melspectrogram(X, sr=sample_rate).T,axis=0)\n",
      "C:\\Users\\Mouad\\AppData\\Local\\Temp/ipykernel_12796/1163463125.py:31: FutureWarning: Pass y=[ 0.0000000e+00  0.0000000e+00  0.0000000e+00 ... -6.1035156e-05\n",
      " -3.0517578e-05  0.0000000e+00] as keyword args. From version 0.10 passing these as positional arguments will result in an error\n",
      "  mel = np.mean(librosa.feature.melspectrogram(X, sr=sample_rate).T,axis=0)\n"
     ]
    },
    {
     "name": "stdout",
     "output_type": "stream",
     "text": [
      "03-01-05-02-01-02-16.wav\n",
      "03-01-05-02-02-01-16.wav\n",
      "03-01-05-02-02-02-16.wav\n",
      "03-01-06-01-01-01-16.wav\n",
      "03-01-06-01-01-02-16.wav\n",
      "03-01-06-01-02-01-16.wav\n",
      "03-01-06-01-02-02-16.wav\n",
      "03-01-06-02-01-01-16.wav\n",
      "03-01-06-02-01-02-16.wav\n",
      "03-01-06-02-02-01-16.wav\n",
      "03-01-06-02-02-02-16.wav\n",
      "03-01-07-01-01-01-16.wav\n",
      "03-01-07-01-01-02-16.wav\n",
      "03-01-07-01-02-01-16.wav\n",
      "03-01-07-01-02-02-16.wav\n",
      "03-01-07-02-01-01-16.wav\n",
      "03-01-07-02-01-02-16.wav\n",
      "03-01-07-02-02-01-16.wav\n",
      "03-01-07-02-02-02-16.wav\n",
      "03-01-08-01-01-01-16.wav\n",
      "03-01-08-01-01-02-16.wav\n",
      "03-01-08-01-02-01-16.wav\n",
      "03-01-08-01-02-02-16.wav\n",
      "03-01-08-02-01-01-16.wav\n",
      "03-01-08-02-01-02-16.wav\n",
      "03-01-08-02-02-01-16.wav\n",
      "03-01-08-02-02-02-16.wav\n",
      "03-01-01-01-01-01-17.wav\n",
      "03-01-01-01-01-02-17.wav\n",
      "03-01-01-01-02-01-17.wav\n"
     ]
    },
    {
     "name": "stderr",
     "output_type": "stream",
     "text": [
      "C:\\Users\\Mouad\\AppData\\Local\\Temp/ipykernel_12796/1163463125.py:31: FutureWarning: Pass y=[ 3.0517578e-04  3.3569336e-04  3.0517578e-04 ... -9.1552734e-05\n",
      " -9.1552734e-05 -1.2207031e-04] as keyword args. From version 0.10 passing these as positional arguments will result in an error\n",
      "  mel = np.mean(librosa.feature.melspectrogram(X, sr=sample_rate).T,axis=0)\n",
      "C:\\Users\\Mouad\\AppData\\Local\\Temp/ipykernel_12796/1163463125.py:31: FutureWarning: Pass y=[9.1552734e-05 9.1552734e-05 6.1035156e-05 ... 0.0000000e+00 0.0000000e+00\n",
      " 0.0000000e+00] as keyword args. From version 0.10 passing these as positional arguments will result in an error\n",
      "  mel = np.mean(librosa.feature.melspectrogram(X, sr=sample_rate).T,axis=0)\n",
      "C:\\Users\\Mouad\\AppData\\Local\\Temp/ipykernel_12796/1163463125.py:31: FutureWarning: Pass y=[ 3.0517578e-05  3.0517578e-05  3.0517578e-05 ... -9.1552734e-05\n",
      " -6.1035156e-05 -6.1035156e-05] as keyword args. From version 0.10 passing these as positional arguments will result in an error\n",
      "  mel = np.mean(librosa.feature.melspectrogram(X, sr=sample_rate).T,axis=0)\n"
     ]
    },
    {
     "name": "stdout",
     "output_type": "stream",
     "text": [
      "03-01-01-01-02-02-17.wav\n",
      "03-01-02-01-01-01-17.wav\n",
      "03-01-02-01-01-02-17.wav\n",
      "03-01-02-01-02-01-17.wav\n",
      "03-01-02-01-02-02-17.wav\n",
      "03-01-02-02-01-01-17.wav\n",
      "03-01-02-02-01-02-17.wav\n",
      "03-01-02-02-02-01-17.wav\n",
      "03-01-02-02-02-02-17.wav\n",
      "03-01-03-01-01-01-17.wav\n",
      "03-01-03-01-01-02-17.wav\n"
     ]
    },
    {
     "name": "stderr",
     "output_type": "stream",
     "text": [
      "C:\\Users\\Mouad\\AppData\\Local\\Temp/ipykernel_12796/1163463125.py:31: FutureWarning: Pass y=[-6.1035156e-05 -3.0517578e-05  0.0000000e+00 ...  0.0000000e+00\n",
      "  0.0000000e+00  0.0000000e+00] as keyword args. From version 0.10 passing these as positional arguments will result in an error\n",
      "  mel = np.mean(librosa.feature.melspectrogram(X, sr=sample_rate).T,axis=0)\n",
      "C:\\Users\\Mouad\\AppData\\Local\\Temp/ipykernel_12796/1163463125.py:31: FutureWarning: Pass y=[ 6.1035156e-05  6.1035156e-05  6.1035156e-05 ... -9.1552734e-05\n",
      " -9.1552734e-05 -6.1035156e-05] as keyword args. From version 0.10 passing these as positional arguments will result in an error\n",
      "  mel = np.mean(librosa.feature.melspectrogram(X, sr=sample_rate).T,axis=0)\n",
      "C:\\Users\\Mouad\\AppData\\Local\\Temp/ipykernel_12796/1163463125.py:31: FutureWarning: Pass y=[-2.1362305e-04 -9.1552734e-05  0.0000000e+00 ... -1.2207031e-04\n",
      " -1.5258789e-04 -1.2207031e-04] as keyword args. From version 0.10 passing these as positional arguments will result in an error\n",
      "  mel = np.mean(librosa.feature.melspectrogram(X, sr=sample_rate).T,axis=0)\n"
     ]
    },
    {
     "name": "stdout",
     "output_type": "stream",
     "text": [
      "03-01-03-01-02-01-17.wav\n",
      "03-01-03-01-02-02-17.wav\n",
      "03-01-03-02-01-01-17.wav\n"
     ]
    },
    {
     "name": "stderr",
     "output_type": "stream",
     "text": [
      "C:\\Users\\Mouad\\AppData\\Local\\Temp/ipykernel_12796/1163463125.py:31: FutureWarning: Pass y=[6.1035156e-05 6.1035156e-05 9.1552734e-05 ... 0.0000000e+00 0.0000000e+00\n",
      " 0.0000000e+00] as keyword args. From version 0.10 passing these as positional arguments will result in an error\n",
      "  mel = np.mean(librosa.feature.melspectrogram(X, sr=sample_rate).T,axis=0)\n",
      "C:\\Users\\Mouad\\AppData\\Local\\Temp/ipykernel_12796/1163463125.py:31: FutureWarning: Pass y=[1.8310547e-04 1.5258789e-04 3.0517578e-05 ... 9.1552734e-05 9.1552734e-05\n",
      " 9.1552734e-05] as keyword args. From version 0.10 passing these as positional arguments will result in an error\n",
      "  mel = np.mean(librosa.feature.melspectrogram(X, sr=sample_rate).T,axis=0)\n",
      "C:\\Users\\Mouad\\AppData\\Local\\Temp/ipykernel_12796/1163463125.py:31: FutureWarning: Pass y=[ 1.2207031e-04  1.2207031e-04  1.5258789e-04 ... -2.4414062e-04\n",
      " -9.1552734e-05  0.0000000e+00] as keyword args. From version 0.10 passing these as positional arguments will result in an error\n",
      "  mel = np.mean(librosa.feature.melspectrogram(X, sr=sample_rate).T,axis=0)\n"
     ]
    },
    {
     "name": "stdout",
     "output_type": "stream",
     "text": [
      "03-01-03-02-01-02-17.wav\n",
      "03-01-03-02-02-01-17.wav\n",
      "03-01-03-02-02-02-17.wav\n"
     ]
    },
    {
     "name": "stderr",
     "output_type": "stream",
     "text": [
      "C:\\Users\\Mouad\\AppData\\Local\\Temp/ipykernel_12796/1163463125.py:31: FutureWarning: Pass y=[-3.3569336e-04 -9.1552734e-05  3.9672852e-04 ...  1.5258789e-04\n",
      "  1.2207031e-04  1.2207031e-04] as keyword args. From version 0.10 passing these as positional arguments will result in an error\n",
      "  mel = np.mean(librosa.feature.melspectrogram(X, sr=sample_rate).T,axis=0)\n",
      "C:\\Users\\Mouad\\AppData\\Local\\Temp/ipykernel_12796/1163463125.py:31: FutureWarning: Pass y=[ 1.8310547e-04  1.8310547e-04  6.1035156e-05 ... -3.0517578e-05\n",
      "  0.0000000e+00 -3.0517578e-05] as keyword args. From version 0.10 passing these as positional arguments will result in an error\n",
      "  mel = np.mean(librosa.feature.melspectrogram(X, sr=sample_rate).T,axis=0)\n"
     ]
    },
    {
     "name": "stdout",
     "output_type": "stream",
     "text": [
      "03-01-04-01-01-01-17.wav\n",
      "03-01-04-01-01-02-17.wav\n",
      "03-01-04-01-02-01-17.wav\n"
     ]
    },
    {
     "name": "stderr",
     "output_type": "stream",
     "text": [
      "C:\\Users\\Mouad\\AppData\\Local\\Temp/ipykernel_12796/1163463125.py:31: FutureWarning: Pass y=[3.0517578e-05 3.0517578e-05 3.0517578e-05 ... 1.2207031e-04 1.5258789e-04\n",
      " 1.2207031e-04] as keyword args. From version 0.10 passing these as positional arguments will result in an error\n",
      "  mel = np.mean(librosa.feature.melspectrogram(X, sr=sample_rate).T,axis=0)\n",
      "C:\\Users\\Mouad\\AppData\\Local\\Temp/ipykernel_12796/1163463125.py:31: FutureWarning: Pass y=[-0.00012207 -0.00015259 -0.00018311 ...  0.          0.\n",
      "  0.        ] as keyword args. From version 0.10 passing these as positional arguments will result in an error\n",
      "  mel = np.mean(librosa.feature.melspectrogram(X, sr=sample_rate).T,axis=0)\n",
      "C:\\Users\\Mouad\\AppData\\Local\\Temp/ipykernel_12796/1163463125.py:31: FutureWarning: Pass y=[3.0517578e-05 9.1552734e-05 9.1552734e-05 ... 6.1035156e-05 6.1035156e-05\n",
      " 6.1035156e-05] as keyword args. From version 0.10 passing these as positional arguments will result in an error\n",
      "  mel = np.mean(librosa.feature.melspectrogram(X, sr=sample_rate).T,axis=0)\n"
     ]
    },
    {
     "name": "stdout",
     "output_type": "stream",
     "text": [
      "03-01-04-01-02-02-17.wav\n",
      "03-01-04-02-01-01-17.wav\n",
      "03-01-04-02-01-02-17.wav\n"
     ]
    },
    {
     "name": "stderr",
     "output_type": "stream",
     "text": [
      "C:\\Users\\Mouad\\AppData\\Local\\Temp/ipykernel_12796/1163463125.py:31: FutureWarning: Pass y=[0.         0.         0.         ... 0.00018311 0.00018311 0.00018311] as keyword args. From version 0.10 passing these as positional arguments will result in an error\n",
      "  mel = np.mean(librosa.feature.melspectrogram(X, sr=sample_rate).T,axis=0)\n",
      "C:\\Users\\Mouad\\AppData\\Local\\Temp/ipykernel_12796/1163463125.py:31: FutureWarning: Pass y=[1.8310547e-04 1.2207031e-04 3.0517578e-05 ... 1.2207031e-04 1.2207031e-04\n",
      " 0.0000000e+00] as keyword args. From version 0.10 passing these as positional arguments will result in an error\n",
      "  mel = np.mean(librosa.feature.melspectrogram(X, sr=sample_rate).T,axis=0)\n",
      "C:\\Users\\Mouad\\AppData\\Local\\Temp/ipykernel_12796/1163463125.py:31: FutureWarning: Pass y=[-3.0517578e-05 -3.0517578e-05 -3.0517578e-05 ... -6.1035156e-05\n",
      " -6.1035156e-05 -9.1552734e-05] as keyword args. From version 0.10 passing these as positional arguments will result in an error\n",
      "  mel = np.mean(librosa.feature.melspectrogram(X, sr=sample_rate).T,axis=0)\n"
     ]
    },
    {
     "name": "stdout",
     "output_type": "stream",
     "text": [
      "03-01-04-02-02-01-17.wav\n",
      "03-01-04-02-02-02-17.wav\n",
      "03-01-05-01-01-01-17.wav\n",
      "03-01-05-01-01-02-17.wav\n"
     ]
    },
    {
     "name": "stderr",
     "output_type": "stream",
     "text": [
      "C:\\Users\\Mouad\\AppData\\Local\\Temp/ipykernel_12796/1163463125.py:31: FutureWarning: Pass y=[-3.0517578e-04 -3.3569336e-04 -5.7983398e-04 ...  6.1035156e-05\n",
      "  9.1552734e-05  6.1035156e-05] as keyword args. From version 0.10 passing these as positional arguments will result in an error\n",
      "  mel = np.mean(librosa.feature.melspectrogram(X, sr=sample_rate).T,axis=0)\n",
      "C:\\Users\\Mouad\\AppData\\Local\\Temp/ipykernel_12796/1163463125.py:31: FutureWarning: Pass y=[-9.1552734e-05 -6.1035156e-05 -6.1035156e-05 ... -1.5258789e-04\n",
      " -1.5258789e-04 -1.5258789e-04] as keyword args. From version 0.10 passing these as positional arguments will result in an error\n",
      "  mel = np.mean(librosa.feature.melspectrogram(X, sr=sample_rate).T,axis=0)\n",
      "C:\\Users\\Mouad\\AppData\\Local\\Temp/ipykernel_12796/1163463125.py:31: FutureWarning: Pass y=[ 0.0000000e+00 -3.0517578e-05 -3.0517578e-05 ... -1.2207031e-04\n",
      " -1.5258789e-04 -9.1552734e-05] as keyword args. From version 0.10 passing these as positional arguments will result in an error\n",
      "  mel = np.mean(librosa.feature.melspectrogram(X, sr=sample_rate).T,axis=0)\n"
     ]
    },
    {
     "name": "stdout",
     "output_type": "stream",
     "text": [
      "03-01-05-01-02-01-17.wav\n",
      "03-01-05-01-02-02-17.wav\n",
      "03-01-05-02-01-01-17.wav\n"
     ]
    },
    {
     "name": "stderr",
     "output_type": "stream",
     "text": [
      "C:\\Users\\Mouad\\AppData\\Local\\Temp/ipykernel_12796/1163463125.py:31: FutureWarning: Pass y=[1.2207031e-04 3.0517578e-05 0.0000000e+00 ... 0.0000000e+00 0.0000000e+00\n",
      " 0.0000000e+00] as keyword args. From version 0.10 passing these as positional arguments will result in an error\n",
      "  mel = np.mean(librosa.feature.melspectrogram(X, sr=sample_rate).T,axis=0)\n",
      "C:\\Users\\Mouad\\AppData\\Local\\Temp/ipykernel_12796/1163463125.py:31: FutureWarning: Pass y=[-9.1552734e-05 -3.0517578e-05  0.0000000e+00 ...  3.0517578e-05\n",
      "  6.1035156e-05  0.0000000e+00] as keyword args. From version 0.10 passing these as positional arguments will result in an error\n",
      "  mel = np.mean(librosa.feature.melspectrogram(X, sr=sample_rate).T,axis=0)\n",
      "C:\\Users\\Mouad\\AppData\\Local\\Temp/ipykernel_12796/1163463125.py:31: FutureWarning: Pass y=[-1.5258789e-04 -6.1035156e-05 -1.5258789e-04 ...  0.0000000e+00\n",
      "  0.0000000e+00  0.0000000e+00] as keyword args. From version 0.10 passing these as positional arguments will result in an error\n",
      "  mel = np.mean(librosa.feature.melspectrogram(X, sr=sample_rate).T,axis=0)\n"
     ]
    },
    {
     "name": "stdout",
     "output_type": "stream",
     "text": [
      "03-01-05-02-01-02-17.wav\n",
      "03-01-05-02-02-01-17.wav\n",
      "03-01-05-02-02-02-17.wav\n"
     ]
    },
    {
     "name": "stderr",
     "output_type": "stream",
     "text": [
      "C:\\Users\\Mouad\\AppData\\Local\\Temp/ipykernel_12796/1163463125.py:31: FutureWarning: Pass y=[0.00018311 0.00018311 0.00018311 ... 0.         0.         0.        ] as keyword args. From version 0.10 passing these as positional arguments will result in an error\n",
      "  mel = np.mean(librosa.feature.melspectrogram(X, sr=sample_rate).T,axis=0)\n",
      "C:\\Users\\Mouad\\AppData\\Local\\Temp/ipykernel_12796/1163463125.py:31: FutureWarning: Pass y=[-2.4414062e-04 -9.1552734e-05 -3.0517578e-05 ... -6.1035156e-05\n",
      " -3.0517578e-05  0.0000000e+00] as keyword args. From version 0.10 passing these as positional arguments will result in an error\n",
      "  mel = np.mean(librosa.feature.melspectrogram(X, sr=sample_rate).T,axis=0)\n"
     ]
    },
    {
     "name": "stdout",
     "output_type": "stream",
     "text": [
      "03-01-06-01-01-01-17.wav\n",
      "03-01-06-01-01-02-17.wav\n",
      "03-01-06-01-02-01-17.wav\n",
      "03-01-06-01-02-02-17.wav\n",
      "03-01-06-02-01-01-17.wav\n",
      "03-01-06-02-01-02-17.wav\n",
      "03-01-06-02-02-01-17.wav\n",
      "03-01-06-02-02-02-17.wav\n",
      "03-01-07-01-01-01-17.wav\n",
      "03-01-07-01-01-02-17.wav\n",
      "03-01-07-01-02-01-17.wav\n",
      "03-01-07-01-02-02-17.wav\n",
      "03-01-07-02-01-01-17.wav\n",
      "03-01-07-02-01-02-17.wav\n",
      "03-01-07-02-02-01-17.wav\n",
      "03-01-07-02-02-02-17.wav\n",
      "03-01-08-01-01-01-17.wav\n",
      "03-01-08-01-01-02-17.wav\n",
      "03-01-08-01-02-01-17.wav\n",
      "03-01-08-01-02-02-17.wav\n",
      "03-01-08-02-01-01-17.wav\n",
      "03-01-08-02-01-02-17.wav\n",
      "03-01-08-02-02-01-17.wav\n",
      "03-01-08-02-02-02-17.wav\n",
      "03-01-01-01-01-01-18.wav\n",
      "03-01-01-01-01-02-18.wav\n",
      "03-01-01-01-02-01-18.wav\n",
      "03-01-01-01-02-02-18.wav\n",
      "03-01-02-01-01-01-18.wav\n",
      "03-01-02-01-01-02-18.wav\n",
      "03-01-02-01-02-01-18.wav\n",
      "03-01-02-01-02-02-18.wav\n",
      "03-01-02-02-01-01-18.wav\n",
      "03-01-02-02-01-02-18.wav\n",
      "03-01-02-02-02-01-18.wav\n",
      "03-01-02-02-02-02-18.wav\n",
      "03-01-03-01-01-01-18.wav\n",
      "03-01-03-01-01-02-18.wav\n",
      "03-01-03-01-02-01-18.wav\n",
      "03-01-03-01-02-02-18.wav\n",
      "03-01-03-02-01-01-18.wav\n",
      "03-01-03-02-01-02-18.wav\n",
      "03-01-03-02-02-01-18.wav\n",
      "03-01-03-02-02-02-18.wav\n",
      "03-01-04-01-01-01-18.wav\n",
      "03-01-04-01-01-02-18.wav\n",
      "03-01-04-01-02-01-18.wav\n",
      "03-01-04-01-02-02-18.wav\n",
      "03-01-04-02-01-01-18.wav\n",
      "03-01-04-02-01-02-18.wav\n",
      "03-01-04-02-02-01-18.wav\n",
      "03-01-04-02-02-02-18.wav\n",
      "03-01-05-01-01-01-18.wav\n",
      "03-01-05-01-01-02-18.wav\n",
      "03-01-05-01-02-01-18.wav\n",
      "03-01-05-01-02-02-18.wav\n",
      "03-01-05-02-01-01-18.wav\n",
      "03-01-05-02-01-02-18.wav\n",
      "03-01-05-02-02-01-18.wav\n",
      "03-01-05-02-02-02-18.wav\n",
      "03-01-06-01-01-01-18.wav\n",
      "03-01-06-01-01-02-18.wav\n",
      "03-01-06-01-02-01-18.wav\n",
      "03-01-06-01-02-02-18.wav\n",
      "03-01-06-02-01-01-18.wav\n",
      "03-01-06-02-01-02-18.wav\n",
      "03-01-06-02-02-01-18.wav\n",
      "03-01-06-02-02-02-18.wav\n",
      "03-01-07-01-01-01-18.wav\n",
      "03-01-07-01-01-02-18.wav\n",
      "03-01-07-01-02-01-18.wav\n",
      "03-01-07-01-02-02-18.wav\n",
      "03-01-07-02-01-01-18.wav\n",
      "03-01-07-02-01-02-18.wav\n",
      "03-01-07-02-02-01-18.wav\n",
      "03-01-07-02-02-02-18.wav\n",
      "03-01-08-01-01-01-18.wav\n",
      "03-01-08-01-01-02-18.wav\n",
      "03-01-08-01-02-01-18.wav\n",
      "03-01-08-01-02-02-18.wav\n",
      "03-01-08-02-01-01-18.wav\n",
      "03-01-08-02-01-02-18.wav\n",
      "03-01-08-02-02-01-18.wav\n",
      "03-01-08-02-02-02-18.wav\n",
      "03-01-01-01-01-01-19.wav\n",
      "03-01-01-01-01-02-19.wav\n",
      "03-01-01-01-02-01-19.wav\n",
      "03-01-01-01-02-02-19.wav\n"
     ]
    },
    {
     "name": "stderr",
     "output_type": "stream",
     "text": [
      "C:\\Users\\Mouad\\AppData\\Local\\Temp/ipykernel_12796/1163463125.py:31: FutureWarning: Pass y=[-0.00018311 -0.00018311 -0.00021362 ...  0.          0.\n",
      "  0.        ] as keyword args. From version 0.10 passing these as positional arguments will result in an error\n",
      "  mel = np.mean(librosa.feature.melspectrogram(X, sr=sample_rate).T,axis=0)\n",
      "C:\\Users\\Mouad\\AppData\\Local\\Temp/ipykernel_12796/1163463125.py:31: FutureWarning: Pass y=[ 1.2207031e-04  1.2207031e-04  1.2207031e-04 ... -3.0517578e-05\n",
      " -3.0517578e-05 -3.0517578e-05] as keyword args. From version 0.10 passing these as positional arguments will result in an error\n",
      "  mel = np.mean(librosa.feature.melspectrogram(X, sr=sample_rate).T,axis=0)\n",
      "C:\\Users\\Mouad\\AppData\\Local\\Temp/ipykernel_12796/1163463125.py:31: FutureWarning: Pass y=[0.         0.         0.         ... 0.00308228 0.00311279 0.00308228] as keyword args. From version 0.10 passing these as positional arguments will result in an error\n",
      "  mel = np.mean(librosa.feature.melspectrogram(X, sr=sample_rate).T,axis=0)\n",
      "C:\\Users\\Mouad\\AppData\\Local\\Temp/ipykernel_12796/1163463125.py:31: FutureWarning: Pass y=[0.0000000e+00 3.0517578e-05 0.0000000e+00 ... 0.0000000e+00 0.0000000e+00\n",
      " 0.0000000e+00] as keyword args. From version 0.10 passing these as positional arguments will result in an error\n",
      "  mel = np.mean(librosa.feature.melspectrogram(X, sr=sample_rate).T,axis=0)\n"
     ]
    },
    {
     "name": "stdout",
     "output_type": "stream",
     "text": [
      "03-01-02-01-01-01-19.wav\n",
      "03-01-02-01-01-02-19.wav\n",
      "03-01-02-01-02-01-19.wav\n",
      "03-01-02-01-02-02-19.wav\n",
      "03-01-02-02-01-01-19.wav\n",
      "03-01-02-02-01-02-19.wav\n",
      "03-01-02-02-02-01-19.wav\n",
      "03-01-02-02-02-02-19.wav\n",
      "03-01-03-01-01-01-19.wav\n",
      "03-01-03-01-01-02-19.wav\n",
      "03-01-03-01-02-01-19.wav\n",
      "03-01-03-01-02-02-19.wav\n"
     ]
    },
    {
     "name": "stderr",
     "output_type": "stream",
     "text": [
      "C:\\Users\\Mouad\\AppData\\Local\\Temp/ipykernel_12796/1163463125.py:31: FutureWarning: Pass y=[3.0517578e-05 6.1035156e-05 0.0000000e+00 ... 9.1552734e-05 6.1035156e-05\n",
      " 6.1035156e-05] as keyword args. From version 0.10 passing these as positional arguments will result in an error\n",
      "  mel = np.mean(librosa.feature.melspectrogram(X, sr=sample_rate).T,axis=0)\n",
      "C:\\Users\\Mouad\\AppData\\Local\\Temp/ipykernel_12796/1163463125.py:31: FutureWarning: Pass y=[-1.2207031e-04 -1.2207031e-04 -1.2207031e-04 ...  9.1552734e-05\n",
      "  9.1552734e-05  1.2207031e-04] as keyword args. From version 0.10 passing these as positional arguments will result in an error\n",
      "  mel = np.mean(librosa.feature.melspectrogram(X, sr=sample_rate).T,axis=0)\n",
      "C:\\Users\\Mouad\\AppData\\Local\\Temp/ipykernel_12796/1163463125.py:31: FutureWarning: Pass y=[ 0.00036621  0.00045776  0.00048828 ... -0.00021362 -0.00021362\n",
      " -0.00021362] as keyword args. From version 0.10 passing these as positional arguments will result in an error\n",
      "  mel = np.mean(librosa.feature.melspectrogram(X, sr=sample_rate).T,axis=0)\n"
     ]
    },
    {
     "name": "stdout",
     "output_type": "stream",
     "text": [
      "03-01-03-02-01-01-19.wav\n",
      "03-01-03-02-01-02-19.wav\n",
      "03-01-03-02-02-01-19.wav\n"
     ]
    },
    {
     "name": "stderr",
     "output_type": "stream",
     "text": [
      "C:\\Users\\Mouad\\AppData\\Local\\Temp/ipykernel_12796/1163463125.py:31: FutureWarning: Pass y=[ 0.00067139  0.00076294  0.00106812 ...  0.00344849 -0.00195312\n",
      " -0.00204468] as keyword args. From version 0.10 passing these as positional arguments will result in an error\n",
      "  mel = np.mean(librosa.feature.melspectrogram(X, sr=sample_rate).T,axis=0)\n",
      "C:\\Users\\Mouad\\AppData\\Local\\Temp/ipykernel_12796/1163463125.py:31: FutureWarning: Pass y=[-1.2207031e-04 -1.2207031e-04 -1.2207031e-04 ...  3.0517578e-05\n",
      "  3.0517578e-05  6.1035156e-05] as keyword args. From version 0.10 passing these as positional arguments will result in an error\n",
      "  mel = np.mean(librosa.feature.melspectrogram(X, sr=sample_rate).T,axis=0)\n"
     ]
    },
    {
     "name": "stdout",
     "output_type": "stream",
     "text": [
      "03-01-03-02-02-02-19.wav\n",
      "03-01-04-01-01-01-19.wav\n",
      "03-01-04-01-01-02-19.wav\n"
     ]
    },
    {
     "name": "stderr",
     "output_type": "stream",
     "text": [
      "C:\\Users\\Mouad\\AppData\\Local\\Temp/ipykernel_12796/1163463125.py:31: FutureWarning: Pass y=[3.0517578e-05 6.1035156e-05 6.1035156e-05 ... 6.1035156e-05 3.0517578e-05\n",
      " 3.0517578e-05] as keyword args. From version 0.10 passing these as positional arguments will result in an error\n",
      "  mel = np.mean(librosa.feature.melspectrogram(X, sr=sample_rate).T,axis=0)\n",
      "C:\\Users\\Mouad\\AppData\\Local\\Temp/ipykernel_12796/1163463125.py:31: FutureWarning: Pass y=[ 1.2207031e-04  1.2207031e-04  1.2207031e-04 ... -3.0517578e-05\n",
      "  0.0000000e+00 -3.0517578e-05] as keyword args. From version 0.10 passing these as positional arguments will result in an error\n",
      "  mel = np.mean(librosa.feature.melspectrogram(X, sr=sample_rate).T,axis=0)\n",
      "C:\\Users\\Mouad\\AppData\\Local\\Temp/ipykernel_12796/1163463125.py:31: FutureWarning: Pass y=[ 0.          0.          0.         ... -0.00125122 -0.00125122\n",
      " -0.00125122] as keyword args. From version 0.10 passing these as positional arguments will result in an error\n",
      "  mel = np.mean(librosa.feature.melspectrogram(X, sr=sample_rate).T,axis=0)\n"
     ]
    },
    {
     "name": "stdout",
     "output_type": "stream",
     "text": [
      "03-01-04-01-02-01-19.wav\n",
      "03-01-04-01-02-02-19.wav\n",
      "03-01-04-02-01-01-19.wav\n",
      "03-01-04-02-01-02-19.wav\n",
      "03-01-04-02-02-01-19.wav\n",
      "03-01-04-02-02-02-19.wav\n",
      "03-01-05-01-01-01-19.wav\n"
     ]
    },
    {
     "name": "stderr",
     "output_type": "stream",
     "text": [
      "C:\\Users\\Mouad\\AppData\\Local\\Temp/ipykernel_12796/1163463125.py:31: FutureWarning: Pass y=[-0.0022583  -0.00228882 -0.00234985 ...  0.          0.\n",
      "  0.        ] as keyword args. From version 0.10 passing these as positional arguments will result in an error\n",
      "  mel = np.mean(librosa.feature.melspectrogram(X, sr=sample_rate).T,axis=0)\n",
      "C:\\Users\\Mouad\\AppData\\Local\\Temp/ipykernel_12796/1163463125.py:31: FutureWarning: Pass y=[ 3.0517578e-05  0.0000000e+00  0.0000000e+00 ... -6.1035156e-05\n",
      " -3.0517578e-05 -6.1035156e-05] as keyword args. From version 0.10 passing these as positional arguments will result in an error\n",
      "  mel = np.mean(librosa.feature.melspectrogram(X, sr=sample_rate).T,axis=0)\n",
      "C:\\Users\\Mouad\\AppData\\Local\\Temp/ipykernel_12796/1163463125.py:31: FutureWarning: Pass y=[-0.00048828 -0.00036621 -0.00027466 ... -0.00021362 -0.00021362\n",
      " -0.00021362] as keyword args. From version 0.10 passing these as positional arguments will result in an error\n",
      "  mel = np.mean(librosa.feature.melspectrogram(X, sr=sample_rate).T,axis=0)\n"
     ]
    },
    {
     "name": "stdout",
     "output_type": "stream",
     "text": [
      "03-01-05-01-01-02-19.wav\n",
      "03-01-05-01-02-01-19.wav\n",
      "03-01-05-01-02-02-19.wav\n"
     ]
    },
    {
     "name": "stderr",
     "output_type": "stream",
     "text": [
      "C:\\Users\\Mouad\\AppData\\Local\\Temp/ipykernel_12796/1163463125.py:31: FutureWarning: Pass y=[-1.2207031e-04 -1.2207031e-04 -9.1552734e-05 ...  3.9672852e-04\n",
      "  3.9672852e-04  3.6621094e-04] as keyword args. From version 0.10 passing these as positional arguments will result in an error\n",
      "  mel = np.mean(librosa.feature.melspectrogram(X, sr=sample_rate).T,axis=0)\n",
      "C:\\Users\\Mouad\\AppData\\Local\\Temp/ipykernel_12796/1163463125.py:31: FutureWarning: Pass y=[ 0.0000000e+00  0.0000000e+00  0.0000000e+00 ...  0.0000000e+00\n",
      " -3.0517578e-05  0.0000000e+00] as keyword args. From version 0.10 passing these as positional arguments will result in an error\n",
      "  mel = np.mean(librosa.feature.melspectrogram(X, sr=sample_rate).T,axis=0)\n",
      "C:\\Users\\Mouad\\AppData\\Local\\Temp/ipykernel_12796/1163463125.py:31: FutureWarning: Pass y=[-0.00283813 -0.00286865 -0.00286865 ...  0.          0.\n",
      "  0.        ] as keyword args. From version 0.10 passing these as positional arguments will result in an error\n",
      "  mel = np.mean(librosa.feature.melspectrogram(X, sr=sample_rate).T,axis=0)\n"
     ]
    },
    {
     "name": "stdout",
     "output_type": "stream",
     "text": [
      "03-01-05-02-01-01-19.wav\n",
      "03-01-05-02-01-02-19.wav\n",
      "03-01-05-02-02-01-19.wav\n"
     ]
    },
    {
     "name": "stderr",
     "output_type": "stream",
     "text": [
      "C:\\Users\\Mouad\\AppData\\Local\\Temp/ipykernel_12796/1163463125.py:31: FutureWarning: Pass y=[ 0.0000000e+00  0.0000000e+00  0.0000000e+00 ... -9.1552734e-05\n",
      " -9.1552734e-05 -9.1552734e-05] as keyword args. From version 0.10 passing these as positional arguments will result in an error\n",
      "  mel = np.mean(librosa.feature.melspectrogram(X, sr=sample_rate).T,axis=0)\n",
      "C:\\Users\\Mouad\\AppData\\Local\\Temp/ipykernel_12796/1163463125.py:31: FutureWarning: Pass y=[ 6.1035156e-05 -3.0517578e-05  2.1362305e-04 ...  0.0000000e+00\n",
      "  3.0517578e-05  0.0000000e+00] as keyword args. From version 0.10 passing these as positional arguments will result in an error\n",
      "  mel = np.mean(librosa.feature.melspectrogram(X, sr=sample_rate).T,axis=0)\n"
     ]
    },
    {
     "name": "stdout",
     "output_type": "stream",
     "text": [
      "03-01-05-02-02-02-19.wav\n",
      "03-01-06-01-01-01-19.wav\n",
      "03-01-06-01-01-02-19.wav\n",
      "03-01-06-01-02-01-19.wav\n",
      "03-01-06-01-02-02-19.wav\n",
      "03-01-06-02-01-01-19.wav\n",
      "03-01-06-02-01-02-19.wav\n",
      "03-01-06-02-02-01-19.wav\n",
      "03-01-06-02-02-02-19.wav\n",
      "03-01-07-01-01-01-19.wav\n",
      "03-01-07-01-01-02-19.wav\n",
      "03-01-07-01-02-01-19.wav\n",
      "03-01-07-01-02-02-19.wav\n",
      "03-01-07-02-01-01-19.wav\n",
      "03-01-07-02-01-02-19.wav\n",
      "03-01-07-02-02-01-19.wav\n",
      "03-01-07-02-02-02-19.wav\n",
      "03-01-08-01-01-01-19.wav\n",
      "03-01-08-01-01-02-19.wav\n",
      "03-01-08-01-02-01-19.wav\n",
      "03-01-08-01-02-02-19.wav\n",
      "03-01-08-02-01-01-19.wav\n",
      "03-01-08-02-01-02-19.wav\n",
      "03-01-08-02-02-01-19.wav\n",
      "03-01-08-02-02-02-19.wav\n",
      "03-01-01-01-01-01-20.wav\n",
      "03-01-01-01-01-02-20.wav\n",
      "03-01-01-01-02-01-20.wav\n",
      "03-01-01-01-02-02-20.wav\n",
      "03-01-02-01-01-01-20.wav\n",
      "03-01-02-01-01-02-20.wav\n",
      "03-01-02-01-02-01-20.wav\n",
      "03-01-02-01-02-02-20.wav\n",
      "03-01-02-02-01-01-20.wav\n",
      "03-01-02-02-01-02-20.wav\n",
      "03-01-02-02-02-01-20.wav\n",
      "03-01-02-02-02-02-20.wav\n",
      "03-01-03-01-01-01-20.wav\n",
      "03-01-03-01-01-02-20.wav\n",
      "03-01-03-01-02-01-20.wav\n",
      "03-01-03-01-02-02-20.wav\n",
      "03-01-03-02-01-01-20.wav\n",
      "03-01-03-02-01-02-20.wav\n",
      "03-01-03-02-02-01-20.wav\n",
      "03-01-03-02-02-02-20.wav\n",
      "03-01-04-01-01-01-20.wav\n"
     ]
    },
    {
     "name": "stderr",
     "output_type": "stream",
     "text": [
      "C:\\Users\\Mouad\\AppData\\Local\\Temp/ipykernel_12796/1163463125.py:31: FutureWarning: Pass y=[ 0.0000000e+00  0.0000000e+00  0.0000000e+00 ...  0.0000000e+00\n",
      "  3.0517578e-05 -6.1035156e-05] as keyword args. From version 0.10 passing these as positional arguments will result in an error\n",
      "  mel = np.mean(librosa.feature.melspectrogram(X, sr=sample_rate).T,axis=0)\n"
     ]
    },
    {
     "name": "stdout",
     "output_type": "stream",
     "text": [
      "03-01-04-01-01-02-20.wav\n",
      "03-01-04-01-02-01-20.wav\n",
      "03-01-04-01-02-02-20.wav\n",
      "03-01-04-02-01-01-20.wav\n",
      "03-01-04-02-01-02-20.wav\n",
      "03-01-04-02-02-01-20.wav\n"
     ]
    },
    {
     "name": "stderr",
     "output_type": "stream",
     "text": [
      "C:\\Users\\Mouad\\AppData\\Local\\Temp/ipykernel_12796/1163463125.py:31: FutureWarning: Pass y=[ 0.          0.          0.         ... -0.01150513 -0.0135498\n",
      "  0.01361084] as keyword args. From version 0.10 passing these as positional arguments will result in an error\n",
      "  mel = np.mean(librosa.feature.melspectrogram(X, sr=sample_rate).T,axis=0)\n"
     ]
    },
    {
     "name": "stdout",
     "output_type": "stream",
     "text": [
      "03-01-04-02-02-02-20.wav\n",
      "03-01-05-01-01-01-20.wav\n",
      "03-01-05-01-01-02-20.wav\n",
      "03-01-05-01-02-01-20.wav\n",
      "03-01-05-01-02-02-20.wav\n",
      "03-01-05-02-01-01-20.wav\n"
     ]
    },
    {
     "name": "stderr",
     "output_type": "stream",
     "text": [
      "C:\\Users\\Mouad\\AppData\\Local\\Temp/ipykernel_12796/1163463125.py:31: FutureWarning: Pass y=[ 0.0000000e+00  3.0517578e-05 -9.1552734e-05 ...  0.0000000e+00\n",
      "  0.0000000e+00  0.0000000e+00] as keyword args. From version 0.10 passing these as positional arguments will result in an error\n",
      "  mel = np.mean(librosa.feature.melspectrogram(X, sr=sample_rate).T,axis=0)\n",
      "C:\\Users\\Mouad\\AppData\\Local\\Temp/ipykernel_12796/1163463125.py:31: FutureWarning: Pass y=[-3.0517578e-05  0.0000000e+00  0.0000000e+00 ...  3.0517578e-05\n",
      "  3.0517578e-05  0.0000000e+00] as keyword args. From version 0.10 passing these as positional arguments will result in an error\n",
      "  mel = np.mean(librosa.feature.melspectrogram(X, sr=sample_rate).T,axis=0)\n"
     ]
    },
    {
     "name": "stdout",
     "output_type": "stream",
     "text": [
      "03-01-05-02-01-02-20.wav\n",
      "03-01-05-02-02-01-20.wav\n",
      "03-01-05-02-02-02-20.wav\n"
     ]
    },
    {
     "name": "stderr",
     "output_type": "stream",
     "text": [
      "C:\\Users\\Mouad\\AppData\\Local\\Temp/ipykernel_12796/1163463125.py:31: FutureWarning: Pass y=[ 3.0517578e-05  0.0000000e+00 -3.0517578e-05 ... -3.0517578e-05\n",
      "  0.0000000e+00  0.0000000e+00] as keyword args. From version 0.10 passing these as positional arguments will result in an error\n",
      "  mel = np.mean(librosa.feature.melspectrogram(X, sr=sample_rate).T,axis=0)\n"
     ]
    },
    {
     "name": "stdout",
     "output_type": "stream",
     "text": [
      "03-01-06-01-01-01-20.wav\n",
      "03-01-06-01-01-02-20.wav\n",
      "03-01-06-01-02-01-20.wav\n",
      "03-01-06-01-02-02-20.wav\n",
      "03-01-06-02-01-01-20.wav\n",
      "03-01-06-02-01-02-20.wav\n",
      "03-01-06-02-02-01-20.wav\n",
      "03-01-06-02-02-02-20.wav\n",
      "03-01-07-01-01-01-20.wav\n",
      "03-01-07-01-01-02-20.wav\n",
      "03-01-07-01-02-01-20.wav\n",
      "03-01-07-01-02-02-20.wav\n",
      "03-01-07-02-01-01-20.wav\n",
      "03-01-07-02-01-02-20.wav\n",
      "03-01-07-02-02-01-20.wav\n",
      "03-01-07-02-02-02-20.wav\n",
      "03-01-08-01-01-01-20.wav\n",
      "03-01-08-01-01-02-20.wav\n",
      "03-01-08-01-02-01-20.wav\n",
      "03-01-08-01-02-02-20.wav\n",
      "03-01-08-02-01-01-20.wav\n",
      "03-01-08-02-01-02-20.wav\n",
      "03-01-08-02-02-01-20.wav\n",
      "03-01-08-02-02-02-20.wav\n",
      "03-01-01-01-01-01-21.wav\n",
      "03-01-01-01-01-02-21.wav\n",
      "03-01-01-01-02-01-21.wav\n",
      "03-01-01-01-02-02-21.wav\n",
      "03-01-02-01-01-01-21.wav\n",
      "03-01-02-01-01-02-21.wav\n",
      "03-01-02-01-02-01-21.wav\n",
      "03-01-02-01-02-02-21.wav\n",
      "03-01-02-02-01-01-21.wav\n",
      "03-01-02-02-01-02-21.wav\n",
      "03-01-02-02-02-01-21.wav\n",
      "03-01-02-02-02-02-21.wav\n",
      "03-01-03-01-01-01-21.wav\n",
      "03-01-03-01-01-02-21.wav\n",
      "03-01-03-01-02-01-21.wav\n",
      "03-01-03-01-02-02-21.wav\n",
      "03-01-03-02-01-01-21.wav\n"
     ]
    },
    {
     "name": "stderr",
     "output_type": "stream",
     "text": [
      "C:\\Users\\Mouad\\AppData\\Local\\Temp/ipykernel_12796/1163463125.py:31: FutureWarning: Pass y=[3.0517578e-05 0.0000000e+00 3.0517578e-05 ... 0.0000000e+00 0.0000000e+00\n",
      " 0.0000000e+00] as keyword args. From version 0.10 passing these as positional arguments will result in an error\n",
      "  mel = np.mean(librosa.feature.melspectrogram(X, sr=sample_rate).T,axis=0)\n"
     ]
    },
    {
     "name": "stdout",
     "output_type": "stream",
     "text": [
      "03-01-03-02-01-02-21.wav\n",
      "03-01-03-02-02-01-21.wav\n",
      "03-01-03-02-02-02-21.wav\n",
      "03-01-04-01-01-01-21.wav\n",
      "03-01-04-01-01-02-21.wav\n",
      "03-01-04-01-02-01-21.wav\n",
      "03-01-04-01-02-02-21.wav\n",
      "03-01-04-02-01-01-21.wav\n",
      "03-01-04-02-01-02-21.wav\n",
      "03-01-04-02-02-01-21.wav\n",
      "03-01-04-02-02-02-21.wav\n",
      "03-01-05-01-01-01-21.wav\n",
      "03-01-05-01-01-02-21.wav\n",
      "03-01-05-01-02-01-21.wav\n",
      "03-01-05-01-02-02-21.wav\n",
      "03-01-05-02-01-01-21.wav\n",
      "03-01-05-02-01-02-21.wav\n",
      "03-01-05-02-02-01-21.wav\n",
      "03-01-05-02-02-02-21.wav\n",
      "03-01-06-01-01-01-21.wav\n",
      "03-01-06-01-01-02-21.wav\n",
      "03-01-06-01-02-01-21.wav\n",
      "03-01-06-01-02-02-21.wav\n",
      "03-01-06-02-01-01-21.wav\n",
      "03-01-06-02-01-02-21.wav\n",
      "03-01-06-02-02-01-21.wav\n",
      "03-01-06-02-02-02-21.wav\n",
      "03-01-07-01-01-01-21.wav\n",
      "03-01-07-01-01-02-21.wav\n",
      "03-01-07-01-02-01-21.wav\n",
      "03-01-07-01-02-02-21.wav\n",
      "03-01-07-02-01-01-21.wav\n",
      "03-01-07-02-01-02-21.wav\n",
      "03-01-07-02-02-01-21.wav\n",
      "03-01-07-02-02-02-21.wav\n",
      "03-01-08-01-01-01-21.wav\n",
      "03-01-08-01-01-02-21.wav\n",
      "03-01-08-01-02-01-21.wav\n",
      "03-01-08-01-02-02-21.wav\n",
      "03-01-08-02-01-01-21.wav\n",
      "03-01-08-02-01-02-21.wav\n",
      "03-01-08-02-02-01-21.wav\n",
      "03-01-08-02-02-02-21.wav\n",
      "03-01-01-01-01-01-22.wav\n",
      "03-01-01-01-01-02-22.wav\n",
      "03-01-01-01-02-01-22.wav\n",
      "03-01-01-01-02-02-22.wav\n",
      "03-01-02-01-01-01-22.wav\n",
      "03-01-02-01-01-02-22.wav\n",
      "03-01-02-01-02-01-22.wav\n",
      "03-01-02-01-02-02-22.wav\n",
      "03-01-02-02-01-01-22.wav\n",
      "03-01-02-02-01-02-22.wav\n",
      "03-01-02-02-02-01-22.wav\n",
      "03-01-02-02-02-02-22.wav\n",
      "03-01-03-01-01-01-22.wav\n",
      "03-01-03-01-01-02-22.wav\n",
      "03-01-03-01-02-01-22.wav\n",
      "03-01-03-01-02-02-22.wav\n",
      "03-01-03-02-01-01-22.wav\n",
      "03-01-03-02-01-02-22.wav\n",
      "03-01-03-02-02-01-22.wav\n",
      "03-01-03-02-02-02-22.wav\n",
      "03-01-04-01-01-01-22.wav\n",
      "03-01-04-01-01-02-22.wav\n",
      "03-01-04-01-02-01-22.wav\n",
      "03-01-04-01-02-02-22.wav\n",
      "03-01-04-02-01-01-22.wav\n",
      "03-01-04-02-01-02-22.wav\n",
      "03-01-04-02-02-01-22.wav\n",
      "03-01-04-02-02-02-22.wav\n",
      "03-01-05-01-01-01-22.wav\n",
      "03-01-05-01-01-02-22.wav\n",
      "03-01-05-01-02-01-22.wav\n",
      "03-01-05-01-02-02-22.wav\n",
      "03-01-05-02-01-01-22.wav\n",
      "03-01-05-02-01-02-22.wav\n"
     ]
    },
    {
     "name": "stderr",
     "output_type": "stream",
     "text": [
      "C:\\Users\\Mouad\\AppData\\Local\\Temp/ipykernel_12796/1163463125.py:31: FutureWarning: Pass y=[-3.0517578e-05 -6.1035156e-05 -6.1035156e-05 ...  0.0000000e+00\n",
      "  0.0000000e+00  0.0000000e+00] as keyword args. From version 0.10 passing these as positional arguments will result in an error\n",
      "  mel = np.mean(librosa.feature.melspectrogram(X, sr=sample_rate).T,axis=0)\n"
     ]
    },
    {
     "name": "stdout",
     "output_type": "stream",
     "text": [
      "03-01-05-02-02-01-22.wav\n",
      "03-01-05-02-02-02-22.wav\n",
      "03-01-06-01-01-01-22.wav\n",
      "03-01-06-01-01-02-22.wav\n",
      "03-01-06-01-02-01-22.wav\n",
      "03-01-06-01-02-02-22.wav\n",
      "03-01-06-02-01-01-22.wav\n",
      "03-01-06-02-01-02-22.wav\n",
      "03-01-06-02-02-01-22.wav\n",
      "03-01-06-02-02-02-22.wav\n",
      "03-01-07-01-01-01-22.wav\n",
      "03-01-07-01-01-02-22.wav\n",
      "03-01-07-01-02-01-22.wav\n",
      "03-01-07-01-02-02-22.wav\n",
      "03-01-07-02-01-01-22.wav\n",
      "03-01-07-02-01-02-22.wav\n",
      "03-01-07-02-02-01-22.wav\n",
      "03-01-07-02-02-02-22.wav\n",
      "03-01-08-01-01-01-22.wav\n",
      "03-01-08-01-01-02-22.wav\n",
      "03-01-08-01-02-01-22.wav\n",
      "03-01-08-01-02-02-22.wav\n",
      "03-01-08-02-01-01-22.wav\n",
      "03-01-08-02-01-02-22.wav\n",
      "03-01-08-02-02-01-22.wav\n",
      "03-01-08-02-02-02-22.wav\n",
      "03-01-01-01-01-01-23.wav\n",
      "03-01-01-01-01-02-23.wav\n",
      "03-01-01-01-02-01-23.wav\n",
      "03-01-01-01-02-02-23.wav\n"
     ]
    },
    {
     "name": "stderr",
     "output_type": "stream",
     "text": [
      "C:\\Users\\Mouad\\AppData\\Local\\Temp/ipykernel_12796/1163463125.py:31: FutureWarning: Pass y=[ 0.0000000e+00  0.0000000e+00  0.0000000e+00 ... -3.0517578e-05\n",
      " -6.1035156e-05  0.0000000e+00] as keyword args. From version 0.10 passing these as positional arguments will result in an error\n",
      "  mel = np.mean(librosa.feature.melspectrogram(X, sr=sample_rate).T,axis=0)\n"
     ]
    },
    {
     "name": "stdout",
     "output_type": "stream",
     "text": [
      "03-01-02-01-01-01-23.wav\n",
      "03-01-02-01-01-02-23.wav\n",
      "03-01-02-01-02-01-23.wav\n",
      "03-01-02-01-02-02-23.wav\n",
      "03-01-02-02-01-01-23.wav\n",
      "03-01-02-02-01-02-23.wav\n",
      "03-01-02-02-02-01-23.wav\n",
      "03-01-02-02-02-02-23.wav\n",
      "03-01-03-01-01-01-23.wav\n",
      "03-01-03-01-01-02-23.wav\n",
      "03-01-03-01-02-01-23.wav\n",
      "03-01-03-01-02-02-23.wav\n",
      "03-01-03-02-01-01-23.wav\n",
      "03-01-03-02-01-02-23.wav\n",
      "03-01-03-02-02-01-23.wav\n",
      "03-01-03-02-02-02-23.wav\n",
      "03-01-04-01-01-01-23.wav\n",
      "03-01-04-01-01-02-23.wav\n",
      "03-01-04-01-02-01-23.wav\n",
      "03-01-04-01-02-02-23.wav\n",
      "03-01-04-02-01-01-23.wav\n",
      "03-01-04-02-01-02-23.wav\n",
      "03-01-04-02-02-01-23.wav\n",
      "03-01-04-02-02-02-23.wav\n",
      "03-01-05-01-01-01-23.wav\n",
      "03-01-05-01-01-02-23.wav\n",
      "03-01-05-01-02-01-23.wav\n",
      "03-01-05-01-02-02-23.wav\n",
      "03-01-05-02-01-01-23.wav\n",
      "03-01-05-02-01-02-23.wav\n",
      "03-01-05-02-02-01-23.wav\n",
      "03-01-05-02-02-02-23.wav\n",
      "03-01-06-01-01-01-23.wav\n",
      "03-01-06-01-01-02-23.wav\n",
      "03-01-06-01-02-01-23.wav\n",
      "03-01-06-01-02-02-23.wav\n",
      "03-01-06-02-01-01-23.wav\n",
      "03-01-06-02-01-02-23.wav\n",
      "03-01-06-02-02-01-23.wav\n",
      "03-01-06-02-02-02-23.wav\n",
      "03-01-07-01-01-01-23.wav\n",
      "03-01-07-01-01-02-23.wav\n",
      "03-01-07-01-02-01-23.wav\n",
      "03-01-07-01-02-02-23.wav\n",
      "03-01-07-02-01-01-23.wav\n",
      "03-01-07-02-01-02-23.wav\n",
      "03-01-07-02-02-01-23.wav\n",
      "03-01-07-02-02-02-23.wav\n",
      "03-01-08-01-01-01-23.wav\n",
      "03-01-08-01-01-02-23.wav\n",
      "03-01-08-01-02-01-23.wav\n",
      "03-01-08-01-02-02-23.wav\n",
      "03-01-08-02-01-01-23.wav\n",
      "03-01-08-02-01-02-23.wav\n",
      "03-01-08-02-02-01-23.wav\n",
      "03-01-08-02-02-02-23.wav\n",
      "03-01-01-01-01-01-24.wav\n",
      "03-01-01-01-01-02-24.wav\n"
     ]
    },
    {
     "name": "stderr",
     "output_type": "stream",
     "text": [
      "C:\\Users\\Mouad\\AppData\\Local\\Temp/ipykernel_12796/1163463125.py:31: FutureWarning: Pass y=[-3.0517578e-05 -3.0517578e-05  0.0000000e+00 ...  3.0517578e-05\n",
      "  3.0517578e-05  3.0517578e-05] as keyword args. From version 0.10 passing these as positional arguments will result in an error\n",
      "  mel = np.mean(librosa.feature.melspectrogram(X, sr=sample_rate).T,axis=0)\n"
     ]
    },
    {
     "name": "stdout",
     "output_type": "stream",
     "text": [
      "03-01-01-01-02-01-24.wav\n",
      "03-01-01-01-02-02-24.wav\n",
      "03-01-02-01-01-01-24.wav\n",
      "03-01-02-01-01-02-24.wav\n",
      "03-01-02-01-02-01-24.wav\n",
      "03-01-02-01-02-02-24.wav\n",
      "03-01-02-02-01-01-24.wav\n",
      "03-01-02-02-01-02-24.wav\n",
      "03-01-02-02-02-01-24.wav\n",
      "03-01-02-02-02-02-24.wav\n",
      "03-01-03-01-01-01-24.wav\n",
      "03-01-03-01-01-02-24.wav\n",
      "03-01-03-01-02-01-24.wav\n",
      "03-01-03-01-02-02-24.wav\n",
      "03-01-03-02-01-01-24.wav\n",
      "03-01-03-02-01-02-24.wav\n",
      "03-01-03-02-02-01-24.wav\n",
      "03-01-03-02-02-02-24.wav\n",
      "03-01-04-01-01-01-24.wav\n",
      "03-01-04-01-01-02-24.wav\n",
      "03-01-04-01-02-01-24.wav\n",
      "03-01-04-01-02-02-24.wav\n",
      "03-01-04-02-01-01-24.wav\n",
      "03-01-04-02-01-02-24.wav\n",
      "03-01-04-02-02-01-24.wav\n",
      "03-01-04-02-02-02-24.wav\n",
      "03-01-05-01-01-01-24.wav\n"
     ]
    },
    {
     "name": "stderr",
     "output_type": "stream",
     "text": [
      "C:\\Users\\Mouad\\AppData\\Local\\Temp/ipykernel_12796/1163463125.py:31: FutureWarning: Pass y=[ 0.0000000e+00  0.0000000e+00  0.0000000e+00 ... -1.5258789e-04\n",
      " -1.5258789e-04 -3.0517578e-05] as keyword args. From version 0.10 passing these as positional arguments will result in an error\n",
      "  mel = np.mean(librosa.feature.melspectrogram(X, sr=sample_rate).T,axis=0)\n"
     ]
    },
    {
     "name": "stdout",
     "output_type": "stream",
     "text": [
      "03-01-05-01-01-02-24.wav\n",
      "03-01-05-01-02-01-24.wav\n",
      "03-01-05-01-02-02-24.wav\n",
      "03-01-05-02-01-01-24.wav\n",
      "03-01-05-02-01-02-24.wav\n",
      "03-01-05-02-02-01-24.wav\n",
      "03-01-05-02-02-02-24.wav\n",
      "03-01-06-01-01-01-24.wav\n",
      "03-01-06-01-01-02-24.wav\n",
      "03-01-06-01-02-01-24.wav\n",
      "03-01-06-01-02-02-24.wav\n",
      "03-01-06-02-01-01-24.wav\n",
      "03-01-06-02-01-02-24.wav\n",
      "03-01-06-02-02-01-24.wav\n",
      "03-01-06-02-02-02-24.wav\n",
      "03-01-07-01-01-01-24.wav\n",
      "03-01-07-01-01-02-24.wav\n",
      "03-01-07-01-02-01-24.wav\n",
      "03-01-07-01-02-02-24.wav\n",
      "03-01-07-02-01-01-24.wav\n",
      "03-01-07-02-01-02-24.wav\n",
      "03-01-07-02-02-01-24.wav\n",
      "03-01-07-02-02-02-24.wav\n",
      "03-01-08-01-01-01-24.wav\n",
      "03-01-08-01-01-02-24.wav\n",
      "03-01-08-01-02-01-24.wav\n",
      "03-01-08-01-02-02-24.wav\n",
      "03-01-08-02-01-01-24.wav\n",
      "03-01-08-02-01-02-24.wav\n",
      "03-01-08-02-02-01-24.wav\n",
      "03-01-08-02-02-02-24.wav\n",
      "[+] Number of training samples: 504\n",
      "[+] Number of testing samples: 168\n",
      "[+] Number of features: 180\n"
     ]
    }
   ],
   "source": [
    "X_train, X_test, y_train, y_test = load_data(test_size=0.25)\n",
    "# print some details\n",
    "# number of samples in training data\n",
    "print(\"[+] Number of training samples:\", X_train.shape[0])\n",
    "# number of samples in testing data\n",
    "print(\"[+] Number of testing samples:\", X_test.shape[0])\n",
    "# number of features used\n",
    "# this is a vector of features extracted \n",
    "# using utils.extract_features() method\n",
    "print(\"[+] Number of features:\", X_train.shape[1])"
   ]
  },
  {
   "cell_type": "markdown",
   "metadata": {
    "colab_type": "text",
    "id": "j-2WVGMZDPGu"
   },
   "source": [
    "**DECISION TREE**"
   ]
  },
  {
   "cell_type": "code",
   "execution_count": 7,
   "metadata": {
    "colab": {
     "base_uri": "https://localhost:8080/",
     "height": 289
    },
    "colab_type": "code",
    "id": "jo_-cYFVDMqB",
    "outputId": "80db6b34-3a64-410f-cb19-facf4e030351"
   },
   "outputs": [
    {
     "name": "stdout",
     "output_type": "stream",
     "text": [
      "0.6190476190476191\n",
      "Accuracy: 61.90%\n",
      "              precision    recall  f1-score   support\n",
      "\n",
      "       angry       0.83      0.66      0.73        61\n",
      "       happy       0.47      0.66      0.55        41\n",
      "     neutral       0.47      0.38      0.42        21\n",
      "         sad       0.63      0.64      0.64        45\n",
      "\n",
      "    accuracy                           0.62       168\n",
      "   macro avg       0.60      0.58      0.59       168\n",
      "weighted avg       0.65      0.62      0.62       168\n",
      "\n",
      "[[40 21  0  0]\n",
      " [ 2 27  5  7]\n",
      " [ 2  1  8 10]\n",
      " [ 4  8  4 29]]\n"
     ]
    }
   ],
   "source": [
    "from sklearn.tree import DecisionTreeClassifier \n",
    "from sklearn.metrics import accuracy_score\n",
    "from sklearn.metrics import classification_report\n",
    "from sklearn.metrics import confusion_matrix\n",
    "\n",
    "\n",
    "dtree_model = DecisionTreeClassifier(max_depth = 6).fit(X_train, y_train) \n",
    "dtree_predictions = dtree_model.predict(X_test) \n",
    "accuracy=accuracy_score(y_true=y_test,y_pred=dtree_predictions)\n",
    "print(accuracy_score(y_true=y_test,y_pred=dtree_predictions))\n",
    "print(\"Accuracy: {:.2f}%\".format(accuracy*100))\n",
    "print(classification_report(y_test,dtree_predictions)) \n",
    "# creating a confusion matrix \n",
    "print(confusion_matrix(y_test, dtree_predictions) )"
   ]
  },
  {
   "cell_type": "markdown",
   "metadata": {
    "colab_type": "text",
    "id": "64KjFNzqDqd-"
   },
   "source": [
    "**SUPPORT VECTOR MACHINE**"
   ]
  },
  {
   "cell_type": "code",
   "execution_count": 10,
   "metadata": {
    "colab": {
     "base_uri": "https://localhost:8080/",
     "height": 289
    },
    "colab_type": "code",
    "id": "81nRiRWwDxo2",
    "outputId": "cd39a985-8b31-47cb-db9d-09575ebcbb91"
   },
   "outputs": [
    {
     "name": "stdout",
     "output_type": "stream",
     "text": [
      "Accuracy: 61.90%\n",
      "              precision    recall  f1-score   support\n",
      "\n",
      "       angry       0.76      0.74      0.75        61\n",
      "       happy       0.46      0.54      0.49        41\n",
      "     neutral       0.56      0.48      0.51        21\n",
      "         sad       0.63      0.60      0.61        45\n",
      "\n",
      "    accuracy                           0.62       168\n",
      "   macro avg       0.60      0.59      0.59       168\n",
      "weighted avg       0.63      0.62      0.62       168\n",
      "\n",
      "[[45 11  1  4]\n",
      " [ 8 22  2  9]\n",
      " [ 1  7 10  3]\n",
      " [ 5  8  5 27]]\n"
     ]
    }
   ],
   "source": [
    "from sklearn.svm import SVC \n",
    "svm_model_linear = SVC(kernel = 'linear', C = 1).fit(X_train, y_train) \n",
    "svm_predictions = svm_model_linear.predict(X_test) \n",
    "\n",
    "accuracy=accuracy_score(y_true=y_test,y_pred=svm_predictions)\n",
    "print(\"Accuracy: {:.2f}%\".format(accuracy*100))\n",
    "print(classification_report(y_test,svm_predictions)) \n",
    "# creating a confusion matrix \n",
    "print(confusion_matrix(y_test, svm_predictions) )"
   ]
  },
  {
   "cell_type": "markdown",
   "metadata": {
    "colab_type": "text",
    "id": "0kfaciZaHcp2"
   },
   "source": [
    "**RANDOM FOREST**"
   ]
  },
  {
   "cell_type": "code",
   "execution_count": 9,
   "metadata": {
    "colab": {
     "base_uri": "https://localhost:8080/",
     "height": 289
    },
    "colab_type": "code",
    "id": "VjB-aXmmHAN3",
    "outputId": "c32564b3-b384-4110-bf6b-7a94e86b070e"
   },
   "outputs": [
    {
     "name": "stdout",
     "output_type": "stream",
     "text": [
      "0.7083333333333334\n",
      "Accuracy: 70.83%\n",
      "              precision    recall  f1-score   support\n",
      "\n",
      "       angry       0.93      0.85      0.89        61\n",
      "       happy       0.56      0.66      0.61        41\n",
      "     neutral       0.64      0.33      0.44        21\n",
      "         sad       0.62      0.73      0.67        45\n",
      "\n",
      "    accuracy                           0.71       168\n",
      "   macro avg       0.69      0.64      0.65       168\n",
      "weighted avg       0.72      0.71      0.71       168\n",
      "\n",
      "[[52  8  0  1]\n",
      " [ 4 27  2  8]\n",
      " [ 0  3  7 11]\n",
      " [ 0 10  2 33]]\n"
     ]
    }
   ],
   "source": [
    "from sklearn.ensemble import RandomForestClassifier\n",
    "  \n",
    " # create regressor object \n",
    "classifier = RandomForestClassifier(n_estimators = 100, random_state = 0) \n",
    "  \n",
    "# fit the regressor with x and y data \n",
    "classifier.fit(X_train, y_train)   \n",
    "\n",
    "c_p = classifier.predict(X_test) \n",
    "\n",
    "\n",
    "print(accuracy_score(y_true=y_test,y_pred=c_p))\n",
    "accuracy=accuracy_score(y_true=y_test,y_pred=c_p)\n",
    "print(\"Accuracy: {:.2f}%\".format(accuracy*100))\n",
    "accuracy_score(y_true=y_test,y_pred=svm_predictions)\n",
    "print(classification_report(y_test,c_p)) \n",
    "# creating a confusion matrix \n",
    "print(confusion_matrix(y_test,c_p) )"
   ]
  },
  {
   "cell_type": "code",
   "execution_count": 0,
   "metadata": {
    "colab": {},
    "colab_type": "code",
    "id": "xXzMm5uoKZJN"
   },
   "outputs": [],
   "source": []
  }
 ],
 "metadata": {
  "accelerator": "GPU",
  "colab": {
   "authorship_tag": "ABX9TyMOovI2U0ot8M87YGFf6HB8",
   "collapsed_sections": [],
   "include_colab_link": true,
   "name": "speechemotion_ml_algorithms.ipynb",
   "provenance": [],
   "toc_visible": true
  },
  "kernelspec": {
   "display_name": "Python 3 (ipykernel)",
   "language": "python",
   "name": "python3"
  },
  "language_info": {
   "codemirror_mode": {
    "name": "ipython",
    "version": 3
   },
   "file_extension": ".py",
   "mimetype": "text/x-python",
   "name": "python",
   "nbconvert_exporter": "python",
   "pygments_lexer": "ipython3",
   "version": "3.9.7"
  }
 },
 "nbformat": 4,
 "nbformat_minor": 1
}
